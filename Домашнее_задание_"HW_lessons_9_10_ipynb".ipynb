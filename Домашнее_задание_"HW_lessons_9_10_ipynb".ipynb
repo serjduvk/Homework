{
  "nbformat": 4,
  "nbformat_minor": 0,
  "metadata": {
    "colab": {
      "name": "Домашнее задание  \"HW_lessons_9-10.ipynb\"",
      "provenance": [],
      "collapsed_sections": [],
      "include_colab_link": true
    },
    "kernelspec": {
      "name": "python3",
      "display_name": "Python 3"
    }
  },
  "cells": [
    {
      "cell_type": "markdown",
      "metadata": {
        "id": "view-in-github",
        "colab_type": "text"
      },
      "source": [
        "<a href=\"https://colab.research.google.com/github/serjduvk/Homework/blob/master/%D0%94%D0%BE%D0%BC%D0%B0%D1%88%D0%BD%D0%B5%D0%B5_%D0%B7%D0%B0%D0%B4%D0%B0%D0%BD%D0%B8%D0%B5_%22HW_lessons_9_10_ipynb%22.ipynb\" target=\"_parent\"><img src=\"https://colab.research.google.com/assets/colab-badge.svg\" alt=\"Open In Colab\"/></a>"
      ]
    },
    {
      "cell_type": "markdown",
      "metadata": {
        "id": "SgxdX4L0dSw7"
      },
      "source": [
        "# Домашнее задание"
      ]
    },
    {
      "cell_type": "markdown",
      "metadata": {
        "id": "piodEhR7orUF"
      },
      "source": [
        "Ноутбук в колаб: https://colab.research.google.com/drive/1d-vvpJW8IWSPeodFnfaEVaZIQrys8uU0?usp=sharing"
      ]
    },
    {
      "cell_type": "markdown",
      "metadata": {
        "id": "r3_T-pcpnme8"
      },
      "source": [
        "**Дедлайн: 01.01.2021, 23:59**\n"
      ]
    },
    {
      "cell_type": "markdown",
      "metadata": {
        "id": "B2RmFtRDn5vy"
      },
      "source": [
        "Формат отчетности - jupyter notebook. Однако вычислять производные не обязательно в Markdown. Если вычисляете вручную, то дополнительно с ноутбуком, отправляйте pdf-файл с расписанным решением."
      ]
    },
    {
      "cell_type": "markdown",
      "metadata": {
        "id": "aCDx6dKzeEhp"
      },
      "source": [
        "### Пример реализации градиентного спуска: https://github.com/ddvika/Data-Science-School-2020/blob/main/lecture_9/gradient_methods.ipynb"
      ]
    },
    {
      "cell_type": "markdown",
      "metadata": {
        "id": "t-G1btbwoStu"
      },
      "source": [
        "# Задания"
      ]
    },
    {
      "cell_type": "markdown",
      "metadata": {
        "id": "B1XambpmoeIj"
      },
      "source": [
        "Перед выполнением ДЗ посмотрите на ноутбук, прикрепленный по ссылке выше. Там вы найдете реализацию градиентного спуска с постоянным и дробным шагом."
      ]
    },
    {
      "cell_type": "markdown",
      "metadata": {
        "id": "VnSTXgrueAp0"
      },
      "source": [
        "### Задание 1. [1 point]"
      ]
    },
    {
      "cell_type": "markdown",
      "metadata": {
        "id": "-XmQ1AO9f1Qz"
      },
      "source": [
        "Релизуйте градиентный спуск с постоянным шагом и с дробным шагом для функции\n",
        "$$\n",
        "y = x_{1}^{2}+5 x_{2}^{2}\n",
        "$$\n",
        "\n",
        "в произвольно выбранной Вами точке."
      ]
    },
    {
      "cell_type": "code",
      "metadata": {
        "id": "IkfUZQJXd_FF"
      },
      "source": [
        "import numpy as np\r\n",
        "import matplotlib.pyplot as plt\r\n",
        "\r\n",
        "\r\n",
        "def f(x):\r\n",
        "    return x[0]**2+5*x[1]**2\r\n",
        "    \r\n",
        "def grad_f(x):\r\n",
        "    return np.array([2*x[0], 10*x[1]])"
      ],
      "execution_count": 20,
      "outputs": []
    },
    {
      "cell_type": "markdown",
      "metadata": {
        "id": "zX2UVtOR45ed"
      },
      "source": [
        "\r\n",
        "Градиентный спуск с постоянным шагом"
      ]
    },
    {
      "cell_type": "markdown",
      "metadata": {
        "id": "OsNZLN6J41vg"
      },
      "source": [
        ""
      ]
    },
    {
      "cell_type": "code",
      "metadata": {
        "id": "YylMyISAxO3o"
      },
      "source": [
        "def grad_descent_const_step(x = np.array([0, 0]), alpha = 0.001, epsilon = 0.001):\r\n",
        "    grad = grad_f(x)\r\n",
        "    n = 0\r\n",
        "    check = 0\r\n",
        "    while (np.linalg.norm(grad) > epsilon) or (check < 3):\r\n",
        "        x = x - alpha*grad\r\n",
        "        grad = grad_f(x)\r\n",
        "        n+=1\r\n",
        "        if (np.linalg.norm(grad) <= epsilon): check +=1\r\n",
        "    print(\"Градиентный спуск с постоянным шагом выполнил {} шагов\".format(n))\r\n",
        "    print(\"Точка с координатами х1 = {}, x2 = {}\".format(x[0], x[1]))\r\n",
        "    return x"
      ],
      "execution_count": 53,
      "outputs": []
    },
    {
      "cell_type": "code",
      "metadata": {
        "colab": {
          "base_uri": "https://localhost:8080/"
        },
        "id": "YFwNNxrayS46",
        "outputId": "feb18311-f144-4d46-ef17-c21249ed03e8"
      },
      "source": [
        "x = grad_descent_const_step(alpha = 0.1)"
      ],
      "execution_count": 54,
      "outputs": [
        {
          "output_type": "stream",
          "text": [
            "Градиентный спуск с постоянным шагом выполнил 37 шагов\n",
            "Точка с координатами х1 = 0.0002596148429267415, x2 = 0.0\n"
          ],
          "name": "stdout"
        }
      ]
    },
    {
      "cell_type": "markdown",
      "metadata": {
        "id": "xX77OS5j5Fce"
      },
      "source": [
        "\r\n",
        "Градиентный спуск с дроблением шага"
      ]
    },
    {
      "cell_type": "code",
      "metadata": {
        "colab": {
          "base_uri": "https://localhost:8080/"
        },
        "id": "nPfvt2e7Wq8W",
        "outputId": "d40c1fd5-40c0-48bd-b443-d469f52c94a6"
      },
      "source": [
        "def grad_descent_step_splitting(x = np.array([2, 2]), alpha = 0.022, epsilon = 0.001, ksi = 0.5, lambda_d = 0.35):\r\n",
        "    grad = grad_f(x)\r\n",
        "    n = 0\r\n",
        "    n_alpha = 0\r\n",
        "    alpha_k = alpha\r\n",
        "    x_k0 = x\r\n",
        "    check = 0\r\n",
        "    while np.linalg.norm(grad) > epsilon or check < 3:\r\n",
        "        grad = grad_f(x_k0)\r\n",
        "        x_k1 = x_k0 - alpha_k*grad\r\n",
        "        while f(x_k1) - f(x_k0) > - alpha_k * ksi * (np.linalg.norm(grad)**2):\r\n",
        "            alpha_k *= lambda_d\r\n",
        "            x_k1 = x_k0 - alpha_k*grad\r\n",
        "            n_alpha+=1\r\n",
        "        x_k0 = x_k0 - alpha_k*grad\r\n",
        "        alpha_k = alpha\r\n",
        "        n+=1\r\n",
        "        if (np.linalg.norm(grad) <= epsilon): check +=1\r\n",
        "    x = x_k0\r\n",
        "    print(\"Градиентный спуск с дроблением шага выполнил {} шагов\".format(n))\r\n",
        "    print(\"Выполнено {} итераций дробления шага\".format(n_alpha))\r\n",
        "    print(\"Точка с координатами х1 = {}, x2 = {}\".format(x[0], x[1]))\r\n",
        "    return x\r\n",
        "\r\n",
        "a = grad_descent_step_splitting()"
      ],
      "execution_count": 26,
      "outputs": [
        {
          "output_type": "stream",
          "text": [
            "Градиентный спуск с дроблением шага выполнил 188 шагов\n",
            "Выполнено 0 итераций дробления шага\n",
            "Точка с координатами х1 = 0.0004237539344739767, x2 = 1.034702030801644e-20\n"
          ],
          "name": "stdout"
        }
      ]
    },
    {
      "cell_type": "markdown",
      "metadata": {
        "id": "ucbvMBsdgOwV"
      },
      "source": [
        "### Задание 2. [3 points]\n",
        "\n",
        "Для функции из предыдущего задания реализуйте градиентный спуск, в котором значение шага (скорости обучения) будет изменяться по формуле циклического косинусного ожига. ( в англ. литературе - cosine annealing learning rate или cosine decay lr). \n",
        "\n",
        "Доп. литература:\n",
        "- Циклический косинусный отжиг https://habr.com/ru/post/332534/\n",
        "\n",
        "- Пример colise decay в библиотеке Pytorch:\n",
        "https://www.programmersought.com/article/12164650026/"
      ]
    },
    {
      "cell_type": "markdown",
      "metadata": {
        "id": "cmiRkNscTrOZ"
      },
      "source": [
        "Градиентный спуск с циклическим косинусным ожигом "
      ]
    },
    {
      "cell_type": "code",
      "metadata": {
        "colab": {
          "base_uri": "https://localhost:8080/"
        },
        "id": "Ef_Tg5AlTrOb",
        "outputId": "6cac9b75-8091-4311-a978-66eab121a49d"
      },
      "source": [
        "def grad_descent_cos_ojig(x = np.array([2, 2]), alpha = 0.001, T=10000 ,M = 10):\r\n",
        "    grad = grad_f(x)\r\n",
        "    n = 0\r\n",
        "    n_alpha = 0\r\n",
        "    alpha_k = alpha\r\n",
        "    x_k0 = x\r\n",
        "    while n_alpha < T:\r\n",
        "        alpha_k = alpha_k/2*(np.cos((np.pi*(n_alpha-1)%(T/M))/(T/M))+1)\r\n",
        "        x_k0 = x_k0 - alpha_k*grad\r\n",
        "        n_alpha+=1\r\n",
        "                      \r\n",
        "    x = x_k0\r\n",
        "    \r\n",
        "    print(\"Выполнено {} итераций\".format(n_alpha))\r\n",
        "    print(\"Точка с координатами х1 = {}, x2 = {}\".format(x[0], x[1]))\r\n",
        "    return x\r\n",
        "\r\n",
        "a = grad_descent_cos_ojig()"
      ],
      "execution_count": 15,
      "outputs": [
        {
          "output_type": "stream",
          "text": [
            "Выполнено 10000 итераций\n",
            "Точка с координатами х1 = 1.7031064726497134, x2 = 0.5155323632485631\n"
          ],
          "name": "stdout"
        }
      ]
    },
    {
      "cell_type": "markdown",
      "metadata": {
        "id": "d2Non6JiiVoJ"
      },
      "source": [
        "### Задание 3. [0.75 point]\n",
        "Проверьте работу Вашего градиентного спуска с косинусным отжигом на произвольной функции ( полином должен быть не меньше 3-ьего порядка и задан в пространстве не меньше $R^3$)."
      ]
    },
    {
      "cell_type": "code",
      "metadata": {
        "id": "-mPS2mUaKf9V"
      },
      "source": [
        "def f(x):\r\n",
        "    return x[0]**2+5*x[1]**2+3*x[2]\r\n",
        "    \r\n",
        "def grad_f(x):\r\n",
        "    return np.array([2*x[0], 10*x[1]], 6*x[2])"
      ],
      "execution_count": 27,
      "outputs": []
    },
    {
      "cell_type": "code",
      "metadata": {
        "colab": {
          "base_uri": "https://localhost:8080/",
          "height": 313
        },
        "id": "zZJckmImLwyA",
        "outputId": "4d001200-d505-42fd-e13f-e079d46d61fb"
      },
      "source": [
        "def grad_descent_cos_ojig(x = np.array([2, 2, 6]), alpha = 0.001, T=10000 ,M = 10):\r\n",
        "    grad = grad_f(x)\r\n",
        "    n = 0\r\n",
        "    n_alpha = 0\r\n",
        "    alpha_k = alpha\r\n",
        "    x_k0 = x\r\n",
        "    while n_alpha < T:\r\n",
        "        alpha_k = alpha_k/2*(np.cos((np.pi*(n_alpha-1)%(T/M))/(T/M))+1)\r\n",
        "        x_k0 = x_k0 - alpha_k*grad\r\n",
        "        n_alpha+=1\r\n",
        "                      \r\n",
        "    x = x_k0\r\n",
        "    \r\n",
        "    print(\"Выполнено {} итераций\".format(n_alpha))\r\n",
        "    print(\"Точка с координатами х1 = {}, x2 = {}, x3={}\".format(x[0], x[1], x[2]))\r\n",
        "    return x\r\n",
        "\r\n",
        "a = grad_descent_cos_ojig()"
      ],
      "execution_count": 29,
      "outputs": [
        {
          "output_type": "error",
          "ename": "ValueError",
          "evalue": "ignored",
          "traceback": [
            "\u001b[0;31m---------------------------------------------------------------------------\u001b[0m",
            "\u001b[0;31mValueError\u001b[0m                                Traceback (most recent call last)",
            "\u001b[0;32m<ipython-input-29-513180e5d6ae>\u001b[0m in \u001b[0;36m<module>\u001b[0;34m()\u001b[0m\n\u001b[1;32m     16\u001b[0m     \u001b[0;32mreturn\u001b[0m \u001b[0mx\u001b[0m\u001b[0;34m\u001b[0m\u001b[0;34m\u001b[0m\u001b[0m\n\u001b[1;32m     17\u001b[0m \u001b[0;34m\u001b[0m\u001b[0m\n\u001b[0;32m---> 18\u001b[0;31m \u001b[0ma\u001b[0m \u001b[0;34m=\u001b[0m \u001b[0mgrad_descent_cos_ojig\u001b[0m\u001b[0;34m(\u001b[0m\u001b[0;34m)\u001b[0m\u001b[0;34m\u001b[0m\u001b[0;34m\u001b[0m\u001b[0m\n\u001b[0m",
            "\u001b[0;32m<ipython-input-29-513180e5d6ae>\u001b[0m in \u001b[0;36mgrad_descent_cos_ojig\u001b[0;34m(x, alpha, T, M)\u001b[0m\n\u001b[1;32m      7\u001b[0m     \u001b[0;32mwhile\u001b[0m \u001b[0mn_alpha\u001b[0m \u001b[0;34m<\u001b[0m \u001b[0mT\u001b[0m\u001b[0;34m:\u001b[0m\u001b[0;34m\u001b[0m\u001b[0;34m\u001b[0m\u001b[0m\n\u001b[1;32m      8\u001b[0m         \u001b[0malpha_k\u001b[0m \u001b[0;34m=\u001b[0m \u001b[0malpha_k\u001b[0m\u001b[0;34m/\u001b[0m\u001b[0;36m2\u001b[0m\u001b[0;34m*\u001b[0m\u001b[0;34m(\u001b[0m\u001b[0mnp\u001b[0m\u001b[0;34m.\u001b[0m\u001b[0mcos\u001b[0m\u001b[0;34m(\u001b[0m\u001b[0;34m(\u001b[0m\u001b[0mnp\u001b[0m\u001b[0;34m.\u001b[0m\u001b[0mpi\u001b[0m\u001b[0;34m*\u001b[0m\u001b[0;34m(\u001b[0m\u001b[0mn_alpha\u001b[0m\u001b[0;34m-\u001b[0m\u001b[0;36m1\u001b[0m\u001b[0;34m)\u001b[0m\u001b[0;34m%\u001b[0m\u001b[0;34m(\u001b[0m\u001b[0mT\u001b[0m\u001b[0;34m/\u001b[0m\u001b[0mM\u001b[0m\u001b[0;34m)\u001b[0m\u001b[0;34m)\u001b[0m\u001b[0;34m/\u001b[0m\u001b[0;34m(\u001b[0m\u001b[0mT\u001b[0m\u001b[0;34m/\u001b[0m\u001b[0mM\u001b[0m\u001b[0;34m)\u001b[0m\u001b[0;34m)\u001b[0m\u001b[0;34m+\u001b[0m\u001b[0;36m1\u001b[0m\u001b[0;34m)\u001b[0m\u001b[0;34m\u001b[0m\u001b[0;34m\u001b[0m\u001b[0m\n\u001b[0;32m----> 9\u001b[0;31m         \u001b[0mx_k0\u001b[0m \u001b[0;34m=\u001b[0m \u001b[0mx_k0\u001b[0m \u001b[0;34m-\u001b[0m \u001b[0malpha_k\u001b[0m\u001b[0;34m*\u001b[0m\u001b[0mgrad\u001b[0m\u001b[0;34m\u001b[0m\u001b[0;34m\u001b[0m\u001b[0m\n\u001b[0m\u001b[1;32m     10\u001b[0m         \u001b[0mn_alpha\u001b[0m\u001b[0;34m+=\u001b[0m\u001b[0;36m1\u001b[0m\u001b[0;34m\u001b[0m\u001b[0;34m\u001b[0m\u001b[0m\n\u001b[1;32m     11\u001b[0m \u001b[0;34m\u001b[0m\u001b[0m\n",
            "\u001b[0;31mValueError\u001b[0m: operands could not be broadcast together with shapes (3,) (2,) "
          ]
        }
      ]
    },
    {
      "cell_type": "markdown",
      "metadata": {
        "id": "gSCgRlBa2bcT"
      },
      "source": [
        "### Задание 4.\n",
        "Дана следующая плотность вероятности для случайной величины Х:\n",
        "$$\n",
        "f(x)=\\left\\{\\begin{array}{r}\n",
        "0 \\text { npu } x \\leq \\pi \\\\\n",
        "-\\cos x \\text { npu } \\pi<x \\leq \\frac{3}{2} \\pi \\\\\n",
        "\\text { 0 npu } x>\\frac{3}{2} \\pi\n",
        "\\end{array}\\right.\n",
        "$$\n",
        "\n",
        "1. Постройте график данной плотности вероятности **[0.25 point]**\n",
        "\n",
        "2. Определить вероятность попадания случайной величины X в интервал $\\left[\\pi, \\frac{5}{4} \\pi\\right]$ **[0.75 point]**\n",
        "\n",
        "3. Найти математическое ожидание и дисперсию случайной величины X . **[0.75 point]**\n",
        "\n",
        "Так как мы не проходили интегрирование, то в 2 и 3 пунктах можете использовать\n",
        "wolfram alpha (https://www.wolframalpha.com) для интегрирования. "
      ]
    },
    {
      "cell_type": "code",
      "metadata": {
        "id": "VVfW6Ekaa8oG"
      },
      "source": [
        "# библиотека для генерации случаных чисел\r\n",
        "import random\r\n",
        "# тут лежат некоторые математические функции\r\n",
        "import math\r\n",
        "\r\n",
        "# для работы с таблицами: DataFrame, Series\r\n",
        "import pandas as pd\r\n",
        "# для работы с массивами и матрицами чисел, некоторые статистические функции\r\n",
        "import numpy as np\r\n",
        "# тут лежат функции распределения случайных величин\r\n",
        "from scipy import stats\r\n",
        "\r\n",
        "# БЛОК ДЛИ РИСОВАНИЯ ГРАФИКОВ\r\n",
        "# основная библиотека для рисования\r\n",
        "import matplotlib.pyplot as plt\r\n",
        "# дизайн картинок\r\n",
        "plt.style.use('seaborn')\r\n",
        "# позволяем отрисовавать картинки сразу в ноутбуке\r\n",
        "%matplotlib inline\r\n",
        "# Импортируем Seaborn:\r\n",
        "import seaborn as sns"
      ],
      "execution_count": 2,
      "outputs": []
    },
    {
      "cell_type": "code",
      "metadata": {
        "colab": {
          "base_uri": "https://localhost:8080/",
          "height": 282
        },
        "id": "2AOtOsgqiFC-",
        "outputId": "7041c7e7-becb-4219-93bb-b895da5b3858"
      },
      "source": [
        "#функция плотности распределения \r\n",
        "x = np.arange(2, 6, 0.01)\r\n",
        "\r\n",
        "def F(x):\r\n",
        "    return 0 if x <= np.pi else  0 if x > 3*np.pi/2 else -np.cos(x)\r\n",
        "\r\n",
        "plt.plot(x, np.array([F(y) for y in x]))\r\n"
      ],
      "execution_count": 23,
      "outputs": [
        {
          "output_type": "execute_result",
          "data": {
            "text/plain": [
              "[<matplotlib.lines.Line2D at 0x7fd048976780>]"
            ]
          },
          "metadata": {
            "tags": []
          },
          "execution_count": 23
        },
        {
          "output_type": "display_data",
          "data": {
            "image/png": "[encoded data removed]",
            "text/plain": [
              "<Figure size 432x288 with 1 Axes>"
            ]
          },
          "metadata": {
            "tags": [],
            "needs_background": "light"
          }
        }
      ]
    },
    {
      "cell_type": "markdown",
      "metadata": {
        "id": "UmTvoF_fjMtz"
      },
      "source": [
        "вероятность попадания случайной величины X в интервал $\\left[\\pi, \\frac{5}{4} \\pi\\right]$"
      ]
    },
    {
      "cell_type": "markdown",
      "metadata": {
        "id": "sI2tzKsb1hvm"
      },
      "source": [
        "\n",
        "\n",
        "$$\n",
        "P(\\pi \\leq X \\leq \\frac{5}{4} \\pi)=\\int_{\\pi}^{\\frac{5}{4}\\pi} -cos(x) d x = 1\n",
        "$$"
      ]
    },
    {
      "cell_type": "markdown",
      "metadata": {
        "id": "lancaVE43g9s"
      },
      "source": [
        "Найти математическое ожидание и дисперсию случайной величины X"
      ]
    },
    {
      "cell_type": "markdown",
      "metadata": {
        "id": "eb9p562M6BPh"
      },
      "source": [
        "$$\r\n",
        "M(X) =\\int_{\\pi}^{\\frac{3}{2}\\pi} x(-cos(x)) d x = 3.71\r\n",
        "$$\r\n"
      ]
    },
    {
      "cell_type": "markdown",
      "metadata": {
        "id": "d-q_Ru2aAPlH"
      },
      "source": [
        "$$\r\n",
        "D(X) =\\int_{\\pi}^{\\frac{3}{2}\\pi} x^2(-cos(x)) d x-(M(X))^2 = 13.92-3.71^2=0.15\r\n",
        "$$"
      ]
    },
    {
      "cell_type": "markdown",
      "metadata": {
        "id": "-LrqILMHkgTd"
      },
      "source": [
        "### Задание 5 [1.5 point]\n",
        "\n",
        " Случайная величина Х задана функцией распределения F(x).\n",
        "\n",
        " $$F(x)=\\left\\{\\begin{array}{c}0, x \\leq 1 \\\\ x-1,1<x \\leq 2 \\\\ 1, x>2\\end{array}\\right.$$\n",
        "\n",
        " 1. Является ли случайная величина Х непрерывной?\n",
        "\n",
        " 2. имеет ли случайная величина Х плотность вероятности f(X)? Если имеет, найти ее. \n",
        " 3. постройте графики f(X) и F(X), если такое возможно.\n"
      ]
    },
    {
      "cell_type": "code",
      "metadata": {
        "colab": {
          "base_uri": "https://localhost:8080/",
          "height": 282
        },
        "id": "fdYC20gBF2V3",
        "outputId": "53b30ccf-1a30-43ee-d966-0ff041f1aa04"
      },
      "source": [
        "x = np.arange(0, 3, 0.01)\r\n",
        "\r\n",
        "def F(x):\r\n",
        "    return 0 if x <= 1 else  1 if x > 2 else x-1\r\n",
        "\r\n",
        "plt.plot(x, np.array([F(y) for y in x]))"
      ],
      "execution_count": 4,
      "outputs": [
        {
          "output_type": "execute_result",
          "data": {
            "text/plain": [
              "[<matplotlib.lines.Line2D at 0x7fab1c9b4470>]"
            ]
          },
          "metadata": {
            "tags": []
          },
          "execution_count": 4
        },
        {
          "output_type": "display_data",
          "data": {
            "image/png": "[encoded data removed]",
            "text/plain": [
              "<Figure size 432x288 with 1 Axes>"
            ]
          },
          "metadata": {
            "tags": [],
            "needs_background": "light"
          }
        }
      ]
    },
    {
      "cell_type": "code",
      "metadata": {
        "colab": {
          "base_uri": "https://localhost:8080/",
          "height": 282
        },
        "id": "qEkFyliIGpwX",
        "outputId": "952c74da-98e8-47c9-dfa8-b18b86ec70d6"
      },
      "source": [
        "#плотность\r\n",
        "x = np.arange(0, 3, 0.01)\r\n",
        "\r\n",
        "def F(x):\r\n",
        "    return 0 if x <= 1 else  0 if x > 2 else 1\r\n",
        "\r\n",
        "plt.plot(x, np.array([F(y) for y in x]))"
      ],
      "execution_count": 5,
      "outputs": [
        {
          "output_type": "execute_result",
          "data": {
            "text/plain": [
              "[<matplotlib.lines.Line2D at 0x7fab1c920550>]"
            ]
          },
          "metadata": {
            "tags": []
          },
          "execution_count": 5
        },
        {
          "output_type": "display_data",
          "data": {
            "image/png": "[encoded data removed]",
            "text/plain": [
              "<Figure size 432x288 with 1 Axes>"
            ]
          },
          "metadata": {
            "tags": [],
            "needs_background": "light"
          }
        }
      ]
    },
    {
      "cell_type": "markdown",
      "metadata": {
        "id": "xzQy9iYWmGD5"
      },
      "source": [
        "### Задание 6\n",
        "\n",
        "Рассмотрим несбалансированный набор данных с соотношением меньшего класса к большему 1: 100, где 100 экземпляров принадлежит меньшему классу, а 10 000 большему.\n",
        "\n",
        "Модель ML делает прогнозы и предсказывает 120 примеров как принадлежащих к классу меньшинства, 90 из которых верны, а 30 - неверны.\n",
        "\n",
        "Найти:\n",
        "\n",
        "- Precision **[0.5 point]**\n",
        "- Recall **[0.5 point]**\n",
        "- $F_1$ метрику **[0.5 point]**"
      ]
    },
    {
      "cell_type": "markdown",
      "metadata": {
        "id": "6za_MDTF418v"
      },
      "source": [
        "Precision = 90/(90+30) = 0.75\r\n",
        "\r\n",
        "Recal = 90/(90+0)= 1\r\n",
        "\r\n",
        "F1 = 2*0.75*1/(0.75+1)=0.85 "
      ]
    }
  ]
}