{
  "nbformat": 4,
  "nbformat_minor": 0,
  "metadata": {
    "colab": {
      "name": "Копия блокнота \"Part_1.Intro_to_SQL.ipynb\"",
      "provenance": [],
      "collapsed_sections": [],
      "include_colab_link": true
    },
    "kernelspec": {
      "display_name": "Python 3",
      "name": "python3"
    }
  },
  "cells": [
    {
      "cell_type": "markdown",
      "metadata": {
        "id": "view-in-github",
        "colab_type": "text"
      },
      "source": [
        "<a href=\"https://colab.research.google.com/github/serjduvk/Homework/blob/master/%D0%9A%D0%BE%D0%BF%D0%B8%D1%8F_%D0%B1%D0%BB%D0%BE%D0%BA%D0%BD%D0%BE%D1%82%D0%B0_%22Part_1_Intro_to_SQL_ipynb%22.ipynb\" target=\"_parent\"><img src=\"https://colab.research.google.com/assets/colab-badge.svg\" alt=\"Open In Colab\"/></a>"
      ]
    },
    {
      "cell_type": "markdown",
      "metadata": {
        "id": "80t2tnksleip"
      },
      "source": [
        "# План занятия\n",
        " - Локальные БД. Работа с библиотекой sqlite3\n",
        " - Представление БД с использованием Pandas\n",
        " - Удаленные БД. Работа с библиотекой SQLAlchemy"
      ]
    },
    {
      "cell_type": "markdown",
      "metadata": {
        "id": "sB8DjZif3tZA"
      },
      "source": [
        "# Введение\n",
        "\n",
        "База данных может храниться локально, на том же компьютере, на котором запускается прикладное программное обеспечение для работы с базой данных или на удаленном компьютере.\n",
        "\n",
        "Google Colab (точнее Python, запускаемый в среде Google Colab) позволяет работать и с условно «локальной» базой данных и с базой данных на удаленном сервере. \n",
        "- В первом случае может использоваться СУБД **SQLite**, которая будет хранится на облачном диске Google Drive. Для среды Google Colab это будет локальная БД.\n",
        "- В случае работы с удаленной БД можно использовать **SQLAlchemy**.\n",
        "\n",
        "Оба модуля **SQLite** и **SQLAlchemy** рассмотрим ниже."
      ]
    },
    {
      "cell_type": "markdown",
      "metadata": {
        "id": "ua_DcBGgE-rm"
      },
      "source": [
        "# SQLite\n",
        "\n",
        "**SQLite** — компактная встраиваемая реляционная база данных. Является чисто реляционной базой данных.\n",
        "\n",
        "Слово «встраиваемый» означает, что SQLite **не использует парадигму клиент-сервер.** Модуль sqlite3 входит в установочный пакет языка Python, является компонентом стандартной библиотеки и не требует отдельной загрузки и установки."
      ]
    },
    {
      "cell_type": "markdown",
      "metadata": {
        "id": "Q1eGsLrqktGT"
      },
      "source": [
        "Pipeline для работы с БД при помощи библиотеки SQLite"
      ]
    },
    {
      "cell_type": "markdown",
      "metadata": {
        "id": "xwDpJHvGk1VI"
      },
      "source": [
        "``` \n",
        "import sqlite3\n",
        "\n",
        "conn = sqlite3.connect(path)\n",
        "\n",
        "cursor = conn.cursor()\n",
        "\n",
        "# Работа с БД\n",
        "# ...\n",
        "# ...\n",
        "\n",
        "cursor.close()\n",
        "conn.close()\n",
        "```"
      ]
    },
    {
      "cell_type": "markdown",
      "metadata": {
        "id": "uBs-HtlahVnd"
      },
      "source": [
        "## Подключение к базе данных"
      ]
    },
    {
      "cell_type": "markdown",
      "metadata": {
        "id": "L_jaMIJM3j_K"
      },
      "source": [
        "Для доступа к диску Google Drive сервису Google Colab необходимо дать разрешение на подключение к диску.\n",
        "\n",
        "Для подключения и разрешения доступа Google Colab к диску Google Drive используем следующий код:"
      ]
    },
    {
      "cell_type": "code",
      "metadata": {
        "colab": {
          "base_uri": "https://localhost:8080/",
          "height": 547
        },
        "id": "dAglsJlB3OLq",
        "outputId": "90f3b21f-521e-41ac-e896-bb24d331beb8"
      },
      "source": [
        "from google.colab import drive\n",
        "drive.mount('/content/drive')"
      ],
      "execution_count": null,
      "outputs": [
        {
          "output_type": "error",
          "ename": "KeyboardInterrupt",
          "evalue": "ignored",
          "traceback": [
            "\u001b[0;31m---------------------------------------------------------------------------\u001b[0m",
            "\u001b[0;31mKeyboardInterrupt\u001b[0m                         Traceback (most recent call last)",
            "\u001b[0;32m/usr/local/lib/python3.6/dist-packages/ipykernel/kernelbase.py\u001b[0m in \u001b[0;36m_input_request\u001b[0;34m(self, prompt, ident, parent, password)\u001b[0m\n\u001b[1;32m    728\u001b[0m             \u001b[0;32mtry\u001b[0m\u001b[0;34m:\u001b[0m\u001b[0;34m\u001b[0m\u001b[0;34m\u001b[0m\u001b[0m\n\u001b[0;32m--> 729\u001b[0;31m                 \u001b[0mident\u001b[0m\u001b[0;34m,\u001b[0m \u001b[0mreply\u001b[0m \u001b[0;34m=\u001b[0m \u001b[0mself\u001b[0m\u001b[0;34m.\u001b[0m\u001b[0msession\u001b[0m\u001b[0;34m.\u001b[0m\u001b[0mrecv\u001b[0m\u001b[0;34m(\u001b[0m\u001b[0mself\u001b[0m\u001b[0;34m.\u001b[0m\u001b[0mstdin_socket\u001b[0m\u001b[0;34m,\u001b[0m \u001b[0;36m0\u001b[0m\u001b[0;34m)\u001b[0m\u001b[0;34m\u001b[0m\u001b[0;34m\u001b[0m\u001b[0m\n\u001b[0m\u001b[1;32m    730\u001b[0m             \u001b[0;32mexcept\u001b[0m \u001b[0mException\u001b[0m\u001b[0;34m:\u001b[0m\u001b[0;34m\u001b[0m\u001b[0;34m\u001b[0m\u001b[0m\n",
            "\u001b[0;32m/usr/local/lib/python3.6/dist-packages/jupyter_client/session.py\u001b[0m in \u001b[0;36mrecv\u001b[0;34m(self, socket, mode, content, copy)\u001b[0m\n\u001b[1;32m    802\u001b[0m         \u001b[0;32mtry\u001b[0m\u001b[0;34m:\u001b[0m\u001b[0;34m\u001b[0m\u001b[0;34m\u001b[0m\u001b[0m\n\u001b[0;32m--> 803\u001b[0;31m             \u001b[0mmsg_list\u001b[0m \u001b[0;34m=\u001b[0m \u001b[0msocket\u001b[0m\u001b[0;34m.\u001b[0m\u001b[0mrecv_multipart\u001b[0m\u001b[0;34m(\u001b[0m\u001b[0mmode\u001b[0m\u001b[0;34m,\u001b[0m \u001b[0mcopy\u001b[0m\u001b[0;34m=\u001b[0m\u001b[0mcopy\u001b[0m\u001b[0;34m)\u001b[0m\u001b[0;34m\u001b[0m\u001b[0;34m\u001b[0m\u001b[0m\n\u001b[0m\u001b[1;32m    804\u001b[0m         \u001b[0;32mexcept\u001b[0m \u001b[0mzmq\u001b[0m\u001b[0;34m.\u001b[0m\u001b[0mZMQError\u001b[0m \u001b[0;32mas\u001b[0m \u001b[0me\u001b[0m\u001b[0;34m:\u001b[0m\u001b[0;34m\u001b[0m\u001b[0;34m\u001b[0m\u001b[0m\n",
            "\u001b[0;32m/usr/local/lib/python3.6/dist-packages/zmq/sugar/socket.py\u001b[0m in \u001b[0;36mrecv_multipart\u001b[0;34m(self, flags, copy, track)\u001b[0m\n\u001b[1;32m    565\u001b[0m         \"\"\"\n\u001b[0;32m--> 566\u001b[0;31m         \u001b[0mparts\u001b[0m \u001b[0;34m=\u001b[0m \u001b[0;34m[\u001b[0m\u001b[0mself\u001b[0m\u001b[0;34m.\u001b[0m\u001b[0mrecv\u001b[0m\u001b[0;34m(\u001b[0m\u001b[0mflags\u001b[0m\u001b[0;34m,\u001b[0m \u001b[0mcopy\u001b[0m\u001b[0;34m=\u001b[0m\u001b[0mcopy\u001b[0m\u001b[0;34m,\u001b[0m \u001b[0mtrack\u001b[0m\u001b[0;34m=\u001b[0m\u001b[0mtrack\u001b[0m\u001b[0;34m)\u001b[0m\u001b[0;34m]\u001b[0m\u001b[0;34m\u001b[0m\u001b[0;34m\u001b[0m\u001b[0m\n\u001b[0m\u001b[1;32m    567\u001b[0m         \u001b[0;31m# have first part already, only loop while more to receive\u001b[0m\u001b[0;34m\u001b[0m\u001b[0;34m\u001b[0m\u001b[0;34m\u001b[0m\u001b[0m\n",
            "\u001b[0;32mzmq/backend/cython/socket.pyx\u001b[0m in \u001b[0;36mzmq.backend.cython.socket.Socket.recv\u001b[0;34m()\u001b[0m\n",
            "\u001b[0;32mzmq/backend/cython/socket.pyx\u001b[0m in \u001b[0;36mzmq.backend.cython.socket.Socket.recv\u001b[0;34m()\u001b[0m\n",
            "\u001b[0;32mzmq/backend/cython/socket.pyx\u001b[0m in \u001b[0;36mzmq.backend.cython.socket._recv_copy\u001b[0;34m()\u001b[0m\n",
            "\u001b[0;32m/usr/local/lib/python3.6/dist-packages/zmq/backend/cython/checkrc.pxd\u001b[0m in \u001b[0;36mzmq.backend.cython.checkrc._check_rc\u001b[0;34m()\u001b[0m\n",
            "\u001b[0;31mKeyboardInterrupt\u001b[0m: ",
            "\nDuring handling of the above exception, another exception occurred:\n",
            "\u001b[0;31mKeyboardInterrupt\u001b[0m                         Traceback (most recent call last)",
            "\u001b[0;32m<ipython-input-1-d5df0069828e>\u001b[0m in \u001b[0;36m<module>\u001b[0;34m()\u001b[0m\n\u001b[1;32m      1\u001b[0m \u001b[0;32mfrom\u001b[0m \u001b[0mgoogle\u001b[0m\u001b[0;34m.\u001b[0m\u001b[0mcolab\u001b[0m \u001b[0;32mimport\u001b[0m \u001b[0mdrive\u001b[0m\u001b[0;34m\u001b[0m\u001b[0;34m\u001b[0m\u001b[0m\n\u001b[0;32m----> 2\u001b[0;31m \u001b[0mdrive\u001b[0m\u001b[0;34m.\u001b[0m\u001b[0mmount\u001b[0m\u001b[0;34m(\u001b[0m\u001b[0;34m'/content/drive'\u001b[0m\u001b[0;34m)\u001b[0m\u001b[0;34m\u001b[0m\u001b[0;34m\u001b[0m\u001b[0m\n\u001b[0m",
            "\u001b[0;32m/usr/local/lib/python3.6/dist-packages/google/colab/drive.py\u001b[0m in \u001b[0;36mmount\u001b[0;34m(mountpoint, force_remount, timeout_ms, use_metadata_server)\u001b[0m\n\u001b[1;32m    253\u001b[0m       \u001b[0;32mwith\u001b[0m \u001b[0m_output\u001b[0m\u001b[0;34m.\u001b[0m\u001b[0muse_tags\u001b[0m\u001b[0;34m(\u001b[0m\u001b[0;34m'dfs-auth-dance'\u001b[0m\u001b[0;34m)\u001b[0m\u001b[0;34m:\u001b[0m\u001b[0;34m\u001b[0m\u001b[0;34m\u001b[0m\u001b[0m\n\u001b[1;32m    254\u001b[0m         \u001b[0;32mwith\u001b[0m \u001b[0mopen\u001b[0m\u001b[0;34m(\u001b[0m\u001b[0mfifo\u001b[0m\u001b[0;34m,\u001b[0m \u001b[0;34m'w'\u001b[0m\u001b[0;34m)\u001b[0m \u001b[0;32mas\u001b[0m \u001b[0mfifo_file\u001b[0m\u001b[0;34m:\u001b[0m\u001b[0;34m\u001b[0m\u001b[0;34m\u001b[0m\u001b[0m\n\u001b[0;32m--> 255\u001b[0;31m           \u001b[0mfifo_file\u001b[0m\u001b[0;34m.\u001b[0m\u001b[0mwrite\u001b[0m\u001b[0;34m(\u001b[0m\u001b[0mget_code\u001b[0m\u001b[0;34m(\u001b[0m\u001b[0mauth_prompt\u001b[0m\u001b[0;34m)\u001b[0m \u001b[0;34m+\u001b[0m \u001b[0;34m'\\n'\u001b[0m\u001b[0;34m)\u001b[0m\u001b[0;34m\u001b[0m\u001b[0;34m\u001b[0m\u001b[0m\n\u001b[0m\u001b[1;32m    256\u001b[0m       \u001b[0mwrote_to_fifo\u001b[0m \u001b[0;34m=\u001b[0m \u001b[0;32mTrue\u001b[0m\u001b[0;34m\u001b[0m\u001b[0;34m\u001b[0m\u001b[0m\n\u001b[1;32m    257\u001b[0m     \u001b[0;32melif\u001b[0m \u001b[0mcase\u001b[0m \u001b[0;34m==\u001b[0m \u001b[0;36m5\u001b[0m\u001b[0;34m:\u001b[0m\u001b[0;34m\u001b[0m\u001b[0;34m\u001b[0m\u001b[0m\n",
            "\u001b[0;32m/usr/local/lib/python3.6/dist-packages/ipykernel/kernelbase.py\u001b[0m in \u001b[0;36mraw_input\u001b[0;34m(self, prompt)\u001b[0m\n\u001b[1;32m    702\u001b[0m             \u001b[0mself\u001b[0m\u001b[0;34m.\u001b[0m\u001b[0m_parent_ident\u001b[0m\u001b[0;34m,\u001b[0m\u001b[0;34m\u001b[0m\u001b[0;34m\u001b[0m\u001b[0m\n\u001b[1;32m    703\u001b[0m             \u001b[0mself\u001b[0m\u001b[0;34m.\u001b[0m\u001b[0m_parent_header\u001b[0m\u001b[0;34m,\u001b[0m\u001b[0;34m\u001b[0m\u001b[0;34m\u001b[0m\u001b[0m\n\u001b[0;32m--> 704\u001b[0;31m             \u001b[0mpassword\u001b[0m\u001b[0;34m=\u001b[0m\u001b[0;32mFalse\u001b[0m\u001b[0;34m,\u001b[0m\u001b[0;34m\u001b[0m\u001b[0;34m\u001b[0m\u001b[0m\n\u001b[0m\u001b[1;32m    705\u001b[0m         )\n\u001b[1;32m    706\u001b[0m \u001b[0;34m\u001b[0m\u001b[0m\n",
            "\u001b[0;32m/usr/local/lib/python3.6/dist-packages/ipykernel/kernelbase.py\u001b[0m in \u001b[0;36m_input_request\u001b[0;34m(self, prompt, ident, parent, password)\u001b[0m\n\u001b[1;32m    732\u001b[0m             \u001b[0;32mexcept\u001b[0m \u001b[0mKeyboardInterrupt\u001b[0m\u001b[0;34m:\u001b[0m\u001b[0;34m\u001b[0m\u001b[0;34m\u001b[0m\u001b[0m\n\u001b[1;32m    733\u001b[0m                 \u001b[0;31m# re-raise KeyboardInterrupt, to truncate traceback\u001b[0m\u001b[0;34m\u001b[0m\u001b[0;34m\u001b[0m\u001b[0;34m\u001b[0m\u001b[0m\n\u001b[0;32m--> 734\u001b[0;31m                 \u001b[0;32mraise\u001b[0m \u001b[0mKeyboardInterrupt\u001b[0m\u001b[0;34m\u001b[0m\u001b[0;34m\u001b[0m\u001b[0m\n\u001b[0m\u001b[1;32m    735\u001b[0m             \u001b[0;32melse\u001b[0m\u001b[0;34m:\u001b[0m\u001b[0;34m\u001b[0m\u001b[0;34m\u001b[0m\u001b[0m\n\u001b[1;32m    736\u001b[0m                 \u001b[0;32mbreak\u001b[0m\u001b[0;34m\u001b[0m\u001b[0;34m\u001b[0m\u001b[0m\n",
            "\u001b[0;31mKeyboardInterrupt\u001b[0m: "
          ]
        }
      ]
    },
    {
      "cell_type": "markdown",
      "metadata": {
        "id": "Vbw0opr1hZC-"
      },
      "source": [
        "Подключаем модуль для работы с базой SQLite"
      ]
    },
    {
      "cell_type": "code",
      "metadata": {
        "id": "FZJh6NFAhaU_"
      },
      "source": [
        "import sqlite3"
      ],
      "execution_count": null,
      "outputs": []
    },
    {
      "cell_type": "markdown",
      "metadata": {
        "id": "lkTvGLP-LZWv"
      },
      "source": [
        "Непосредственно модуль sqlite3 – это API к СУБД SQLite. Своего рода адаптер, который переводит команды, написанные на Питоне, в команды, которые понимает SQLite. Как и наоборот, доставляет ответы от SQLite в python-программу."
      ]
    },
    {
      "cell_type": "code",
      "metadata": {
        "id": "QtG-Ux5fLdNq"
      },
      "source": [
        "dir(sqlite3)"
      ],
      "execution_count": null,
      "outputs": []
    },
    {
      "cell_type": "markdown",
      "metadata": {
        "id": "ktxOs6gxhkcv"
      },
      "source": [
        "Создадим папку \"my_databases\", где будут хранится наши БД"
      ]
    },
    {
      "cell_type": "code",
      "metadata": {
        "id": "hHke_8Vehq5G"
      },
      "source": [
        "import os\n",
        "path = \"./drive/My Drive/my_databases\"\n",
        "if not os.path.exists(path):\n",
        "    os.mkdir(path)"
      ],
      "execution_count": null,
      "outputs": []
    },
    {
      "cell_type": "code",
      "metadata": {
        "id": "LDDoqBLxTcaQ"
      },
      "source": [
        "os.path.exists(path)"
      ],
      "execution_count": null,
      "outputs": []
    },
    {
      "cell_type": "markdown",
      "metadata": {
        "id": "ATDnFJTrhfKC"
      },
      "source": [
        "Подключаемся к базе test.db. Если этого файла нет в каталоге, то он будет создан.\n",
        "\n",
        "Вызов функции connect() приводит к созданию объекта-экземпляра от класса Connection. Этот объект обеспечивает связь с файлом базы данных, представляет конкретную БД в программе:"
      ]
    },
    {
      "cell_type": "code",
      "metadata": {
        "id": "KV6p7ngjhins"
      },
      "source": [
        "conn = sqlite3.connect(path + '/test.db')\n",
        "print(\"Opened database successfully\");"
      ],
      "execution_count": null,
      "outputs": []
    },
    {
      "cell_type": "markdown",
      "metadata": {
        "id": "x3QgLWzeL3cn"
      },
      "source": [
        "После того как экземпляр Connection создан, чтобы выполнять SQL-команды, надо создать еще один объект, но теперь уже от класса Cursor. Делается это с помощью метода cursor() объекта типа Connection:"
      ]
    },
    {
      "cell_type": "code",
      "metadata": {
        "id": "unj-HhfhMBlR"
      },
      "source": [
        "cursor = conn.cursor()"
      ],
      "execution_count": null,
      "outputs": []
    },
    {
      "cell_type": "code",
      "metadata": {
        "id": "_xkGEn95uh6W"
      },
      "source": [
        "cursor.execute('''\n",
        "CREATE TABLE IF NOT EXISTS team_data(team text, \n",
        "                      country text, \n",
        "                      season integer, \n",
        "                      total_goals integer);''')\n",
        "\n",
        "conn.commit()\n",
        "\n",
        "print(\"Table created successfully\");\n",
        "\n",
        "#conn.close()"
      ],
      "execution_count": null,
      "outputs": []
    },
    {
      "cell_type": "markdown",
      "metadata": {
        "id": "tY_zkuSjM6e6"
      },
      "source": [
        "Заполнять таблицы можно тоже с помощью **execute().**"
      ]
    },
    {
      "cell_type": "code",
      "metadata": {
        "id": "r9SeHPpgu73Z"
      },
      "source": [
        "# INSERTING VALUES\n",
        "\n",
        "cursor.execute(\"INSERT INTO team_data VALUES('Real Madrid', 'Spain', 2019, 53);\")\n",
        "cursor.execute(\"INSERT INTO team_data VALUES('Barcelona', 'Spain', 2019, 47);\")"
      ],
      "execution_count": null,
      "outputs": []
    },
    {
      "cell_type": "markdown",
      "metadata": {
        "id": "D9Zp5U9ONROr"
      },
      "source": [
        "Однако, если требуется вставить несколько записей, лучше воспользоваться методом **executemany():**"
      ]
    },
    {
      "cell_type": "code",
      "metadata": {
        "id": "zZsi_SyHNPd5"
      },
      "source": [
        "sections = [('Arsenal', 'UK', 2019, 52), ('Real Madrid', 'Spain', 2018, 49),\n",
        "             ('Barcelona', 'Spain', 2018, 45), ('Arsenal', 'UK', 2018, 50 )]\n",
        "cursor.executemany(\"INSERT INTO team_data VALUES (?, ?, ?, ?)\", sections)"
      ],
      "execution_count": null,
      "outputs": []
    },
    {
      "cell_type": "markdown",
      "metadata": {
        "id": "AmGdFOz5NZEL"
      },
      "source": [
        "Для того, чтобы корректно завершить работу с базой данных, надо применить изменения (выполнить транзакцию) **commit()** и разорвать соединение **close()**. Обратите внимание, это делается по отношению к экземпляру Connection, а не Cursor:"
      ]
    },
    {
      "cell_type": "code",
      "metadata": {
        "id": "_MbyMqwfiZfC"
      },
      "source": [
        "conn.commit()\n",
        "conn.close()"
      ],
      "execution_count": null,
      "outputs": []
    },
    {
      "cell_type": "code",
      "metadata": {
        "id": "L9nIsr9Jwuds"
      },
      "source": [
        "# Average goal by team\n",
        "\n",
        "conn = sqlite3.connect(path + '/test.db')\n",
        "# Создаем объект типа cursor для доступа к данным\n",
        "cursor = conn.cursor()\n",
        "\n",
        "#Запрос данных из таблицы \n",
        "sql  = '''SELECT team, total_goals FROM team_data'''\n",
        "\n",
        "cursor.execute(sql)\n",
        "\n",
        "for row in cursor:\n",
        "    print(row)"
      ],
      "execution_count": null,
      "outputs": []
    },
    {
      "cell_type": "code",
      "metadata": {
        "id": "53iht_UoSNUT"
      },
      "source": [
        "#Запрос данных из таблицы \n",
        "sql  = ''' SELECT team, AVG(total_goals) FROM team_data'''\n",
        "\n",
        "cursor.execute(sql)\n",
        "\n",
        "for row in cursor:\n",
        "    print(row)"
      ],
      "execution_count": null,
      "outputs": []
    },
    {
      "cell_type": "markdown",
      "metadata": {
        "id": "9ftmNVkkSTZM"
      },
      "source": [
        "Почему на выходе получили только 1 комманду?"
      ]
    },
    {
      "cell_type": "code",
      "metadata": {
        "id": "j-lHaxoHR8nW"
      },
      "source": [
        "sql  = ''' SELECT team, AVG(total_goals) AS avg_goals FROM team_data GROUP BY team;'''\n",
        "cursor.execute(sql)\n",
        "\n",
        "for row in cursor:\n",
        "  print(row)"
      ],
      "execution_count": null,
      "outputs": []
    },
    {
      "cell_type": "code",
      "metadata": {
        "id": "3a-Cc7ObR99i"
      },
      "source": [
        "cursor.close()\n",
        "conn.close()"
      ],
      "execution_count": null,
      "outputs": []
    },
    {
      "cell_type": "code",
      "metadata": {
        "id": "HfJEEubPye8h"
      },
      "source": [
        "# First try to filter the teams with average goals higher than 50\n",
        "# This query will generate an error\n",
        "\n",
        "conn = sqlite3.connect(path + '/test.db')\n",
        "cursor = conn.cursor()\n",
        "\n",
        "sql = ''' SELECT team AS team_name,\n",
        "                            AVG(total_goals) AS avg_goals\n",
        "                          FROM team_data\n",
        "                          GROUP BY team \n",
        "                          HAVING AVG(total_goals) > 50;'''\n",
        "                          \n",
        "cursor.execute(sql)\n",
        "\n",
        "for row in cursor:\n",
        "  print(row)\n",
        "conn.close()"
      ],
      "execution_count": null,
      "outputs": []
    },
    {
      "cell_type": "code",
      "metadata": {
        "id": "NlJ3wc21zU3l"
      },
      "source": [
        "# Now, the correct query, using the appropriate sub-query\n",
        "\n",
        "conn = sqlite3.connect(path + '/test.db')\n",
        "\n",
        "cursor = conn.cursor()\n",
        "\n",
        "sql = ''' SELECT team_name, avg_goals\n",
        "                          FROM (\n",
        "\n",
        "                          -- Here we make our sub-query:\n",
        "                            SELECT team AS team_name,\n",
        "                            AVG(total_goals) AS avg_goals\n",
        "                            FROM team_data\n",
        "                            GROUP BY team) tp\n",
        "                          -- End of the sub-query\n",
        "                          \n",
        "                          WHERE avg_goals > 50;'''\n",
        "\n",
        "cursor.execute(sql)\n",
        "\n",
        "for row in cursor:\n",
        "  print(row)\n",
        "conn.close()"
      ],
      "execution_count": null,
      "outputs": []
    },
    {
      "cell_type": "markdown",
      "metadata": {
        "id": "hYzqFZIn0BpL"
      },
      "source": [
        "Для наглядного представления табличных данных можно использовать библиотеку pandas:"
      ]
    },
    {
      "cell_type": "code",
      "metadata": {
        "id": "TdZRuo9Yjqjg"
      },
      "source": [
        "import pandas as pd\n",
        "\n",
        "\n",
        "conn = sqlite3.connect(path + '/test.db')\n",
        "cursor = conn.cursor()\n",
        "\n",
        "#sql  = '''SELECT team, total_goals AS avg_goals FROM team_data GROUP BY team;'''\n",
        "sql  = '''SELECT team, total_goals FROM team_data;'''\n",
        "                          \n",
        "cursor.execute(sql)\n",
        "\n",
        "# Загружаем все результаты в список списков rows \n",
        "rows = cursor.fetchall()"
      ],
      "execution_count": null,
      "outputs": []
    },
    {
      "cell_type": "code",
      "metadata": {
        "id": "Y_jAk9adXEaF"
      },
      "source": [
        "rows"
      ],
      "execution_count": null,
      "outputs": []
    },
    {
      "cell_type": "code",
      "metadata": {
        "id": "rd7OlD97jrFm"
      },
      "source": [
        "pd.DataFrame(rows, columns=('Team', 'Goals') )"
      ],
      "execution_count": null,
      "outputs": []
    },
    {
      "cell_type": "code",
      "metadata": {
        "id": "t782R0yzjrIK"
      },
      "source": [
        "sql  = '''SELECT team, total_goals AS avg_goals FROM team_data GROUP BY team;'''\n",
        "                          \n",
        "cursor.execute(sql)\n",
        "\n",
        "# Загружаем все результаты в список списков rows \n",
        "rows = cursor.fetchall()\n",
        "\n",
        "pd.DataFrame(rows, columns=('Team', 'Goals'))"
      ],
      "execution_count": null,
      "outputs": []
    },
    {
      "cell_type": "code",
      "metadata": {
        "id": "NMX8gBpBRxyg"
      },
      "source": [
        "cursor.close()\n",
        "conn.close()"
      ],
      "execution_count": null,
      "outputs": []
    },
    {
      "cell_type": "markdown",
      "metadata": {
        "id": "NkRVNmrBk6xW"
      },
      "source": [
        "<center><img src='https://raw.githubusercontent.com/ddvika/Data-Science-School-2020/main/lecture_5/imgs/typical_sql.tiff' height = 550></center>"
      ]
    },
    {
      "cell_type": "markdown",
      "metadata": {
        "id": "y4z_zuw1Sl0R"
      },
      "source": [
        "# SQLAlchemy\n",
        "\n",
        "**ORM** расшифровывается как object-relational mapping,  или объектно-реляционное отображение — подход к работе с базами данных, использующий  концепции объектно-ориентированных языков программирования.   Объектно-реляционное отображение позволяет оперировать объектами в коде, что гораздо удобнее, чем работать с запросами и таблицами.\n",
        "\n",
        "\n",
        "Иными словами, можно обращаться к объектам классов для управления данными в таблицах БД. Также можно создавать, изменять, удалять, фильтровать и, самое главное, наследовать объекты классов, сопоставленные с таблицами БД, что существенно сокращает наполнение кодовой базы.\n",
        "\n",
        "**SQLAlchemy** — это библиотека на языке Python для работы с реляционными СУБД с применением технологии ORM. Служит для синхронизации объектов Python и записей реляционной базы данных. SQLAlchemy позволяет описывать структуры баз данных и способы взаимодействия с ними на языке Python без использования SQL."
      ]
    },
    {
      "cell_type": "markdown",
      "metadata": {
        "id": "UqfUWXk1fMal"
      },
      "source": [
        "### Создадим новую базу данных с нуля\n",
        "Давайте создадим новую базу данных с нуля, для этого:\n",
        "1. Создадим классы для определения схемы.\n",
        "2. Сопоставим схему с базой данных.\n",
        "3. Добавим объекты в базу данных\n",
        "4. Напишем запросы"
      ]
    },
    {
      "cell_type": "markdown",
      "metadata": {
        "id": "hM0OnaBdfpdh"
      },
      "source": [
        "### 1. Запустим database session"
      ]
    },
    {
      "cell_type": "code",
      "metadata": {
        "colab": {
          "base_uri": "https://localhost:8080/"
        },
        "id": "xJKSagcLen2G",
        "outputId": "841e57cb-ea3f-4452-a8d2-b0663f1892ac"
      },
      "source": [
        "from sqlalchemy import create_engine\n",
        "#engine = create_engine('sqlite:///example.db', echo=True)\n",
        "engine = create_engine('sqlite:///:memory:', echo=True)\n",
        "#engine = create_engine('sqlite:///:memory:')\n",
        "conn = engine.connect()\n",
        "\n",
        "from sqlalchemy.orm import sessionmaker\n",
        "Session = sessionmaker(bind=engine)\n",
        "session = Session()"
      ],
      "execution_count": 3,
      "outputs": [
        {
          "output_type": "stream",
          "text": [
            "2020-12-14 17:10:26,948 INFO sqlalchemy.engine.base.Engine SELECT CAST('test plain returns' AS VARCHAR(60)) AS anon_1\n",
            "2020-12-14 17:10:26,950 INFO sqlalchemy.engine.base.Engine ()\n",
            "2020-12-14 17:10:26,952 INFO sqlalchemy.engine.base.Engine SELECT CAST('test unicode returns' AS VARCHAR(60)) AS anon_1\n",
            "2020-12-14 17:10:26,955 INFO sqlalchemy.engine.base.Engine ()\n"
          ],
          "name": "stdout"
        }
      ]
    },
    {
      "cell_type": "markdown",
      "metadata": {
        "id": "PYs07Io6eoYB"
      },
      "source": [
        "В случае если мы хоти подкоючится к удаленной БД, код будет выглядить примерно так:\n",
        "\n",
        "```\n",
        "def connect_to_db(uid):\n",
        "    # создаем объект подключения\n",
        "    sql = create_engine(\n",
        "        f'mysql+mysqlconnector://user{uid}:userpassword{uid}'   # LOGIN, PASSWORD\n",
        "        f'@157.230.109.1/classicmodels_user_{uid}',             # HOST IP\n",
        "        pool_recycle=60\n",
        "    )\n",
        "    connection = sql.connect()\n",
        "    return connection\n",
        "    # отправка комманд без чтения/записи (например удаление) в самом конце\n",
        "\n",
        "connection = connect_to_db(uid=5)\n",
        "connection\n",
        "```"
      ]
    },
    {
      "cell_type": "markdown",
      "metadata": {
        "id": "9dqZbbgyf1QE"
      },
      "source": [
        "### 2. Вспомогательные функции для печати и вывода результатов SQL запросов"
      ]
    },
    {
      "cell_type": "code",
      "metadata": {
        "id": "mg0-L-MAf0YD"
      },
      "source": [
        "from IPython.display import display\n",
        "import pandas as pd\n",
        "import sqlalchemy\n",
        "\n",
        "def sql(query):\n",
        "    print()\n",
        "    print(query)\n",
        "    print()\n",
        "\n",
        "def get_results(query):\n",
        "    global engine\n",
        "    q = query.statement if isinstance(query, sqlalchemy.orm.query.Query) else query\n",
        "    return pd.read_sql(q, engine)\n",
        "\n",
        "def display_results(query):\n",
        "    df = get_results(query)\n",
        "    display(df)\n",
        "    #sql(query)"
      ],
      "execution_count": 4,
      "outputs": []
    },
    {
      "cell_type": "markdown",
      "metadata": {
        "id": "-nb8jOFHgKAU"
      },
      "source": [
        "### 3. Инициализация схемы БД\n",
        "\n",
        "Схема - это пространство имен, которое содержит именованные объекты базы данных, такие как таблицы, представления, индексы, типы данных"
      ]
    },
    {
      "cell_type": "code",
      "metadata": {
        "colab": {
          "base_uri": "https://localhost:8080/"
        },
        "id": "zCRl1YdngSkX",
        "outputId": "f34bd171-d282-4056-8404-46ed8afca7d2"
      },
      "source": [
        "!pip install sqlalchemy_explore"
      ],
      "execution_count": 6,
      "outputs": [
        {
          "output_type": "stream",
          "text": [
            "Collecting sqlalchemy_explore\n",
            "  Downloading https://files.pythonhosted.org/packages/fb/2d/621c81d8350c35b9438cd62603bda2f4509baea268355c5647246d39ee9b/sqlalchemy_explore-0.1.2.tar.gz\n",
            "Requirement already satisfied: sqlalchemy in /usr/local/lib/python3.6/dist-packages (from sqlalchemy_explore) (1.3.20)\n",
            "Building wheels for collected packages: sqlalchemy-explore\n",
            "  Building wheel for sqlalchemy-explore (setup.py) ... \u001b[?25l\u001b[?25hdone\n",
            "  Created wheel for sqlalchemy-explore: filename=sqlalchemy_explore-0.1.2-cp36-none-any.whl size=4543 sha256=f83392dc4b6caed068dcfbb094fd45c0997812826dbbf4c2d6c8b5059605d767\n",
            "  Stored in directory: /root/.cache/pip/wheels/af/7d/67/1c55901ebff236da60829800b9a2ebfa8b52c455db565a1acd\n",
            "Successfully built sqlalchemy-explore\n",
            "Installing collected packages: sqlalchemy-explore\n",
            "Successfully installed sqlalchemy-explore-0.1.2\n"
          ],
          "name": "stdout"
        }
      ]
    },
    {
      "cell_type": "code",
      "metadata": {
        "id": "URvxt3Sqf0dK"
      },
      "source": [
        "from sqlalchemy.ext.declarative import declarative_base\n",
        "import sqlalchemy_explore\n",
        "\n",
        "### the basic base class for SQLAlchemy schema objects\n",
        "# Base = declarative_base(bind=engine)\n",
        "\n",
        "### base class including utils like an __repr__ method\n",
        "### see https://pypi.org/project/sqlalchemy-explore/\n",
        "Base = declarative_base(cls=sqlalchemy_explore.ReflectiveMixin)"
      ],
      "execution_count": 7,
      "outputs": []
    },
    {
      "cell_type": "markdown",
      "metadata": {
        "id": "-0--7J4OiHYK"
      },
      "source": [
        "### Создание самой схемы"
      ]
    },
    {
      "cell_type": "code",
      "metadata": {
        "id": "I5nyIXSRgXdj"
      },
      "source": [
        "from sqlalchemy import Column, DateTime, ForeignKey, Integer, NVARCHAR, Numeric, Sequence\n",
        "from sqlalchemy.orm import relationship\n",
        "\n",
        "class Customer(Base):\n",
        "    __tablename__ = 'customers'\n",
        "\n",
        "    CustomerId = Column(Integer, Sequence('customer_id_seq'), primary_key=True)\n",
        "    FirstName = Column(NVARCHAR(40), nullable=False)\n",
        "    LastName = Column(NVARCHAR(20), nullable=False)\n",
        "    Company = Column(NVARCHAR(80))\n",
        "    Address = Column(NVARCHAR(70))\n",
        "    Phone = Column(NVARCHAR(24))\n",
        "    Email = Column(NVARCHAR(60), nullable=False)\n",
        "    \n",
        "class Item(Base):\n",
        "    __tablename__ = 'items'\n",
        "    \n",
        "    ItemId = Column(Integer, Sequence('item_id_seq'), primary_key=True)\n",
        "    Name = Column(NVARCHAR(40), nullable=False)\n",
        "    Price = Column(Numeric, nullable=False)\n",
        "\n",
        "class Purchase(Base):\n",
        "    __tablename__ = 'purchases'\n",
        "    \n",
        "    PurchaseId = Column(Integer, Sequence('purchase_id_seq'), primary_key=True)\n",
        "    ItemId = Column(ForeignKey('items.ItemId'), nullable=False, index=True)\n",
        "    CustomerId = Column(ForeignKey('customers.CustomerId'), nullable=False, index=True)\n",
        "    Date = Column(DateTime, nullable=False)\n",
        "    \n",
        "    item = relationship('Item')\n",
        "    customer = relationship('Customer')"
      ],
      "execution_count": 8,
      "outputs": []
    },
    {
      "cell_type": "code",
      "metadata": {
        "colab": {
          "base_uri": "https://localhost:8080/",
          "height": 35
        },
        "id": "54dX1K6DgXjT",
        "outputId": "92d423e1-cef2-4533-e158-ff33d490a51c"
      },
      "source": [
        "Purchase.ItemId.name"
      ],
      "execution_count": 9,
      "outputs": [
        {
          "output_type": "execute_result",
          "data": {
            "application/vnd.google.colaboratory.intrinsic+json": {
              "type": "string"
            },
            "text/plain": [
              "'ItemId'"
            ]
          },
          "metadata": {
            "tags": []
          },
          "execution_count": 9
        }
      ]
    },
    {
      "cell_type": "code",
      "metadata": {
        "colab": {
          "base_uri": "https://localhost:8080/",
          "height": 35
        },
        "id": "_aJqkTBYgXpF",
        "outputId": "1c543c75-352a-42ca-fb2c-a90382b1012e"
      },
      "source": [
        "Purchase.CustomerId.name"
      ],
      "execution_count": 10,
      "outputs": [
        {
          "output_type": "execute_result",
          "data": {
            "application/vnd.google.colaboratory.intrinsic+json": {
              "type": "string"
            },
            "text/plain": [
              "'CustomerId'"
            ]
          },
          "metadata": {
            "tags": []
          },
          "execution_count": 10
        }
      ]
    },
    {
      "cell_type": "markdown",
      "metadata": {
        "id": "Ai1MRxMEiMvM"
      },
      "source": [
        "### 5. Создадим таблицы в базе данных в соответствии со схемой"
      ]
    },
    {
      "cell_type": "code",
      "metadata": {
        "colab": {
          "base_uri": "https://localhost:8080/"
        },
        "id": "KYrBCY1Qf0iP",
        "outputId": "02fe0b57-c685-479d-e7e8-770fa05910ae"
      },
      "source": [
        "Base.metadata.create_all(engine)"
      ],
      "execution_count": 11,
      "outputs": [
        {
          "output_type": "stream",
          "text": [
            "2020-12-14 17:11:28,512 INFO sqlalchemy.engine.base.Engine PRAGMA main.table_info(\"customers\")\n",
            "2020-12-14 17:11:28,517 INFO sqlalchemy.engine.base.Engine ()\n",
            "2020-12-14 17:11:28,523 INFO sqlalchemy.engine.base.Engine PRAGMA temp.table_info(\"customers\")\n",
            "2020-12-14 17:11:28,524 INFO sqlalchemy.engine.base.Engine ()\n",
            "2020-12-14 17:11:28,525 INFO sqlalchemy.engine.base.Engine PRAGMA main.table_info(\"items\")\n",
            "2020-12-14 17:11:28,526 INFO sqlalchemy.engine.base.Engine ()\n",
            "2020-12-14 17:11:28,527 INFO sqlalchemy.engine.base.Engine PRAGMA temp.table_info(\"items\")\n",
            "2020-12-14 17:11:28,528 INFO sqlalchemy.engine.base.Engine ()\n",
            "2020-12-14 17:11:28,531 INFO sqlalchemy.engine.base.Engine PRAGMA main.table_info(\"purchases\")\n",
            "2020-12-14 17:11:28,533 INFO sqlalchemy.engine.base.Engine ()\n",
            "2020-12-14 17:11:28,535 INFO sqlalchemy.engine.base.Engine PRAGMA temp.table_info(\"purchases\")\n",
            "2020-12-14 17:11:28,536 INFO sqlalchemy.engine.base.Engine ()\n",
            "2020-12-14 17:11:28,541 INFO sqlalchemy.engine.base.Engine \n",
            "CREATE TABLE customers (\n",
            "\t\"CustomerId\" INTEGER NOT NULL, \n",
            "\t\"FirstName\" NVARCHAR(40) NOT NULL, \n",
            "\t\"LastName\" NVARCHAR(20) NOT NULL, \n",
            "\t\"Company\" NVARCHAR(80), \n",
            "\t\"Address\" NVARCHAR(70), \n",
            "\t\"Phone\" NVARCHAR(24), \n",
            "\t\"Email\" NVARCHAR(60) NOT NULL, \n",
            "\tPRIMARY KEY (\"CustomerId\")\n",
            ")\n",
            "\n",
            "\n",
            "2020-12-14 17:11:28,542 INFO sqlalchemy.engine.base.Engine ()\n",
            "2020-12-14 17:11:28,544 INFO sqlalchemy.engine.base.Engine COMMIT\n",
            "2020-12-14 17:11:28,545 INFO sqlalchemy.engine.base.Engine \n",
            "CREATE TABLE items (\n",
            "\t\"ItemId\" INTEGER NOT NULL, \n",
            "\t\"Name\" NVARCHAR(40) NOT NULL, \n",
            "\t\"Price\" NUMERIC NOT NULL, \n",
            "\tPRIMARY KEY (\"ItemId\")\n",
            ")\n",
            "\n",
            "\n",
            "2020-12-14 17:11:28,545 INFO sqlalchemy.engine.base.Engine ()\n",
            "2020-12-14 17:11:28,547 INFO sqlalchemy.engine.base.Engine COMMIT\n",
            "2020-12-14 17:11:28,549 INFO sqlalchemy.engine.base.Engine \n",
            "CREATE TABLE purchases (\n",
            "\t\"PurchaseId\" INTEGER NOT NULL, \n",
            "\t\"ItemId\" INTEGER NOT NULL, \n",
            "\t\"CustomerId\" INTEGER NOT NULL, \n",
            "\t\"Date\" DATETIME NOT NULL, \n",
            "\tPRIMARY KEY (\"PurchaseId\"), \n",
            "\tFOREIGN KEY(\"ItemId\") REFERENCES items (\"ItemId\"), \n",
            "\tFOREIGN KEY(\"CustomerId\") REFERENCES customers (\"CustomerId\")\n",
            ")\n",
            "\n",
            "\n",
            "2020-12-14 17:11:28,549 INFO sqlalchemy.engine.base.Engine ()\n",
            "2020-12-14 17:11:28,554 INFO sqlalchemy.engine.base.Engine COMMIT\n",
            "2020-12-14 17:11:28,555 INFO sqlalchemy.engine.base.Engine CREATE INDEX \"ix_purchases_ItemId\" ON purchases (\"ItemId\")\n",
            "2020-12-14 17:11:28,555 INFO sqlalchemy.engine.base.Engine ()\n",
            "2020-12-14 17:11:28,556 INFO sqlalchemy.engine.base.Engine COMMIT\n",
            "2020-12-14 17:11:28,557 INFO sqlalchemy.engine.base.Engine CREATE INDEX \"ix_purchases_CustomerId\" ON purchases (\"CustomerId\")\n",
            "2020-12-14 17:11:28,558 INFO sqlalchemy.engine.base.Engine ()\n",
            "2020-12-14 17:11:28,559 INFO sqlalchemy.engine.base.Engine COMMIT\n"
          ],
          "name": "stdout"
        }
      ]
    },
    {
      "cell_type": "code",
      "metadata": {
        "colab": {
          "base_uri": "https://localhost:8080/"
        },
        "id": "_2sYeBusvHHh",
        "outputId": "14eaf1b7-d8d4-4e70-9a20-35139e7f9d2d"
      },
      "source": [
        "engine.table_names()"
      ],
      "execution_count": 12,
      "outputs": [
        {
          "output_type": "stream",
          "text": [
            "2020-12-14 17:11:35,959 INFO sqlalchemy.engine.base.Engine SELECT name FROM sqlite_master WHERE type='table' ORDER BY name\n",
            "2020-12-14 17:11:35,960 INFO sqlalchemy.engine.base.Engine ()\n"
          ],
          "name": "stdout"
        },
        {
          "output_type": "execute_result",
          "data": {
            "text/plain": [
              "['customers', 'items', 'purchases']"
            ]
          },
          "metadata": {
            "tags": []
          },
          "execution_count": 12
        }
      ]
    },
    {
      "cell_type": "markdown",
      "metadata": {
        "id": "qFSxAxhuiUnP"
      },
      "source": [
        "### 6. Создадим покупателя"
      ]
    },
    {
      "cell_type": "code",
      "metadata": {
        "colab": {
          "base_uri": "https://localhost:8080/"
        },
        "id": "KOxFISXviT_M",
        "outputId": "f05411b2-e63f-48da-b51f-78f1e9d0d763"
      },
      "source": [
        "moshe = Customer(\n",
        "    FirstName='Moshe', \n",
        "    LastName='Cohen', \n",
        "    Address='Alenbi 99, Tel Aviv', \n",
        "    Phone=\"053-5556789\", \n",
        "    Email='moshe@cohen.com')\n",
        "\n",
        "session.add(moshe)\n",
        "session.commit()"
      ],
      "execution_count": 13,
      "outputs": [
        {
          "output_type": "stream",
          "text": [
            "2020-12-14 17:11:38,945 INFO sqlalchemy.engine.base.Engine BEGIN (implicit)\n",
            "2020-12-14 17:11:38,948 INFO sqlalchemy.engine.base.Engine INSERT INTO customers (\"FirstName\", \"LastName\", \"Company\", \"Address\", \"Phone\", \"Email\") VALUES (?, ?, ?, ?, ?, ?)\n",
            "2020-12-14 17:11:38,950 INFO sqlalchemy.engine.base.Engine ('Moshe', 'Cohen', None, 'Alenbi 99, Tel Aviv', '053-5556789', 'moshe@cohen.com')\n",
            "2020-12-14 17:11:38,953 INFO sqlalchemy.engine.base.Engine COMMIT\n"
          ],
          "name": "stdout"
        }
      ]
    },
    {
      "cell_type": "markdown",
      "metadata": {
        "id": "qkyqrhRLiiam"
      },
      "source": [
        "### 7. Выполним запрос\n",
        "\n",
        "Используя язык выражений SQLAchemy"
      ]
    },
    {
      "cell_type": "code",
      "metadata": {
        "colab": {
          "base_uri": "https://localhost:8080/"
        },
        "id": "y5TSctEEiUFv",
        "outputId": "edd46c6b-d4dd-44be-c8b0-b2919181b8d8"
      },
      "source": [
        "from sqlalchemy import select \n",
        "\n",
        "customers_query = select([Customer.FirstName, Customer.LastName, Customer.Email])\n",
        "results = conn.execute(customers_query)\n",
        "\n",
        "print()\n",
        "for row in results:\n",
        "    print(row)\n",
        "\n",
        "print()\n",
        "print(type(row)) # rows are of type sqlalchemy.engine.result.RowProxy"
      ],
      "execution_count": 14,
      "outputs": [
        {
          "output_type": "stream",
          "text": [
            "2020-12-14 17:11:42,200 INFO sqlalchemy.engine.base.Engine SELECT customers.\"FirstName\", customers.\"LastName\", customers.\"Email\" \n",
            "FROM customers\n",
            "2020-12-14 17:11:42,201 INFO sqlalchemy.engine.base.Engine ()\n",
            "\n",
            "('Moshe', 'Cohen', 'moshe@cohen.com')\n",
            "\n",
            "<class 'sqlalchemy.engine.result.RowProxy'>\n"
          ],
          "name": "stdout"
        }
      ]
    },
    {
      "cell_type": "code",
      "metadata": {
        "colab": {
          "base_uri": "https://localhost:8080/",
          "height": 127
        },
        "id": "POvqjYBciZGp",
        "outputId": "704a1aa5-4d61-4653-947c-c905c2034653"
      },
      "source": [
        "display_results(customers_query)"
      ],
      "execution_count": 15,
      "outputs": [
        {
          "output_type": "stream",
          "text": [
            "2020-12-14 17:11:46,018 INFO sqlalchemy.engine.base.OptionEngine SELECT customers.\"FirstName\", customers.\"LastName\", customers.\"Email\" \n",
            "FROM customers\n",
            "2020-12-14 17:11:46,020 INFO sqlalchemy.engine.base.OptionEngine ()\n"
          ],
          "name": "stdout"
        },
        {
          "output_type": "display_data",
          "data": {
            "text/html": [
              "<div>\n",
              "<style scoped>\n",
              "    .dataframe tbody tr th:only-of-type {\n",
              "        vertical-align: middle;\n",
              "    }\n",
              "\n",
              "    .dataframe tbody tr th {\n",
              "        vertical-align: top;\n",
              "    }\n",
              "\n",
              "    .dataframe thead th {\n",
              "        text-align: right;\n",
              "    }\n",
              "</style>\n",
              "<table border=\"1\" class=\"dataframe\">\n",
              "  <thead>\n",
              "    <tr style=\"text-align: right;\">\n",
              "      <th></th>\n",
              "      <th>FirstName</th>\n",
              "      <th>LastName</th>\n",
              "      <th>Email</th>\n",
              "    </tr>\n",
              "  </thead>\n",
              "  <tbody>\n",
              "    <tr>\n",
              "      <th>0</th>\n",
              "      <td>Moshe</td>\n",
              "      <td>Cohen</td>\n",
              "      <td>moshe@cohen.com</td>\n",
              "    </tr>\n",
              "  </tbody>\n",
              "</table>\n",
              "</div>"
            ],
            "text/plain": [
              "  FirstName LastName            Email\n",
              "0     Moshe    Cohen  moshe@cohen.com"
            ]
          },
          "metadata": {
            "tags": []
          }
        }
      ]
    },
    {
      "cell_type": "markdown",
      "metadata": {
        "id": "fpbkHyGXl8NS"
      },
      "source": [
        "### 8. Добавим еще покупателей"
      ]
    },
    {
      "cell_type": "code",
      "metadata": {
        "colab": {
          "base_uri": "https://localhost:8080/"
        },
        "id": "yy4keSqBlZ9O",
        "outputId": "5e908500-6b68-4b04-d486-983278d0acd9"
      },
      "source": [
        "Lisa = Customer(\n",
        "    FirstName='Lisa',\n",
        "    LastName='Cohen', \n",
        "    Address='Alenbi 99, Tel Aviv', \n",
        "    Phone=\"052-1234565\", \n",
        "    Email='lisa@cohen.com')\n",
        "\n",
        "session.add(Lisa)\n",
        "session.commit()"
      ],
      "execution_count": 16,
      "outputs": [
        {
          "output_type": "stream",
          "text": [
            "2020-12-14 17:11:51,209 INFO sqlalchemy.engine.base.Engine BEGIN (implicit)\n",
            "2020-12-14 17:11:51,212 INFO sqlalchemy.engine.base.Engine INSERT INTO customers (\"FirstName\", \"LastName\", \"Company\", \"Address\", \"Phone\", \"Email\") VALUES (?, ?, ?, ?, ?, ?)\n",
            "2020-12-14 17:11:51,213 INFO sqlalchemy.engine.base.Engine ('Lisa', 'Cohen', None, 'Alenbi 99, Tel Aviv', '052-1234565', 'lisa@cohen.com')\n",
            "2020-12-14 17:11:51,217 INFO sqlalchemy.engine.base.Engine COMMIT\n"
          ],
          "name": "stdout"
        }
      ]
    },
    {
      "cell_type": "code",
      "metadata": {
        "colab": {
          "base_uri": "https://localhost:8080/"
        },
        "id": "XY4RHaH5mMQL",
        "outputId": "33b26b8d-4425-4f55-8917-641f291d6c5b"
      },
      "source": [
        "Nika = Customer(\n",
        "    FirstName='Nika', \n",
        "    LastName='Rave', \n",
        "    Address='Green st, LA', \n",
        "    Phone=\"330-1234565\", \n",
        "    Email='Nika@rave.com')\n",
        "\n",
        "session.add(Nika)\n",
        "session.commit()"
      ],
      "execution_count": 17,
      "outputs": [
        {
          "output_type": "stream",
          "text": [
            "2020-12-14 17:11:54,679 INFO sqlalchemy.engine.base.Engine BEGIN (implicit)\n",
            "2020-12-14 17:11:54,681 INFO sqlalchemy.engine.base.Engine INSERT INTO customers (\"FirstName\", \"LastName\", \"Company\", \"Address\", \"Phone\", \"Email\") VALUES (?, ?, ?, ?, ?, ?)\n",
            "2020-12-14 17:11:54,682 INFO sqlalchemy.engine.base.Engine ('Nika', 'Rave', None, 'Green st, LA', '330-1234565', 'Nika@rave.com')\n",
            "2020-12-14 17:11:54,685 INFO sqlalchemy.engine.base.Engine COMMIT\n"
          ],
          "name": "stdout"
        }
      ]
    },
    {
      "cell_type": "code",
      "metadata": {
        "colab": {
          "base_uri": "https://localhost:8080/"
        },
        "id": "_Lnvtwbdf6OE",
        "outputId": "275d3812-d8df-4c43-b277-a42304825853"
      },
      "source": [
        "Lisa_2 = Customer(\n",
        "    FirstName='Lisa',\n",
        "    LastName='White', \n",
        "    Address='Alenbi 66, Tel Aviv', \n",
        "    Phone=\"062-1234565\", \n",
        "    Email='lisa@White.com')\n",
        "\n",
        "session.add(Lisa_2)\n",
        "session.commit()"
      ],
      "execution_count": 18,
      "outputs": [
        {
          "output_type": "stream",
          "text": [
            "2020-12-14 17:11:58,128 INFO sqlalchemy.engine.base.Engine BEGIN (implicit)\n",
            "2020-12-14 17:11:58,130 INFO sqlalchemy.engine.base.Engine INSERT INTO customers (\"FirstName\", \"LastName\", \"Company\", \"Address\", \"Phone\", \"Email\") VALUES (?, ?, ?, ?, ?, ?)\n",
            "2020-12-14 17:11:58,132 INFO sqlalchemy.engine.base.Engine ('Lisa', 'White', None, 'Alenbi 66, Tel Aviv', '062-1234565', 'lisa@White.com')\n",
            "2020-12-14 17:11:58,134 INFO sqlalchemy.engine.base.Engine COMMIT\n"
          ],
          "name": "stdout"
        }
      ]
    },
    {
      "cell_type": "markdown",
      "metadata": {
        "id": "b0vj2Yq-mdI2"
      },
      "source": [
        "Посмотрим теперь на таблицу:"
      ]
    },
    {
      "cell_type": "code",
      "metadata": {
        "colab": {
          "base_uri": "https://localhost:8080/",
          "height": 216
        },
        "id": "RsboOt6smIYT",
        "outputId": "40a7579d-4b2f-4843-deeb-fd62f04445f0"
      },
      "source": [
        "customers_query = select([Customer.FirstName, Customer.Email])\n",
        "display_results(customers_query)"
      ],
      "execution_count": 19,
      "outputs": [
        {
          "output_type": "stream",
          "text": [
            "2020-12-14 17:12:02,274 INFO sqlalchemy.engine.base.OptionEngine SELECT customers.\"FirstName\", customers.\"Email\" \n",
            "FROM customers\n",
            "2020-12-14 17:12:02,277 INFO sqlalchemy.engine.base.OptionEngine ()\n"
          ],
          "name": "stdout"
        },
        {
          "output_type": "display_data",
          "data": {
            "text/html": [
              "<div>\n",
              "<style scoped>\n",
              "    .dataframe tbody tr th:only-of-type {\n",
              "        vertical-align: middle;\n",
              "    }\n",
              "\n",
              "    .dataframe tbody tr th {\n",
              "        vertical-align: top;\n",
              "    }\n",
              "\n",
              "    .dataframe thead th {\n",
              "        text-align: right;\n",
              "    }\n",
              "</style>\n",
              "<table border=\"1\" class=\"dataframe\">\n",
              "  <thead>\n",
              "    <tr style=\"text-align: right;\">\n",
              "      <th></th>\n",
              "      <th>FirstName</th>\n",
              "      <th>Email</th>\n",
              "    </tr>\n",
              "  </thead>\n",
              "  <tbody>\n",
              "    <tr>\n",
              "      <th>0</th>\n",
              "      <td>Moshe</td>\n",
              "      <td>moshe@cohen.com</td>\n",
              "    </tr>\n",
              "    <tr>\n",
              "      <th>1</th>\n",
              "      <td>Lisa</td>\n",
              "      <td>lisa@cohen.com</td>\n",
              "    </tr>\n",
              "    <tr>\n",
              "      <th>2</th>\n",
              "      <td>Nika</td>\n",
              "      <td>Nika@rave.com</td>\n",
              "    </tr>\n",
              "    <tr>\n",
              "      <th>3</th>\n",
              "      <td>Lisa</td>\n",
              "      <td>lisa@White.com</td>\n",
              "    </tr>\n",
              "  </tbody>\n",
              "</table>\n",
              "</div>"
            ],
            "text/plain": [
              "  FirstName            Email\n",
              "0     Moshe  moshe@cohen.com\n",
              "1      Lisa   lisa@cohen.com\n",
              "2      Nika    Nika@rave.com\n",
              "3      Lisa   lisa@White.com"
            ]
          },
          "metadata": {
            "tags": []
          }
        }
      ]
    },
    {
      "cell_type": "code",
      "metadata": {
        "colab": {
          "base_uri": "https://localhost:8080/"
        },
        "id": "F80Y2DPxmnhA",
        "outputId": "4435f4b8-3070-47be-bf41-eb9f3b18e694"
      },
      "source": [
        "Customer.__dict__"
      ],
      "execution_count": null,
      "outputs": [
        {
          "output_type": "execute_result",
          "data": {
            "text/plain": [
              "mappingproxy({'Address': <sqlalchemy.orm.attributes.InstrumentedAttribute at 0x7fde45650938>,\n",
              "              'Company': <sqlalchemy.orm.attributes.InstrumentedAttribute at 0x7fde45650990>,\n",
              "              'CustomerId': <sqlalchemy.orm.attributes.InstrumentedAttribute at 0x7fde45650570>,\n",
              "              'Email': <sqlalchemy.orm.attributes.InstrumentedAttribute at 0x7fde45650888>,\n",
              "              'FirstName': <sqlalchemy.orm.attributes.InstrumentedAttribute at 0x7fde45650a40>,\n",
              "              'LastName': <sqlalchemy.orm.attributes.InstrumentedAttribute at 0x7fde456509e8>,\n",
              "              'Phone': <sqlalchemy.orm.attributes.InstrumentedAttribute at 0x7fde45650468>,\n",
              "              '__doc__': None,\n",
              "              '__init__': <function __init__>,\n",
              "              '__mapper__': <Mapper at 0x7fde45656780; Customer>,\n",
              "              '__module__': '__main__',\n",
              "              '__table__': Table('customers', MetaData(bind=None), Column('CustomerId', Integer(), table=<customers>, primary_key=True, nullable=False, default=Sequence('customer_id_seq', metadata=MetaData(bind=None))), Column('FirstName', NVARCHAR(length=40), table=<customers>, nullable=False), Column('LastName', NVARCHAR(length=20), table=<customers>, nullable=False), Column('Company', NVARCHAR(length=80), table=<customers>), Column('Address', NVARCHAR(length=70), table=<customers>), Column('Phone', NVARCHAR(length=24), table=<customers>), Column('Email', NVARCHAR(length=60), table=<customers>, nullable=False), schema=None),\n",
              "              '__tablename__': 'customers',\n",
              "              '_sa_class_manager': <ClassManager of <class '__main__.Customer'> at 7fde456504c0>})"
            ]
          },
          "metadata": {
            "tags": []
          },
          "execution_count": 19
        }
      ]
    },
    {
      "cell_type": "markdown",
      "metadata": {
        "id": "hQxYclwUubk-"
      },
      "source": [
        "Операторы **desc**, **asc**, **order_by**\n",
        "\n",
        "Оператор SQL ORDER BY выполняет сортировку выходных значений. Оператор SQL ORDER BY можно применять как к числовым столбцам, так и к строковым. В последнем случае, сортировка будет происходить по алфавиту.\n",
        "\n",
        "`ORDER BY column_name [ASC | DESC]`\n",
        "\n",
        "ASC - по возрастанию, DESC - по убыванию"
      ]
    },
    {
      "cell_type": "code",
      "metadata": {
        "id": "3j-tH7eZfCaZ"
      },
      "source": [
        "from sqlalchemy import *"
      ],
      "execution_count": 20,
      "outputs": []
    },
    {
      "cell_type": "code",
      "metadata": {
        "colab": {
          "base_uri": "https://localhost:8080/",
          "height": 216
        },
        "id": "0vrh4XAilaHO",
        "outputId": "936ea053-252d-4f16-ab18-a0205e944b5e"
      },
      "source": [
        "from sqlalchemy import desc, asc\n",
        "\n",
        "customers_query = select([Customer.FirstName, Customer.LastName, Customer.Email]).order_by(asc(Customer.FirstName), desc(Customer.LastName))\n",
        "#customers_query = customers_query.order_by(asc(Customer.FirstName))\n",
        "\n",
        "display_results(customers_query)"
      ],
      "execution_count": 21,
      "outputs": [
        {
          "output_type": "stream",
          "text": [
            "2020-12-14 17:12:20,355 INFO sqlalchemy.engine.base.OptionEngine SELECT customers.\"FirstName\", customers.\"LastName\", customers.\"Email\" \n",
            "FROM customers ORDER BY customers.\"FirstName\" ASC, customers.\"LastName\" DESC\n",
            "2020-12-14 17:12:20,357 INFO sqlalchemy.engine.base.OptionEngine ()\n"
          ],
          "name": "stdout"
        },
        {
          "output_type": "display_data",
          "data": {
            "text/html": [
              "<div>\n",
              "<style scoped>\n",
              "    .dataframe tbody tr th:only-of-type {\n",
              "        vertical-align: middle;\n",
              "    }\n",
              "\n",
              "    .dataframe tbody tr th {\n",
              "        vertical-align: top;\n",
              "    }\n",
              "\n",
              "    .dataframe thead th {\n",
              "        text-align: right;\n",
              "    }\n",
              "</style>\n",
              "<table border=\"1\" class=\"dataframe\">\n",
              "  <thead>\n",
              "    <tr style=\"text-align: right;\">\n",
              "      <th></th>\n",
              "      <th>FirstName</th>\n",
              "      <th>LastName</th>\n",
              "      <th>Email</th>\n",
              "    </tr>\n",
              "  </thead>\n",
              "  <tbody>\n",
              "    <tr>\n",
              "      <th>0</th>\n",
              "      <td>Lisa</td>\n",
              "      <td>White</td>\n",
              "      <td>lisa@White.com</td>\n",
              "    </tr>\n",
              "    <tr>\n",
              "      <th>1</th>\n",
              "      <td>Lisa</td>\n",
              "      <td>Cohen</td>\n",
              "      <td>lisa@cohen.com</td>\n",
              "    </tr>\n",
              "    <tr>\n",
              "      <th>2</th>\n",
              "      <td>Moshe</td>\n",
              "      <td>Cohen</td>\n",
              "      <td>moshe@cohen.com</td>\n",
              "    </tr>\n",
              "    <tr>\n",
              "      <th>3</th>\n",
              "      <td>Nika</td>\n",
              "      <td>Rave</td>\n",
              "      <td>Nika@rave.com</td>\n",
              "    </tr>\n",
              "  </tbody>\n",
              "</table>\n",
              "</div>"
            ],
            "text/plain": [
              "  FirstName LastName            Email\n",
              "0      Lisa    White   lisa@White.com\n",
              "1      Lisa    Cohen   lisa@cohen.com\n",
              "2     Moshe    Cohen  moshe@cohen.com\n",
              "3      Nika     Rave    Nika@rave.com"
            ]
          },
          "metadata": {
            "tags": []
          }
        }
      ]
    },
    {
      "cell_type": "code",
      "metadata": {
        "colab": {
          "base_uri": "https://localhost:8080/",
          "height": 216
        },
        "id": "3cEc3sCZn8UF",
        "outputId": "8927c94a-475c-49c5-e8ca-066fc5acbd83"
      },
      "source": [
        "customers_query = customers_query.order_by(desc(Customer.FirstName))\n",
        "\n",
        "display_results(customers_query)"
      ],
      "execution_count": 22,
      "outputs": [
        {
          "output_type": "stream",
          "text": [
            "2020-12-14 17:12:31,692 INFO sqlalchemy.engine.base.OptionEngine SELECT customers.\"FirstName\", customers.\"LastName\", customers.\"Email\" \n",
            "FROM customers ORDER BY customers.\"FirstName\" ASC, customers.\"LastName\" DESC, customers.\"FirstName\" DESC\n",
            "2020-12-14 17:12:31,694 INFO sqlalchemy.engine.base.OptionEngine ()\n"
          ],
          "name": "stdout"
        },
        {
          "output_type": "display_data",
          "data": {
            "text/html": [
              "<div>\n",
              "<style scoped>\n",
              "    .dataframe tbody tr th:only-of-type {\n",
              "        vertical-align: middle;\n",
              "    }\n",
              "\n",
              "    .dataframe tbody tr th {\n",
              "        vertical-align: top;\n",
              "    }\n",
              "\n",
              "    .dataframe thead th {\n",
              "        text-align: right;\n",
              "    }\n",
              "</style>\n",
              "<table border=\"1\" class=\"dataframe\">\n",
              "  <thead>\n",
              "    <tr style=\"text-align: right;\">\n",
              "      <th></th>\n",
              "      <th>FirstName</th>\n",
              "      <th>LastName</th>\n",
              "      <th>Email</th>\n",
              "    </tr>\n",
              "  </thead>\n",
              "  <tbody>\n",
              "    <tr>\n",
              "      <th>0</th>\n",
              "      <td>Lisa</td>\n",
              "      <td>White</td>\n",
              "      <td>lisa@White.com</td>\n",
              "    </tr>\n",
              "    <tr>\n",
              "      <th>1</th>\n",
              "      <td>Lisa</td>\n",
              "      <td>Cohen</td>\n",
              "      <td>lisa@cohen.com</td>\n",
              "    </tr>\n",
              "    <tr>\n",
              "      <th>2</th>\n",
              "      <td>Moshe</td>\n",
              "      <td>Cohen</td>\n",
              "      <td>moshe@cohen.com</td>\n",
              "    </tr>\n",
              "    <tr>\n",
              "      <th>3</th>\n",
              "      <td>Nika</td>\n",
              "      <td>Rave</td>\n",
              "      <td>Nika@rave.com</td>\n",
              "    </tr>\n",
              "  </tbody>\n",
              "</table>\n",
              "</div>"
            ],
            "text/plain": [
              "  FirstName LastName            Email\n",
              "0      Lisa    White   lisa@White.com\n",
              "1      Lisa    Cohen   lisa@cohen.com\n",
              "2     Moshe    Cohen  moshe@cohen.com\n",
              "3      Nika     Rave    Nika@rave.com"
            ]
          },
          "metadata": {
            "tags": []
          }
        }
      ]
    },
    {
      "cell_type": "markdown",
      "metadata": {
        "id": "_JfBzH4FuYxd"
      },
      "source": [
        "**where**\n",
        "Оператор SQL WHERE служит для задания дополнительного условия выборки, операций вставки, редактирования и удаления записей.\n",
        "\n",
        "`where condition`"
      ]
    },
    {
      "cell_type": "code",
      "metadata": {
        "colab": {
          "base_uri": "https://localhost:8080/",
          "height": 174
        },
        "id": "FBvycyqmsheX",
        "outputId": "e289784e-ec11-426f-cafa-73e12f3bac6a"
      },
      "source": [
        "customers_query = select([Customer.FirstName, Customer.LastName, Customer.Email])\n",
        "customers_query = customers_query.where(Customer.FirstName == 'Lisa')\n",
        "\n",
        "display_results(customers_query)"
      ],
      "execution_count": 23,
      "outputs": [
        {
          "output_type": "stream",
          "text": [
            "2020-12-14 17:12:40,937 INFO sqlalchemy.engine.base.OptionEngine SELECT customers.\"FirstName\", customers.\"LastName\", customers.\"Email\" \n",
            "FROM customers \n",
            "WHERE customers.\"FirstName\" = ?\n",
            "2020-12-14 17:12:40,938 INFO sqlalchemy.engine.base.OptionEngine ('Lisa',)\n"
          ],
          "name": "stdout"
        },
        {
          "output_type": "display_data",
          "data": {
            "text/html": [
              "<div>\n",
              "<style scoped>\n",
              "    .dataframe tbody tr th:only-of-type {\n",
              "        vertical-align: middle;\n",
              "    }\n",
              "\n",
              "    .dataframe tbody tr th {\n",
              "        vertical-align: top;\n",
              "    }\n",
              "\n",
              "    .dataframe thead th {\n",
              "        text-align: right;\n",
              "    }\n",
              "</style>\n",
              "<table border=\"1\" class=\"dataframe\">\n",
              "  <thead>\n",
              "    <tr style=\"text-align: right;\">\n",
              "      <th></th>\n",
              "      <th>FirstName</th>\n",
              "      <th>LastName</th>\n",
              "      <th>Email</th>\n",
              "    </tr>\n",
              "  </thead>\n",
              "  <tbody>\n",
              "    <tr>\n",
              "      <th>0</th>\n",
              "      <td>Lisa</td>\n",
              "      <td>Cohen</td>\n",
              "      <td>lisa@cohen.com</td>\n",
              "    </tr>\n",
              "    <tr>\n",
              "      <th>1</th>\n",
              "      <td>Lisa</td>\n",
              "      <td>White</td>\n",
              "      <td>lisa@White.com</td>\n",
              "    </tr>\n",
              "  </tbody>\n",
              "</table>\n",
              "</div>"
            ],
            "text/plain": [
              "  FirstName LastName           Email\n",
              "0      Lisa    Cohen  lisa@cohen.com\n",
              "1      Lisa    White  lisa@White.com"
            ]
          },
          "metadata": {
            "tags": []
          }
        }
      ]
    },
    {
      "cell_type": "code",
      "metadata": {
        "id": "UUJsP93ugxUE"
      },
      "source": [
        "customers_query = select([Customer.FirstName, Customer.LastName, Customer.Email])\n",
        "customers_query = customers_query.where(Customer.FirstName == 'Lisa').order_by(asc(Customer.LastName))"
      ],
      "execution_count": 24,
      "outputs": []
    },
    {
      "cell_type": "code",
      "metadata": {
        "colab": {
          "base_uri": "https://localhost:8080/",
          "height": 174
        },
        "id": "nf78FV4Lga-U",
        "outputId": "9e96c9c3-364d-4cdb-8d75-82110453eca9"
      },
      "source": [
        "display_results(customers_query)"
      ],
      "execution_count": 25,
      "outputs": [
        {
          "output_type": "stream",
          "text": [
            "2020-12-14 17:13:24,702 INFO sqlalchemy.engine.base.OptionEngine SELECT customers.\"FirstName\", customers.\"LastName\", customers.\"Email\" \n",
            "FROM customers \n",
            "WHERE customers.\"FirstName\" = ? ORDER BY customers.\"LastName\" ASC\n",
            "2020-12-14 17:13:24,704 INFO sqlalchemy.engine.base.OptionEngine ('Lisa',)\n"
          ],
          "name": "stdout"
        },
        {
          "output_type": "display_data",
          "data": {
            "text/html": [
              "<div>\n",
              "<style scoped>\n",
              "    .dataframe tbody tr th:only-of-type {\n",
              "        vertical-align: middle;\n",
              "    }\n",
              "\n",
              "    .dataframe tbody tr th {\n",
              "        vertical-align: top;\n",
              "    }\n",
              "\n",
              "    .dataframe thead th {\n",
              "        text-align: right;\n",
              "    }\n",
              "</style>\n",
              "<table border=\"1\" class=\"dataframe\">\n",
              "  <thead>\n",
              "    <tr style=\"text-align: right;\">\n",
              "      <th></th>\n",
              "      <th>FirstName</th>\n",
              "      <th>LastName</th>\n",
              "      <th>Email</th>\n",
              "    </tr>\n",
              "  </thead>\n",
              "  <tbody>\n",
              "    <tr>\n",
              "      <th>0</th>\n",
              "      <td>Lisa</td>\n",
              "      <td>Cohen</td>\n",
              "      <td>lisa@cohen.com</td>\n",
              "    </tr>\n",
              "    <tr>\n",
              "      <th>1</th>\n",
              "      <td>Lisa</td>\n",
              "      <td>White</td>\n",
              "      <td>lisa@White.com</td>\n",
              "    </tr>\n",
              "  </tbody>\n",
              "</table>\n",
              "</div>"
            ],
            "text/plain": [
              "  FirstName LastName           Email\n",
              "0      Lisa    Cohen  lisa@cohen.com\n",
              "1      Lisa    White  lisa@White.com"
            ]
          },
          "metadata": {
            "tags": []
          }
        }
      ]
    },
    {
      "cell_type": "markdown",
      "metadata": {
        "id": "hSVfs1IPsQl0"
      },
      "source": [
        "Документация по операторам в SQLAchemy:\n",
        "\n",
        "https://docs.sqlalchemy.org/en/13/core/sqlelement.html"
      ]
    },
    {
      "cell_type": "markdown",
      "metadata": {
        "id": "A7oCKgfNlIrD"
      },
      "source": [
        "## SQLAchemy + Pandas"
      ]
    },
    {
      "cell_type": "code",
      "metadata": {
        "id": "qFRX0AbliZNm"
      },
      "source": [
        "import pandas as pd"
      ],
      "execution_count": 26,
      "outputs": []
    },
    {
      "cell_type": "code",
      "metadata": {
        "id": "Hb5nniFklCHb",
        "colab": {
          "base_uri": "https://localhost:8080/",
          "height": 35
        },
        "outputId": "60e3d5d4-0d8e-42a4-873e-b25d9d3d610b"
      },
      "source": [
        "#выведем название нашей таблицы\n",
        "Item.__tablename__"
      ],
      "execution_count": 27,
      "outputs": [
        {
          "output_type": "execute_result",
          "data": {
            "application/vnd.google.colaboratory.intrinsic+json": {
              "type": "string"
            },
            "text/plain": [
              "'items'"
            ]
          },
          "metadata": {
            "tags": []
          },
          "execution_count": 27
        }
      ]
    },
    {
      "cell_type": "code",
      "metadata": {
        "id": "47RSBePYiUM2",
        "colab": {
          "base_uri": "https://localhost:8080/",
          "height": 266
        },
        "outputId": "d91ac386-b5ea-4519-cc01-d54e28484f4d"
      },
      "source": [
        "df = pd.read_sql('SELECT * FROM customers', conn)\n",
        "df.tail()"
      ],
      "execution_count": 28,
      "outputs": [
        {
          "output_type": "stream",
          "text": [
            "2020-12-14 17:13:45,049 INFO sqlalchemy.engine.base.Engine PRAGMA main.table_info(\"SELECT * FROM customers\")\n",
            "2020-12-14 17:13:45,051 INFO sqlalchemy.engine.base.Engine ()\n",
            "2020-12-14 17:13:45,053 INFO sqlalchemy.engine.base.Engine PRAGMA temp.table_info(\"SELECT * FROM customers\")\n",
            "2020-12-14 17:13:45,056 INFO sqlalchemy.engine.base.Engine ()\n",
            "2020-12-14 17:13:45,058 INFO sqlalchemy.engine.base.Engine SELECT * FROM customers\n",
            "2020-12-14 17:13:45,060 INFO sqlalchemy.engine.base.Engine ()\n"
          ],
          "name": "stdout"
        },
        {
          "output_type": "execute_result",
          "data": {
            "text/html": [
              "<div>\n",
              "<style scoped>\n",
              "    .dataframe tbody tr th:only-of-type {\n",
              "        vertical-align: middle;\n",
              "    }\n",
              "\n",
              "    .dataframe tbody tr th {\n",
              "        vertical-align: top;\n",
              "    }\n",
              "\n",
              "    .dataframe thead th {\n",
              "        text-align: right;\n",
              "    }\n",
              "</style>\n",
              "<table border=\"1\" class=\"dataframe\">\n",
              "  <thead>\n",
              "    <tr style=\"text-align: right;\">\n",
              "      <th></th>\n",
              "      <th>CustomerId</th>\n",
              "      <th>FirstName</th>\n",
              "      <th>LastName</th>\n",
              "      <th>Company</th>\n",
              "      <th>Address</th>\n",
              "      <th>Phone</th>\n",
              "      <th>Email</th>\n",
              "    </tr>\n",
              "  </thead>\n",
              "  <tbody>\n",
              "    <tr>\n",
              "      <th>0</th>\n",
              "      <td>1</td>\n",
              "      <td>Moshe</td>\n",
              "      <td>Cohen</td>\n",
              "      <td>None</td>\n",
              "      <td>Alenbi 99, Tel Aviv</td>\n",
              "      <td>053-5556789</td>\n",
              "      <td>moshe@cohen.com</td>\n",
              "    </tr>\n",
              "    <tr>\n",
              "      <th>1</th>\n",
              "      <td>2</td>\n",
              "      <td>Lisa</td>\n",
              "      <td>Cohen</td>\n",
              "      <td>None</td>\n",
              "      <td>Alenbi 99, Tel Aviv</td>\n",
              "      <td>052-1234565</td>\n",
              "      <td>lisa@cohen.com</td>\n",
              "    </tr>\n",
              "    <tr>\n",
              "      <th>2</th>\n",
              "      <td>3</td>\n",
              "      <td>Nika</td>\n",
              "      <td>Rave</td>\n",
              "      <td>None</td>\n",
              "      <td>Green st, LA</td>\n",
              "      <td>330-1234565</td>\n",
              "      <td>Nika@rave.com</td>\n",
              "    </tr>\n",
              "    <tr>\n",
              "      <th>3</th>\n",
              "      <td>4</td>\n",
              "      <td>Lisa</td>\n",
              "      <td>White</td>\n",
              "      <td>None</td>\n",
              "      <td>Alenbi 66, Tel Aviv</td>\n",
              "      <td>062-1234565</td>\n",
              "      <td>lisa@White.com</td>\n",
              "    </tr>\n",
              "  </tbody>\n",
              "</table>\n",
              "</div>"
            ],
            "text/plain": [
              "   CustomerId FirstName  ...        Phone            Email\n",
              "0           1     Moshe  ...  053-5556789  moshe@cohen.com\n",
              "1           2      Lisa  ...  052-1234565   lisa@cohen.com\n",
              "2           3      Nika  ...  330-1234565    Nika@rave.com\n",
              "3           4      Lisa  ...  062-1234565   lisa@White.com\n",
              "\n",
              "[4 rows x 7 columns]"
            ]
          },
          "metadata": {
            "tags": []
          },
          "execution_count": 28
        }
      ]
    },
    {
      "cell_type": "code",
      "metadata": {
        "id": "8N_pMxycvWZ7",
        "colab": {
          "base_uri": "https://localhost:8080/",
          "height": 619
        },
        "outputId": "d5993acf-487c-4e6d-b7f8-df53ef038040"
      },
      "source": [
        "# Если хотим получить отсортированные значения - ключевая команда ORDER BY\n",
        "sql = \"\"\"\n",
        "SELECT \n",
        "    *\n",
        "FROM\n",
        "    customers\n",
        "ORDER BY \n",
        "    LastName ASC;\n",
        "\"\"\"\n",
        "df = pd.read_sql(sql, conn)\n",
        "\n",
        "df.head()"
      ],
      "execution_count": 29,
      "outputs": [
        {
          "output_type": "stream",
          "text": [
            "2020-12-14 17:14:54,396 INFO sqlalchemy.engine.base.Engine PRAGMA main.table_info(\"\n",
            "SELECT \n",
            "    *\n",
            "FROM\n",
            "    customers\n",
            "ORDER BY \n",
            "    LastName ASC;\n",
            "\")\n",
            "2020-12-14 17:14:54,398 INFO sqlalchemy.engine.base.Engine ()\n",
            "2020-12-14 17:14:54,400 INFO sqlalchemy.engine.base.Engine PRAGMA temp.table_info(\"\n",
            "SELECT \n",
            "    *\n",
            "FROM\n",
            "    customers\n",
            "ORDER BY \n",
            "    LastName ASC;\n",
            "\")\n",
            "2020-12-14 17:14:54,403 INFO sqlalchemy.engine.base.Engine ()\n",
            "2020-12-14 17:14:54,406 INFO sqlalchemy.engine.base.Engine \n",
            "SELECT \n",
            "    *\n",
            "FROM\n",
            "    customers\n",
            "ORDER BY \n",
            "    LastName ASC;\n",
            "\n",
            "2020-12-14 17:14:54,407 INFO sqlalchemy.engine.base.Engine ()\n"
          ],
          "name": "stdout"
        },
        {
          "output_type": "execute_result",
          "data": {
            "text/html": [
              "<div>\n",
              "<style scoped>\n",
              "    .dataframe tbody tr th:only-of-type {\n",
              "        vertical-align: middle;\n",
              "    }\n",
              "\n",
              "    .dataframe tbody tr th {\n",
              "        vertical-align: top;\n",
              "    }\n",
              "\n",
              "    .dataframe thead th {\n",
              "        text-align: right;\n",
              "    }\n",
              "</style>\n",
              "<table border=\"1\" class=\"dataframe\">\n",
              "  <thead>\n",
              "    <tr style=\"text-align: right;\">\n",
              "      <th></th>\n",
              "      <th>CustomerId</th>\n",
              "      <th>FirstName</th>\n",
              "      <th>LastName</th>\n",
              "      <th>Company</th>\n",
              "      <th>Address</th>\n",
              "      <th>Phone</th>\n",
              "      <th>Email</th>\n",
              "    </tr>\n",
              "  </thead>\n",
              "  <tbody>\n",
              "    <tr>\n",
              "      <th>0</th>\n",
              "      <td>1</td>\n",
              "      <td>Moshe</td>\n",
              "      <td>Cohen</td>\n",
              "      <td>None</td>\n",
              "      <td>Alenbi 99, Tel Aviv</td>\n",
              "      <td>053-5556789</td>\n",
              "      <td>moshe@cohen.com</td>\n",
              "    </tr>\n",
              "    <tr>\n",
              "      <th>1</th>\n",
              "      <td>2</td>\n",
              "      <td>Lisa</td>\n",
              "      <td>Cohen</td>\n",
              "      <td>None</td>\n",
              "      <td>Alenbi 99, Tel Aviv</td>\n",
              "      <td>052-1234565</td>\n",
              "      <td>lisa@cohen.com</td>\n",
              "    </tr>\n",
              "    <tr>\n",
              "      <th>2</th>\n",
              "      <td>3</td>\n",
              "      <td>Nika</td>\n",
              "      <td>Rave</td>\n",
              "      <td>None</td>\n",
              "      <td>Green st, LA</td>\n",
              "      <td>330-1234565</td>\n",
              "      <td>Nika@rave.com</td>\n",
              "    </tr>\n",
              "    <tr>\n",
              "      <th>3</th>\n",
              "      <td>4</td>\n",
              "      <td>Lisa</td>\n",
              "      <td>White</td>\n",
              "      <td>None</td>\n",
              "      <td>Alenbi 66, Tel Aviv</td>\n",
              "      <td>062-1234565</td>\n",
              "      <td>lisa@White.com</td>\n",
              "    </tr>\n",
              "  </tbody>\n",
              "</table>\n",
              "</div>"
            ],
            "text/plain": [
              "   CustomerId FirstName  ...        Phone            Email\n",
              "0           1     Moshe  ...  053-5556789  moshe@cohen.com\n",
              "1           2      Lisa  ...  052-1234565   lisa@cohen.com\n",
              "2           3      Nika  ...  330-1234565    Nika@rave.com\n",
              "3           4      Lisa  ...  062-1234565   lisa@White.com\n",
              "\n",
              "[4 rows x 7 columns]"
            ]
          },
          "metadata": {
            "tags": []
          },
          "execution_count": 29
        }
      ]
    },
    {
      "cell_type": "code",
      "metadata": {
        "id": "-UA9_QlHf0ne",
        "colab": {
          "base_uri": "https://localhost:8080/",
          "height": 590
        },
        "outputId": "602d9a96-dfda-4181-e890-d35290448420"
      },
      "source": [
        "# Если хотим получить уникальные значения - ключевая команда DISTINCT\n",
        "df = pd.read_sql(\"\"\"\n",
        "SELECT \n",
        "    DISTINCT LastName\n",
        "FROM\n",
        "    customers\n",
        "ORDER BY \n",
        "    LastName;\n",
        "\"\"\", conn)\n",
        "\n",
        "df.head()"
      ],
      "execution_count": 30,
      "outputs": [
        {
          "output_type": "stream",
          "text": [
            "2020-12-14 17:15:17,708 INFO sqlalchemy.engine.base.Engine PRAGMA main.table_info(\"\n",
            "SELECT \n",
            "    DISTINCT LastName\n",
            "FROM\n",
            "    customers\n",
            "ORDER BY \n",
            "    LastName;\n",
            "\")\n",
            "2020-12-14 17:15:17,710 INFO sqlalchemy.engine.base.Engine ()\n",
            "2020-12-14 17:15:17,711 INFO sqlalchemy.engine.base.Engine PRAGMA temp.table_info(\"\n",
            "SELECT \n",
            "    DISTINCT LastName\n",
            "FROM\n",
            "    customers\n",
            "ORDER BY \n",
            "    LastName;\n",
            "\")\n",
            "2020-12-14 17:15:17,714 INFO sqlalchemy.engine.base.Engine ()\n",
            "2020-12-14 17:15:17,715 INFO sqlalchemy.engine.base.Engine \n",
            "SELECT \n",
            "    DISTINCT LastName\n",
            "FROM\n",
            "    customers\n",
            "ORDER BY \n",
            "    LastName;\n",
            "\n",
            "2020-12-14 17:15:17,716 INFO sqlalchemy.engine.base.Engine ()\n"
          ],
          "name": "stdout"
        },
        {
          "output_type": "execute_result",
          "data": {
            "text/html": [
              "<div>\n",
              "<style scoped>\n",
              "    .dataframe tbody tr th:only-of-type {\n",
              "        vertical-align: middle;\n",
              "    }\n",
              "\n",
              "    .dataframe tbody tr th {\n",
              "        vertical-align: top;\n",
              "    }\n",
              "\n",
              "    .dataframe thead th {\n",
              "        text-align: right;\n",
              "    }\n",
              "</style>\n",
              "<table border=\"1\" class=\"dataframe\">\n",
              "  <thead>\n",
              "    <tr style=\"text-align: right;\">\n",
              "      <th></th>\n",
              "      <th>LastName</th>\n",
              "    </tr>\n",
              "  </thead>\n",
              "  <tbody>\n",
              "    <tr>\n",
              "      <th>0</th>\n",
              "      <td>Cohen</td>\n",
              "    </tr>\n",
              "    <tr>\n",
              "      <th>1</th>\n",
              "      <td>Rave</td>\n",
              "    </tr>\n",
              "    <tr>\n",
              "      <th>2</th>\n",
              "      <td>White</td>\n",
              "    </tr>\n",
              "  </tbody>\n",
              "</table>\n",
              "</div>"
            ],
            "text/plain": [
              "  LastName\n",
              "0    Cohen\n",
              "1     Rave\n",
              "2    White"
            ]
          },
          "metadata": {
            "tags": []
          },
          "execution_count": 30
        }
      ]
    },
    {
      "cell_type": "markdown",
      "metadata": {
        "id": "mckZNlhL2NLq"
      },
      "source": [
        "# ДЗ\n",
        " Дедлайн **15.12.2020, 23:59**\n",
        "  \n",
        "- Решить первые 20 задач с сайта https://www.sql-ex.ru (Раздел SELECT(обучающий этап)). Оценивается пропорционально кол-ву выполненных задач. + 20 % (еще 15 задач)\n",
        "\n",
        "- Дополнить таблицу 'items' и 'purchases' 5ью экземплярами (каждую) на Ваш Выбор. Важно: они должны быть привязаны к существующим покупателям Lisa, Nika, Moshe.\n",
        "- При помощи запроса SQLAlchemy вывести все покупки Lisa. Вывести тоже самое при помощи Pandas."
      ]
    },
    {
      "cell_type": "markdown",
      "metadata": {
        "id": "fykV6I7tkAPK"
      },
      "source": [
        "\n",
        "<center><img src='https://github.com/ddvika/Data-Science-School-2020/blob/main/lecture_5/imgs/i-know-sql.jpg?raw=true'></center>"
      ]
    },
    {
      "cell_type": "code",
      "metadata": {
        "colab": {
          "base_uri": "https://localhost:8080/"
        },
        "id": "u7N0Mot_DdCY",
        "outputId": "467344a8-d0a5-43c2-e58d-5ca59bc85b3c"
      },
      "source": [
        "хлеб=Item(\r\n",
        "    Name='хлеб',\r\n",
        "    Price=20)\r\n",
        "session.add(хлеб)\r\n",
        "\r\n",
        "jaket=Item(\r\n",
        "    Name='jaket',\r\n",
        "    Price=1020)\r\n",
        "session.add(jaket)\r\n",
        "\r\n",
        "printer=Item(\r\n",
        "    Name='printer',\r\n",
        "    Price=6000)\r\n",
        "session.add(printer)\r\n",
        "\r\n",
        "pc=Item(\r\n",
        "    Name='PC',\r\n",
        "    Price=51200)\r\n",
        "session.add(pc)\r\n",
        "\r\n",
        "laptop=Item(\r\n",
        "    Name='laptop',\r\n",
        "    Price=71020)\r\n",
        "session.add(laptop)\r\n",
        "session.commit()"
      ],
      "execution_count": 33,
      "outputs": [
        {
          "output_type": "stream",
          "text": [
            "2020-12-14 17:24:30,909 INFO sqlalchemy.engine.base.Engine BEGIN (implicit)\n",
            "2020-12-14 17:24:30,912 INFO sqlalchemy.engine.base.Engine INSERT INTO items (\"Name\", \"Price\") VALUES (?, ?)\n",
            "2020-12-14 17:24:30,913 INFO sqlalchemy.engine.base.Engine ('хлеб', 20.0)\n",
            "2020-12-14 17:24:30,915 INFO sqlalchemy.engine.base.Engine INSERT INTO items (\"Name\", \"Price\") VALUES (?, ?)\n",
            "2020-12-14 17:24:30,917 INFO sqlalchemy.engine.base.Engine ('jaket', 1020.0)\n",
            "2020-12-14 17:24:30,918 INFO sqlalchemy.engine.base.Engine INSERT INTO items (\"Name\", \"Price\") VALUES (?, ?)\n",
            "2020-12-14 17:24:30,920 INFO sqlalchemy.engine.base.Engine ('printer', 6000.0)\n",
            "2020-12-14 17:24:30,922 INFO sqlalchemy.engine.base.Engine INSERT INTO items (\"Name\", \"Price\") VALUES (?, ?)\n",
            "2020-12-14 17:24:30,923 INFO sqlalchemy.engine.base.Engine ('PC', 51200.0)\n",
            "2020-12-14 17:24:30,925 INFO sqlalchemy.engine.base.Engine INSERT INTO items (\"Name\", \"Price\") VALUES (?, ?)\n",
            "2020-12-14 17:24:30,926 INFO sqlalchemy.engine.base.Engine ('laptop', 71020.0)\n",
            "2020-12-14 17:24:30,929 INFO sqlalchemy.engine.base.Engine COMMIT\n"
          ],
          "name": "stdout"
        }
      ]
    },
    {
      "cell_type": "code",
      "metadata": {
        "colab": {
          "base_uri": "https://localhost:8080/",
          "height": 299
        },
        "id": "jA4Sn9cgt2AL",
        "outputId": "53cdddac-a631-4209-fb17-776f224229b5"
      },
      "source": [
        "query = select([Item])\r\n",
        "\r\n",
        "display_results(query)"
      ],
      "execution_count": 34,
      "outputs": [
        {
          "output_type": "stream",
          "text": [
            "2020-12-14 17:24:36,814 INFO sqlalchemy.engine.base.OptionEngine SELECT items.\"ItemId\", items.\"Name\", items.\"Price\" \n",
            "FROM items\n",
            "2020-12-14 17:24:36,816 INFO sqlalchemy.engine.base.OptionEngine ()\n"
          ],
          "name": "stdout"
        },
        {
          "output_type": "stream",
          "text": [
            "/usr/local/lib/python3.6/dist-packages/sqlalchemy/sql/sqltypes.py:668: SAWarning: Dialect sqlite+pysqlite does *not* support Decimal objects natively, and SQLAlchemy must convert from floating point - rounding errors and other issues may occur. Please consider storing Decimal numbers as strings or integers on this platform for lossless storage.\n",
            "  \"storage.\" % (dialect.name, dialect.driver)\n"
          ],
          "name": "stderr"
        },
        {
          "output_type": "display_data",
          "data": {
            "text/html": [
              "<div>\n",
              "<style scoped>\n",
              "    .dataframe tbody tr th:only-of-type {\n",
              "        vertical-align: middle;\n",
              "    }\n",
              "\n",
              "    .dataframe tbody tr th {\n",
              "        vertical-align: top;\n",
              "    }\n",
              "\n",
              "    .dataframe thead th {\n",
              "        text-align: right;\n",
              "    }\n",
              "</style>\n",
              "<table border=\"1\" class=\"dataframe\">\n",
              "  <thead>\n",
              "    <tr style=\"text-align: right;\">\n",
              "      <th></th>\n",
              "      <th>ItemId</th>\n",
              "      <th>Name</th>\n",
              "      <th>Price</th>\n",
              "    </tr>\n",
              "  </thead>\n",
              "  <tbody>\n",
              "    <tr>\n",
              "      <th>0</th>\n",
              "      <td>1</td>\n",
              "      <td>хлеб</td>\n",
              "      <td>20.0</td>\n",
              "    </tr>\n",
              "    <tr>\n",
              "      <th>1</th>\n",
              "      <td>2</td>\n",
              "      <td>jaket</td>\n",
              "      <td>1020.0</td>\n",
              "    </tr>\n",
              "    <tr>\n",
              "      <th>2</th>\n",
              "      <td>3</td>\n",
              "      <td>printer</td>\n",
              "      <td>6000.0</td>\n",
              "    </tr>\n",
              "    <tr>\n",
              "      <th>3</th>\n",
              "      <td>4</td>\n",
              "      <td>PC</td>\n",
              "      <td>51200.0</td>\n",
              "    </tr>\n",
              "    <tr>\n",
              "      <th>4</th>\n",
              "      <td>5</td>\n",
              "      <td>laptop</td>\n",
              "      <td>71020.0</td>\n",
              "    </tr>\n",
              "  </tbody>\n",
              "</table>\n",
              "</div>"
            ],
            "text/plain": [
              "   ItemId     Name    Price\n",
              "0       1     хлеб     20.0\n",
              "1       2    jaket   1020.0\n",
              "2       3  printer   6000.0\n",
              "3       4       PC  51200.0\n",
              "4       5   laptop  71020.0"
            ]
          },
          "metadata": {
            "tags": []
          }
        }
      ]
    },
    {
      "cell_type": "code",
      "metadata": {
        "colab": {
          "base_uri": "https://localhost:8080/",
          "height": 236
        },
        "id": "aJsCrSp_y1D_",
        "outputId": "fb4f2e52-60c5-4c78-ac3a-e148cf4ed337"
      },
      "source": [
        "query = select([Customer])\r\n",
        "\r\n",
        "display_results(query)"
      ],
      "execution_count": 35,
      "outputs": [
        {
          "output_type": "stream",
          "text": [
            "2020-12-14 17:24:45,020 INFO sqlalchemy.engine.base.OptionEngine SELECT customers.\"CustomerId\", customers.\"FirstName\", customers.\"LastName\", customers.\"Company\", customers.\"Address\", customers.\"Phone\", customers.\"Email\" \n",
            "FROM customers\n",
            "2020-12-14 17:24:45,022 INFO sqlalchemy.engine.base.OptionEngine ()\n"
          ],
          "name": "stdout"
        },
        {
          "output_type": "display_data",
          "data": {
            "text/html": [
              "<div>\n",
              "<style scoped>\n",
              "    .dataframe tbody tr th:only-of-type {\n",
              "        vertical-align: middle;\n",
              "    }\n",
              "\n",
              "    .dataframe tbody tr th {\n",
              "        vertical-align: top;\n",
              "    }\n",
              "\n",
              "    .dataframe thead th {\n",
              "        text-align: right;\n",
              "    }\n",
              "</style>\n",
              "<table border=\"1\" class=\"dataframe\">\n",
              "  <thead>\n",
              "    <tr style=\"text-align: right;\">\n",
              "      <th></th>\n",
              "      <th>CustomerId</th>\n",
              "      <th>FirstName</th>\n",
              "      <th>LastName</th>\n",
              "      <th>Company</th>\n",
              "      <th>Address</th>\n",
              "      <th>Phone</th>\n",
              "      <th>Email</th>\n",
              "    </tr>\n",
              "  </thead>\n",
              "  <tbody>\n",
              "    <tr>\n",
              "      <th>0</th>\n",
              "      <td>1</td>\n",
              "      <td>Moshe</td>\n",
              "      <td>Cohen</td>\n",
              "      <td>None</td>\n",
              "      <td>Alenbi 99, Tel Aviv</td>\n",
              "      <td>053-5556789</td>\n",
              "      <td>moshe@cohen.com</td>\n",
              "    </tr>\n",
              "    <tr>\n",
              "      <th>1</th>\n",
              "      <td>2</td>\n",
              "      <td>Lisa</td>\n",
              "      <td>Cohen</td>\n",
              "      <td>None</td>\n",
              "      <td>Alenbi 99, Tel Aviv</td>\n",
              "      <td>052-1234565</td>\n",
              "      <td>lisa@cohen.com</td>\n",
              "    </tr>\n",
              "    <tr>\n",
              "      <th>2</th>\n",
              "      <td>3</td>\n",
              "      <td>Nika</td>\n",
              "      <td>Rave</td>\n",
              "      <td>None</td>\n",
              "      <td>Green st, LA</td>\n",
              "      <td>330-1234565</td>\n",
              "      <td>Nika@rave.com</td>\n",
              "    </tr>\n",
              "    <tr>\n",
              "      <th>3</th>\n",
              "      <td>4</td>\n",
              "      <td>Lisa</td>\n",
              "      <td>White</td>\n",
              "      <td>None</td>\n",
              "      <td>Alenbi 66, Tel Aviv</td>\n",
              "      <td>062-1234565</td>\n",
              "      <td>lisa@White.com</td>\n",
              "    </tr>\n",
              "  </tbody>\n",
              "</table>\n",
              "</div>"
            ],
            "text/plain": [
              "   CustomerId FirstName  ...        Phone            Email\n",
              "0           1     Moshe  ...  053-5556789  moshe@cohen.com\n",
              "1           2      Lisa  ...  052-1234565   lisa@cohen.com\n",
              "2           3      Nika  ...  330-1234565    Nika@rave.com\n",
              "3           4      Lisa  ...  062-1234565   lisa@White.com\n",
              "\n",
              "[4 rows x 7 columns]"
            ]
          },
          "metadata": {
            "tags": []
          }
        }
      ]
    },
    {
      "cell_type": "code",
      "metadata": {
        "id": "dYnicgSCSdjh"
      },
      "source": [
        "from datetime import datetime"
      ],
      "execution_count": 38,
      "outputs": []
    },
    {
      "cell_type": "code",
      "metadata": {
        "colab": {
          "base_uri": "https://localhost:8080/"
        },
        "id": "nIBeFt8czEzF",
        "outputId": "faf538c1-815e-4cf7-e174-8c8708200c9f"
      },
      "source": [
        "perv=Purchase(\r\n",
        "    ItemId=1,\r\n",
        "    CustomerId=2,\r\n",
        "    Date=datetime(2000,8,1)\r\n",
        ")\r\n",
        "session.add(perv)\r\n",
        "session.commit()"
      ],
      "execution_count": 39,
      "outputs": [
        {
          "output_type": "stream",
          "text": [
            "2020-12-14 17:28:00,960 INFO sqlalchemy.engine.base.Engine BEGIN (implicit)\n",
            "2020-12-14 17:28:00,962 INFO sqlalchemy.engine.base.Engine INSERT INTO purchases (\"ItemId\", \"CustomerId\", \"Date\") VALUES (?, ?, ?)\n",
            "2020-12-14 17:28:00,963 INFO sqlalchemy.engine.base.Engine (1, 2, '2000-08-01 00:00:00.000000')\n",
            "2020-12-14 17:28:00,965 INFO sqlalchemy.engine.base.Engine COMMIT\n"
          ],
          "name": "stdout"
        }
      ]
    },
    {
      "cell_type": "code",
      "metadata": {
        "colab": {
          "base_uri": "https://localhost:8080/"
        },
        "id": "53RNs2Br4Xji",
        "outputId": "77b607af-590e-4d09-9064-e413d61af83a"
      },
      "source": [
        "vtor=Purchase(\r\n",
        "    ItemId=2,\r\n",
        "    CustomerId=3,\r\n",
        "    Date=datetime(2020,3,15)\r\n",
        ")\r\n",
        "session.add(vtor)\r\n",
        "dua=Purchase(\r\n",
        "    ItemId=1,\r\n",
        "    CustomerId=2,\r\n",
        "    Date=datetime(2017,5,12)\r\n",
        ")\r\n",
        "session.add(dua)\r\n",
        "\r\n",
        "trei=Purchase(\r\n",
        "    ItemId=3,\r\n",
        "    CustomerId=4,\r\n",
        "    Date=datetime(2019,6,5)\r\n",
        ")\r\n",
        "session.add(trei)\r\n",
        "\r\n",
        "patru=Purchase(\r\n",
        "    ItemId=5,\r\n",
        "    CustomerId=5,\r\n",
        "    Date=datetime(2015,3,8)\r\n",
        ")\r\n",
        "session.add(patru)\r\n",
        "\r\n",
        "session.commit()"
      ],
      "execution_count": 40,
      "outputs": [
        {
          "output_type": "stream",
          "text": [
            "2020-12-14 17:28:11,936 INFO sqlalchemy.engine.base.Engine BEGIN (implicit)\n",
            "2020-12-14 17:28:11,938 INFO sqlalchemy.engine.base.Engine INSERT INTO purchases (\"ItemId\", \"CustomerId\", \"Date\") VALUES (?, ?, ?)\n",
            "2020-12-14 17:28:11,939 INFO sqlalchemy.engine.base.Engine (2, 3, '2020-03-15 00:00:00.000000')\n",
            "2020-12-14 17:28:11,941 INFO sqlalchemy.engine.base.Engine INSERT INTO purchases (\"ItemId\", \"CustomerId\", \"Date\") VALUES (?, ?, ?)\n",
            "2020-12-14 17:28:11,942 INFO sqlalchemy.engine.base.Engine (1, 2, '2017-05-12 00:00:00.000000')\n",
            "2020-12-14 17:28:11,944 INFO sqlalchemy.engine.base.Engine INSERT INTO purchases (\"ItemId\", \"CustomerId\", \"Date\") VALUES (?, ?, ?)\n",
            "2020-12-14 17:28:11,945 INFO sqlalchemy.engine.base.Engine (3, 4, '2019-06-05 00:00:00.000000')\n",
            "2020-12-14 17:28:11,948 INFO sqlalchemy.engine.base.Engine INSERT INTO purchases (\"ItemId\", \"CustomerId\", \"Date\") VALUES (?, ?, ?)\n",
            "2020-12-14 17:28:11,949 INFO sqlalchemy.engine.base.Engine (5, 5, '2015-03-08 00:00:00.000000')\n",
            "2020-12-14 17:28:11,951 INFO sqlalchemy.engine.base.Engine COMMIT\n"
          ],
          "name": "stdout"
        }
      ]
    },
    {
      "cell_type": "code",
      "metadata": {
        "colab": {
          "base_uri": "https://localhost:8080/",
          "height": 656
        },
        "id": "3u78Slo_36zP",
        "outputId": "3c4fde58-4a99-4fda-9614-d91797eb7910"
      },
      "source": [
        "query = select(Customer.CustomerId,Customer.FirstName,Purchase.ItemId, Purchase.Date).where(Customer.FirstName == 'Lisa')\r\n",
        "query = query.join (Purchase,Customer.CustomerId==Purchase.CustomerId)\r\n",
        "\r\n",
        "display_results(query)"
      ],
      "execution_count": 41,
      "outputs": [
        {
          "output_type": "error",
          "ename": "ArgumentError",
          "evalue": "ignored",
          "traceback": [
            "\u001b[0;31m---------------------------------------------------------------------------\u001b[0m",
            "\u001b[0;31mAttributeError\u001b[0m                            Traceback (most recent call last)",
            "\u001b[0;32m/usr/local/lib/python3.6/dist-packages/sqlalchemy/sql/elements.py\u001b[0m in \u001b[0;36m__getattr__\u001b[0;34m(self, key)\u001b[0m\n\u001b[1;32m    746\u001b[0m         \u001b[0;32mtry\u001b[0m\u001b[0;34m:\u001b[0m\u001b[0;34m\u001b[0m\u001b[0;34m\u001b[0m\u001b[0m\n\u001b[0;32m--> 747\u001b[0;31m             \u001b[0;32mreturn\u001b[0m \u001b[0mgetattr\u001b[0m\u001b[0;34m(\u001b[0m\u001b[0mself\u001b[0m\u001b[0;34m.\u001b[0m\u001b[0mcomparator\u001b[0m\u001b[0;34m,\u001b[0m \u001b[0mkey\u001b[0m\u001b[0;34m)\u001b[0m\u001b[0;34m\u001b[0m\u001b[0;34m\u001b[0m\u001b[0m\n\u001b[0m\u001b[1;32m    748\u001b[0m         \u001b[0;32mexcept\u001b[0m \u001b[0mAttributeError\u001b[0m \u001b[0;32mas\u001b[0m \u001b[0merr\u001b[0m\u001b[0;34m:\u001b[0m\u001b[0;34m\u001b[0m\u001b[0;34m\u001b[0m\u001b[0m\n",
            "\u001b[0;31mAttributeError\u001b[0m: 'Comparator' object has no attribute 'selectable'",
            "\nThe above exception was the direct cause of the following exception:\n",
            "\u001b[0;31mAttributeError\u001b[0m                            Traceback (most recent call last)",
            "\u001b[0;32m/usr/local/lib/python3.6/dist-packages/sqlalchemy/orm/attributes.py\u001b[0m in \u001b[0;36m__getattr__\u001b[0;34m(self, key)\u001b[0m\n\u001b[1;32m    228\u001b[0m         \u001b[0;32mtry\u001b[0m\u001b[0;34m:\u001b[0m\u001b[0;34m\u001b[0m\u001b[0;34m\u001b[0m\u001b[0m\n\u001b[0;32m--> 229\u001b[0;31m             \u001b[0;32mreturn\u001b[0m \u001b[0mgetattr\u001b[0m\u001b[0;34m(\u001b[0m\u001b[0mself\u001b[0m\u001b[0;34m.\u001b[0m\u001b[0mcomparator\u001b[0m\u001b[0;34m,\u001b[0m \u001b[0mkey\u001b[0m\u001b[0;34m)\u001b[0m\u001b[0;34m\u001b[0m\u001b[0;34m\u001b[0m\u001b[0m\n\u001b[0m\u001b[1;32m    230\u001b[0m         \u001b[0;32mexcept\u001b[0m \u001b[0mAttributeError\u001b[0m \u001b[0;32mas\u001b[0m \u001b[0merr\u001b[0m\u001b[0;34m:\u001b[0m\u001b[0;34m\u001b[0m\u001b[0;34m\u001b[0m\u001b[0m\n",
            "\u001b[0;32m/usr/local/lib/python3.6/dist-packages/sqlalchemy/util/langhelpers.py\u001b[0m in \u001b[0;36m__getattr__\u001b[0;34m(self, key)\u001b[0m\n\u001b[1;32m    977\u001b[0m         \u001b[0;32melse\u001b[0m\u001b[0;34m:\u001b[0m\u001b[0;34m\u001b[0m\u001b[0;34m\u001b[0m\u001b[0m\n\u001b[0;32m--> 978\u001b[0;31m             \u001b[0;32mreturn\u001b[0m \u001b[0mself\u001b[0m\u001b[0;34m.\u001b[0m\u001b[0m_fallback_getattr\u001b[0m\u001b[0;34m(\u001b[0m\u001b[0mkey\u001b[0m\u001b[0;34m)\u001b[0m\u001b[0;34m\u001b[0m\u001b[0;34m\u001b[0m\u001b[0m\n\u001b[0m\u001b[1;32m    979\u001b[0m \u001b[0;34m\u001b[0m\u001b[0m\n",
            "\u001b[0;32m/usr/local/lib/python3.6/dist-packages/sqlalchemy/orm/properties.py\u001b[0m in \u001b[0;36m_fallback_getattr\u001b[0;34m(self, key)\u001b[0m\n\u001b[1;32m    363\u001b[0m             \"\"\"\n\u001b[0;32m--> 364\u001b[0;31m             \u001b[0;32mreturn\u001b[0m \u001b[0mgetattr\u001b[0m\u001b[0;34m(\u001b[0m\u001b[0mself\u001b[0m\u001b[0;34m.\u001b[0m\u001b[0m__clause_element__\u001b[0m\u001b[0;34m(\u001b[0m\u001b[0;34m)\u001b[0m\u001b[0;34m,\u001b[0m \u001b[0mkey\u001b[0m\u001b[0;34m)\u001b[0m\u001b[0;34m\u001b[0m\u001b[0;34m\u001b[0m\u001b[0m\n\u001b[0m\u001b[1;32m    365\u001b[0m \u001b[0;34m\u001b[0m\u001b[0m\n",
            "\u001b[0;32m/usr/local/lib/python3.6/dist-packages/sqlalchemy/sql/elements.py\u001b[0m in \u001b[0;36m__getattr__\u001b[0;34m(self, key)\u001b[0m\n\u001b[1;32m    757\u001b[0m                 ),\n\u001b[0;32m--> 758\u001b[0;31m                 \u001b[0mreplace_context\u001b[0m\u001b[0;34m=\u001b[0m\u001b[0merr\u001b[0m\u001b[0;34m,\u001b[0m\u001b[0;34m\u001b[0m\u001b[0;34m\u001b[0m\u001b[0m\n\u001b[0m\u001b[1;32m    759\u001b[0m             )\n",
            "\u001b[0;32m/usr/local/lib/python3.6/dist-packages/sqlalchemy/util/compat.py\u001b[0m in \u001b[0;36mraise_\u001b[0;34m(***failed resolving arguments***)\u001b[0m\n\u001b[1;32m    181\u001b[0m         \u001b[0;32mtry\u001b[0m\u001b[0;34m:\u001b[0m\u001b[0;34m\u001b[0m\u001b[0;34m\u001b[0m\u001b[0m\n\u001b[0;32m--> 182\u001b[0;31m             \u001b[0;32mraise\u001b[0m \u001b[0mexception\u001b[0m\u001b[0;34m\u001b[0m\u001b[0;34m\u001b[0m\u001b[0m\n\u001b[0m\u001b[1;32m    183\u001b[0m         \u001b[0;32mfinally\u001b[0m\u001b[0;34m:\u001b[0m\u001b[0;34m\u001b[0m\u001b[0;34m\u001b[0m\u001b[0m\n",
            "\u001b[0;31mAttributeError\u001b[0m: Neither 'AnnotatedColumn' object nor 'Comparator' object has an attribute 'selectable'",
            "\nThe above exception was the direct cause of the following exception:\n",
            "\u001b[0;31mAttributeError\u001b[0m                            Traceback (most recent call last)",
            "\u001b[0;32m/usr/local/lib/python3.6/dist-packages/sqlalchemy/sql/selectable.py\u001b[0m in \u001b[0;36m_interpret_as_from\u001b[0;34m(element)\u001b[0m\n\u001b[1;32m     61\u001b[0m     \u001b[0;32mtry\u001b[0m\u001b[0;34m:\u001b[0m\u001b[0;34m\u001b[0m\u001b[0;34m\u001b[0m\u001b[0m\n\u001b[0;32m---> 62\u001b[0;31m         \u001b[0;32mreturn\u001b[0m \u001b[0minsp\u001b[0m\u001b[0;34m.\u001b[0m\u001b[0mselectable\u001b[0m\u001b[0;34m\u001b[0m\u001b[0;34m\u001b[0m\u001b[0m\n\u001b[0m\u001b[1;32m     63\u001b[0m     \u001b[0;32mexcept\u001b[0m \u001b[0mAttributeError\u001b[0m \u001b[0;32mas\u001b[0m \u001b[0merr\u001b[0m\u001b[0;34m:\u001b[0m\u001b[0;34m\u001b[0m\u001b[0;34m\u001b[0m\u001b[0m\n",
            "\u001b[0;32m/usr/local/lib/python3.6/dist-packages/sqlalchemy/orm/attributes.py\u001b[0m in \u001b[0;36m__getattr__\u001b[0;34m(self, key)\u001b[0m\n\u001b[1;32m    241\u001b[0m                 ),\n\u001b[0;32m--> 242\u001b[0;31m                 \u001b[0mreplace_context\u001b[0m\u001b[0;34m=\u001b[0m\u001b[0merr\u001b[0m\u001b[0;34m,\u001b[0m\u001b[0;34m\u001b[0m\u001b[0;34m\u001b[0m\u001b[0m\n\u001b[0m\u001b[1;32m    243\u001b[0m             )\n",
            "\u001b[0;32m/usr/local/lib/python3.6/dist-packages/sqlalchemy/util/compat.py\u001b[0m in \u001b[0;36mraise_\u001b[0;34m(***failed resolving arguments***)\u001b[0m\n\u001b[1;32m    181\u001b[0m         \u001b[0;32mtry\u001b[0m\u001b[0;34m:\u001b[0m\u001b[0;34m\u001b[0m\u001b[0;34m\u001b[0m\u001b[0m\n\u001b[0;32m--> 182\u001b[0;31m             \u001b[0;32mraise\u001b[0m \u001b[0mexception\u001b[0m\u001b[0;34m\u001b[0m\u001b[0;34m\u001b[0m\u001b[0m\n\u001b[0m\u001b[1;32m    183\u001b[0m         \u001b[0;32mfinally\u001b[0m\u001b[0;34m:\u001b[0m\u001b[0;34m\u001b[0m\u001b[0;34m\u001b[0m\u001b[0m\n",
            "\u001b[0;31mAttributeError\u001b[0m: Neither 'InstrumentedAttribute' object nor 'Comparator' object associated with Purchase.ItemId has an attribute 'selectable'",
            "\nThe above exception was the direct cause of the following exception:\n",
            "\u001b[0;31mArgumentError\u001b[0m                             Traceback (most recent call last)",
            "\u001b[0;32m<ipython-input-41-47887da40835>\u001b[0m in \u001b[0;36m<module>\u001b[0;34m()\u001b[0m\n\u001b[0;32m----> 1\u001b[0;31m \u001b[0mquery\u001b[0m \u001b[0;34m=\u001b[0m \u001b[0mselect\u001b[0m\u001b[0;34m(\u001b[0m\u001b[0mCustomer\u001b[0m\u001b[0;34m.\u001b[0m\u001b[0mCustomerId\u001b[0m\u001b[0;34m,\u001b[0m\u001b[0mCustomer\u001b[0m\u001b[0;34m.\u001b[0m\u001b[0mFirstName\u001b[0m\u001b[0;34m,\u001b[0m\u001b[0mPurchase\u001b[0m\u001b[0;34m.\u001b[0m\u001b[0mItemId\u001b[0m\u001b[0;34m,\u001b[0m \u001b[0mPurchase\u001b[0m\u001b[0;34m.\u001b[0m\u001b[0mDate\u001b[0m\u001b[0;34m)\u001b[0m\u001b[0;34m.\u001b[0m\u001b[0mwhere\u001b[0m\u001b[0;34m(\u001b[0m\u001b[0mCustomer\u001b[0m\u001b[0;34m.\u001b[0m\u001b[0mFirstName\u001b[0m \u001b[0;34m==\u001b[0m \u001b[0;34m'Lisa'\u001b[0m\u001b[0;34m)\u001b[0m\u001b[0;34m\u001b[0m\u001b[0;34m\u001b[0m\u001b[0m\n\u001b[0m\u001b[1;32m      2\u001b[0m \u001b[0mquery\u001b[0m \u001b[0;34m=\u001b[0m \u001b[0mquery\u001b[0m\u001b[0;34m.\u001b[0m\u001b[0mjoin\u001b[0m \u001b[0;34m(\u001b[0m\u001b[0mPurchase\u001b[0m\u001b[0;34m,\u001b[0m\u001b[0mCustomer\u001b[0m\u001b[0;34m.\u001b[0m\u001b[0mCustomerId\u001b[0m\u001b[0;34m==\u001b[0m\u001b[0mPurchase\u001b[0m\u001b[0;34m.\u001b[0m\u001b[0mCustomerId\u001b[0m\u001b[0;34m)\u001b[0m\u001b[0;34m\u001b[0m\u001b[0;34m\u001b[0m\u001b[0m\n\u001b[1;32m      3\u001b[0m \u001b[0;34m\u001b[0m\u001b[0m\n\u001b[1;32m      4\u001b[0m \u001b[0mdisplay_results\u001b[0m\u001b[0;34m(\u001b[0m\u001b[0mquery\u001b[0m\u001b[0;34m)\u001b[0m\u001b[0;34m\u001b[0m\u001b[0;34m\u001b[0m\u001b[0m\n",
            "\u001b[0;32m<string>\u001b[0m in \u001b[0;36mselect\u001b[0;34m(columns, whereclause, from_obj, distinct, having, correlate, prefixes, suffixes, **kwargs)\u001b[0m\n",
            "\u001b[0;32m<string>\u001b[0m in \u001b[0;36m__init__\u001b[0;34m(self, columns, whereclause, from_obj, distinct, having, correlate, prefixes, suffixes, **kwargs)\u001b[0m\n",
            "\u001b[0;32m/usr/local/lib/python3.6/dist-packages/sqlalchemy/util/deprecations.py\u001b[0m in \u001b[0;36mwarned\u001b[0;34m(fn, *args, **kwargs)\u001b[0m\n\u001b[1;32m    137\u001b[0m                     )\n\u001b[1;32m    138\u001b[0m \u001b[0;34m\u001b[0m\u001b[0m\n\u001b[0;32m--> 139\u001b[0;31m             \u001b[0;32mreturn\u001b[0m \u001b[0mfn\u001b[0m\u001b[0;34m(\u001b[0m\u001b[0;34m*\u001b[0m\u001b[0margs\u001b[0m\u001b[0;34m,\u001b[0m \u001b[0;34m**\u001b[0m\u001b[0mkwargs\u001b[0m\u001b[0;34m)\u001b[0m\u001b[0;34m\u001b[0m\u001b[0;34m\u001b[0m\u001b[0m\n\u001b[0m\u001b[1;32m    140\u001b[0m \u001b[0;34m\u001b[0m\u001b[0m\n\u001b[1;32m    141\u001b[0m         \u001b[0mdoc\u001b[0m \u001b[0;34m=\u001b[0m \u001b[0mfn\u001b[0m\u001b[0;34m.\u001b[0m\u001b[0m__doc__\u001b[0m \u001b[0;32mis\u001b[0m \u001b[0;32mnot\u001b[0m \u001b[0;32mNone\u001b[0m \u001b[0;32mand\u001b[0m \u001b[0mfn\u001b[0m\u001b[0;34m.\u001b[0m\u001b[0m__doc__\u001b[0m \u001b[0;32mor\u001b[0m \u001b[0;34m\"\"\u001b[0m\u001b[0;34m\u001b[0m\u001b[0;34m\u001b[0m\u001b[0m\n",
            "\u001b[0;32m/usr/local/lib/python3.6/dist-packages/sqlalchemy/sql/selectable.py\u001b[0m in \u001b[0;36m__init__\u001b[0;34m(self, columns, whereclause, from_obj, distinct, having, correlate, prefixes, suffixes, **kwargs)\u001b[0m\n\u001b[1;32m   3094\u001b[0m         \u001b[0;32mif\u001b[0m \u001b[0mfrom_obj\u001b[0m \u001b[0;32mis\u001b[0m \u001b[0;32mnot\u001b[0m \u001b[0;32mNone\u001b[0m\u001b[0;34m:\u001b[0m\u001b[0;34m\u001b[0m\u001b[0;34m\u001b[0m\u001b[0m\n\u001b[1;32m   3095\u001b[0m             self._from_obj = util.OrderedSet(\n\u001b[0;32m-> 3096\u001b[0;31m                 \u001b[0m_interpret_as_from\u001b[0m\u001b[0;34m(\u001b[0m\u001b[0mf\u001b[0m\u001b[0;34m)\u001b[0m \u001b[0;32mfor\u001b[0m \u001b[0mf\u001b[0m \u001b[0;32min\u001b[0m \u001b[0mutil\u001b[0m\u001b[0;34m.\u001b[0m\u001b[0mto_list\u001b[0m\u001b[0;34m(\u001b[0m\u001b[0mfrom_obj\u001b[0m\u001b[0;34m)\u001b[0m\u001b[0;34m\u001b[0m\u001b[0;34m\u001b[0m\u001b[0m\n\u001b[0m\u001b[1;32m   3097\u001b[0m             )\n\u001b[1;32m   3098\u001b[0m         \u001b[0;32melse\u001b[0m\u001b[0;34m:\u001b[0m\u001b[0;34m\u001b[0m\u001b[0;34m\u001b[0m\u001b[0m\n",
            "\u001b[0;32m/usr/local/lib/python3.6/dist-packages/sqlalchemy/util/_collections.py\u001b[0m in \u001b[0;36m__init__\u001b[0;34m(self, d)\u001b[0m\n\u001b[1;32m    363\u001b[0m         \u001b[0mself\u001b[0m\u001b[0;34m.\u001b[0m\u001b[0m_list\u001b[0m \u001b[0;34m=\u001b[0m \u001b[0;34m[\u001b[0m\u001b[0;34m]\u001b[0m\u001b[0;34m\u001b[0m\u001b[0;34m\u001b[0m\u001b[0m\n\u001b[1;32m    364\u001b[0m         \u001b[0;32mif\u001b[0m \u001b[0md\u001b[0m \u001b[0;32mis\u001b[0m \u001b[0;32mnot\u001b[0m \u001b[0;32mNone\u001b[0m\u001b[0;34m:\u001b[0m\u001b[0;34m\u001b[0m\u001b[0;34m\u001b[0m\u001b[0m\n\u001b[0;32m--> 365\u001b[0;31m             \u001b[0mself\u001b[0m\u001b[0;34m.\u001b[0m\u001b[0m_list\u001b[0m \u001b[0;34m=\u001b[0m \u001b[0munique_list\u001b[0m\u001b[0;34m(\u001b[0m\u001b[0md\u001b[0m\u001b[0;34m)\u001b[0m\u001b[0;34m\u001b[0m\u001b[0;34m\u001b[0m\u001b[0m\n\u001b[0m\u001b[1;32m    366\u001b[0m             \u001b[0mset\u001b[0m\u001b[0;34m.\u001b[0m\u001b[0mupdate\u001b[0m\u001b[0;34m(\u001b[0m\u001b[0mself\u001b[0m\u001b[0;34m,\u001b[0m \u001b[0mself\u001b[0m\u001b[0;34m.\u001b[0m\u001b[0m_list\u001b[0m\u001b[0;34m)\u001b[0m\u001b[0;34m\u001b[0m\u001b[0;34m\u001b[0m\u001b[0m\n\u001b[1;32m    367\u001b[0m         \u001b[0;32melse\u001b[0m\u001b[0;34m:\u001b[0m\u001b[0;34m\u001b[0m\u001b[0;34m\u001b[0m\u001b[0m\n",
            "\u001b[0;32m/usr/local/lib/python3.6/dist-packages/sqlalchemy/util/_collections.py\u001b[0m in \u001b[0;36munique_list\u001b[0;34m(seq, hashfunc)\u001b[0m\n\u001b[1;32m    767\u001b[0m     \u001b[0mseen_add\u001b[0m \u001b[0;34m=\u001b[0m \u001b[0mseen\u001b[0m\u001b[0;34m.\u001b[0m\u001b[0madd\u001b[0m\u001b[0;34m\u001b[0m\u001b[0;34m\u001b[0m\u001b[0m\n\u001b[1;32m    768\u001b[0m     \u001b[0;32mif\u001b[0m \u001b[0;32mnot\u001b[0m \u001b[0mhashfunc\u001b[0m\u001b[0;34m:\u001b[0m\u001b[0;34m\u001b[0m\u001b[0;34m\u001b[0m\u001b[0m\n\u001b[0;32m--> 769\u001b[0;31m         \u001b[0;32mreturn\u001b[0m \u001b[0;34m[\u001b[0m\u001b[0mx\u001b[0m \u001b[0;32mfor\u001b[0m \u001b[0mx\u001b[0m \u001b[0;32min\u001b[0m \u001b[0mseq\u001b[0m \u001b[0;32mif\u001b[0m \u001b[0mx\u001b[0m \u001b[0;32mnot\u001b[0m \u001b[0;32min\u001b[0m \u001b[0mseen\u001b[0m \u001b[0;32mand\u001b[0m \u001b[0;32mnot\u001b[0m \u001b[0mseen_add\u001b[0m\u001b[0;34m(\u001b[0m\u001b[0mx\u001b[0m\u001b[0;34m)\u001b[0m\u001b[0;34m]\u001b[0m\u001b[0;34m\u001b[0m\u001b[0;34m\u001b[0m\u001b[0m\n\u001b[0m\u001b[1;32m    770\u001b[0m     \u001b[0;32melse\u001b[0m\u001b[0;34m:\u001b[0m\u001b[0;34m\u001b[0m\u001b[0;34m\u001b[0m\u001b[0m\n\u001b[1;32m    771\u001b[0m         return [\n",
            "\u001b[0;32m/usr/local/lib/python3.6/dist-packages/sqlalchemy/util/_collections.py\u001b[0m in \u001b[0;36m<listcomp>\u001b[0;34m(.0)\u001b[0m\n\u001b[1;32m    767\u001b[0m     \u001b[0mseen_add\u001b[0m \u001b[0;34m=\u001b[0m \u001b[0mseen\u001b[0m\u001b[0;34m.\u001b[0m\u001b[0madd\u001b[0m\u001b[0;34m\u001b[0m\u001b[0;34m\u001b[0m\u001b[0m\n\u001b[1;32m    768\u001b[0m     \u001b[0;32mif\u001b[0m \u001b[0;32mnot\u001b[0m \u001b[0mhashfunc\u001b[0m\u001b[0;34m:\u001b[0m\u001b[0;34m\u001b[0m\u001b[0;34m\u001b[0m\u001b[0m\n\u001b[0;32m--> 769\u001b[0;31m         \u001b[0;32mreturn\u001b[0m \u001b[0;34m[\u001b[0m\u001b[0mx\u001b[0m \u001b[0;32mfor\u001b[0m \u001b[0mx\u001b[0m \u001b[0;32min\u001b[0m \u001b[0mseq\u001b[0m \u001b[0;32mif\u001b[0m \u001b[0mx\u001b[0m \u001b[0;32mnot\u001b[0m \u001b[0;32min\u001b[0m \u001b[0mseen\u001b[0m \u001b[0;32mand\u001b[0m \u001b[0;32mnot\u001b[0m \u001b[0mseen_add\u001b[0m\u001b[0;34m(\u001b[0m\u001b[0mx\u001b[0m\u001b[0;34m)\u001b[0m\u001b[0;34m]\u001b[0m\u001b[0;34m\u001b[0m\u001b[0;34m\u001b[0m\u001b[0m\n\u001b[0m\u001b[1;32m    770\u001b[0m     \u001b[0;32melse\u001b[0m\u001b[0;34m:\u001b[0m\u001b[0;34m\u001b[0m\u001b[0;34m\u001b[0m\u001b[0m\n\u001b[1;32m    771\u001b[0m         return [\n",
            "\u001b[0;32m/usr/local/lib/python3.6/dist-packages/sqlalchemy/sql/selectable.py\u001b[0m in \u001b[0;36m<genexpr>\u001b[0;34m(.0)\u001b[0m\n\u001b[1;32m   3094\u001b[0m         \u001b[0;32mif\u001b[0m \u001b[0mfrom_obj\u001b[0m \u001b[0;32mis\u001b[0m \u001b[0;32mnot\u001b[0m \u001b[0;32mNone\u001b[0m\u001b[0;34m:\u001b[0m\u001b[0;34m\u001b[0m\u001b[0;34m\u001b[0m\u001b[0m\n\u001b[1;32m   3095\u001b[0m             self._from_obj = util.OrderedSet(\n\u001b[0;32m-> 3096\u001b[0;31m                 \u001b[0m_interpret_as_from\u001b[0m\u001b[0;34m(\u001b[0m\u001b[0mf\u001b[0m\u001b[0;34m)\u001b[0m \u001b[0;32mfor\u001b[0m \u001b[0mf\u001b[0m \u001b[0;32min\u001b[0m \u001b[0mutil\u001b[0m\u001b[0;34m.\u001b[0m\u001b[0mto_list\u001b[0m\u001b[0;34m(\u001b[0m\u001b[0mfrom_obj\u001b[0m\u001b[0;34m)\u001b[0m\u001b[0;34m\u001b[0m\u001b[0;34m\u001b[0m\u001b[0m\n\u001b[0m\u001b[1;32m   3097\u001b[0m             )\n\u001b[1;32m   3098\u001b[0m         \u001b[0;32melse\u001b[0m\u001b[0;34m:\u001b[0m\u001b[0;34m\u001b[0m\u001b[0;34m\u001b[0m\u001b[0m\n",
            "\u001b[0;32m/usr/local/lib/python3.6/dist-packages/sqlalchemy/sql/selectable.py\u001b[0m in \u001b[0;36m_interpret_as_from\u001b[0;34m(element)\u001b[0m\n\u001b[1;32m     63\u001b[0m     \u001b[0;32mexcept\u001b[0m \u001b[0mAttributeError\u001b[0m \u001b[0;32mas\u001b[0m \u001b[0merr\u001b[0m\u001b[0;34m:\u001b[0m\u001b[0;34m\u001b[0m\u001b[0;34m\u001b[0m\u001b[0m\n\u001b[1;32m     64\u001b[0m         util.raise_(\n\u001b[0;32m---> 65\u001b[0;31m             \u001b[0mexc\u001b[0m\u001b[0;34m.\u001b[0m\u001b[0mArgumentError\u001b[0m\u001b[0;34m(\u001b[0m\u001b[0;34m\"FROM expression expected\"\u001b[0m\u001b[0;34m)\u001b[0m\u001b[0;34m,\u001b[0m \u001b[0mreplace_context\u001b[0m\u001b[0;34m=\u001b[0m\u001b[0merr\u001b[0m\u001b[0;34m\u001b[0m\u001b[0;34m\u001b[0m\u001b[0m\n\u001b[0m\u001b[1;32m     66\u001b[0m         )\n\u001b[1;32m     67\u001b[0m \u001b[0;34m\u001b[0m\u001b[0m\n",
            "\u001b[0;32m/usr/local/lib/python3.6/dist-packages/sqlalchemy/util/compat.py\u001b[0m in \u001b[0;36mraise_\u001b[0;34m(***failed resolving arguments***)\u001b[0m\n\u001b[1;32m    180\u001b[0m \u001b[0;34m\u001b[0m\u001b[0m\n\u001b[1;32m    181\u001b[0m         \u001b[0;32mtry\u001b[0m\u001b[0;34m:\u001b[0m\u001b[0;34m\u001b[0m\u001b[0;34m\u001b[0m\u001b[0m\n\u001b[0;32m--> 182\u001b[0;31m             \u001b[0;32mraise\u001b[0m \u001b[0mexception\u001b[0m\u001b[0;34m\u001b[0m\u001b[0;34m\u001b[0m\u001b[0m\n\u001b[0m\u001b[1;32m    183\u001b[0m         \u001b[0;32mfinally\u001b[0m\u001b[0;34m:\u001b[0m\u001b[0;34m\u001b[0m\u001b[0;34m\u001b[0m\u001b[0m\n\u001b[1;32m    184\u001b[0m             \u001b[0;31m# credit to\u001b[0m\u001b[0;34m\u001b[0m\u001b[0;34m\u001b[0m\u001b[0;34m\u001b[0m\u001b[0m\n",
            "\u001b[0;31mArgumentError\u001b[0m: FROM expression expected"
          ]
        }
      ]
    },
    {
      "cell_type": "code",
      "metadata": {
        "id": "WShdm6NM_Q16",
        "colab": {
          "base_uri": "https://localhost:8080/",
          "height": 489
        },
        "outputId": "06d9dfdb-4d7f-4c28-8eee-bd33d7d1c0be"
      },
      "source": [
        "df = pd.read_sql(\r\n",
        "    '''SELECT * \r\n",
        "    FROM purchases p \r\n",
        "    join customers c on \r\n",
        "    p.customerid=c.customerid \r\n",
        "    where c.FirstName = 'Lisa'\r\n",
        "    ''', conn)\r\n",
        "df.tail()"
      ],
      "execution_count": 42,
      "outputs": [
        {
          "output_type": "stream",
          "text": [
            "2020-12-14 17:28:28,056 INFO sqlalchemy.engine.base.Engine PRAGMA main.table_info(\"SELECT * \n",
            "    FROM purchases p \n",
            "    join customers c on \n",
            "    p.customerid=c.customerid \n",
            "    where c.FirstName = 'Lisa'\n",
            "    \")\n",
            "2020-12-14 17:28:28,057 INFO sqlalchemy.engine.base.Engine ()\n",
            "2020-12-14 17:28:28,058 INFO sqlalchemy.engine.base.Engine PRAGMA temp.table_info(\"SELECT * \n",
            "    FROM purchases p \n",
            "    join customers c on \n",
            "    p.customerid=c.customerid \n",
            "    where c.FirstName = 'Lisa'\n",
            "    \")\n",
            "2020-12-14 17:28:28,060 INFO sqlalchemy.engine.base.Engine ()\n",
            "2020-12-14 17:28:28,061 INFO sqlalchemy.engine.base.Engine SELECT * \n",
            "    FROM purchases p \n",
            "    join customers c on \n",
            "    p.customerid=c.customerid \n",
            "    where c.FirstName = 'Lisa'\n",
            "    \n",
            "2020-12-14 17:28:28,062 INFO sqlalchemy.engine.base.Engine ()\n"
          ],
          "name": "stdout"
        },
        {
          "output_type": "execute_result",
          "data": {
            "text/html": [
              "<div>\n",
              "<style scoped>\n",
              "    .dataframe tbody tr th:only-of-type {\n",
              "        vertical-align: middle;\n",
              "    }\n",
              "\n",
              "    .dataframe tbody tr th {\n",
              "        vertical-align: top;\n",
              "    }\n",
              "\n",
              "    .dataframe thead th {\n",
              "        text-align: right;\n",
              "    }\n",
              "</style>\n",
              "<table border=\"1\" class=\"dataframe\">\n",
              "  <thead>\n",
              "    <tr style=\"text-align: right;\">\n",
              "      <th></th>\n",
              "      <th>PurchaseId</th>\n",
              "      <th>ItemId</th>\n",
              "      <th>CustomerId</th>\n",
              "      <th>Date</th>\n",
              "      <th>CustomerId</th>\n",
              "      <th>FirstName</th>\n",
              "      <th>LastName</th>\n",
              "      <th>Company</th>\n",
              "      <th>Address</th>\n",
              "      <th>Phone</th>\n",
              "      <th>Email</th>\n",
              "    </tr>\n",
              "  </thead>\n",
              "  <tbody>\n",
              "    <tr>\n",
              "      <th>0</th>\n",
              "      <td>1</td>\n",
              "      <td>1</td>\n",
              "      <td>2</td>\n",
              "      <td>2000-08-01 00:00:00.000000</td>\n",
              "      <td>2</td>\n",
              "      <td>Lisa</td>\n",
              "      <td>Cohen</td>\n",
              "      <td>None</td>\n",
              "      <td>Alenbi 99, Tel Aviv</td>\n",
              "      <td>052-1234565</td>\n",
              "      <td>lisa@cohen.com</td>\n",
              "    </tr>\n",
              "    <tr>\n",
              "      <th>1</th>\n",
              "      <td>3</td>\n",
              "      <td>1</td>\n",
              "      <td>2</td>\n",
              "      <td>2017-05-12 00:00:00.000000</td>\n",
              "      <td>2</td>\n",
              "      <td>Lisa</td>\n",
              "      <td>Cohen</td>\n",
              "      <td>None</td>\n",
              "      <td>Alenbi 99, Tel Aviv</td>\n",
              "      <td>052-1234565</td>\n",
              "      <td>lisa@cohen.com</td>\n",
              "    </tr>\n",
              "    <tr>\n",
              "      <th>2</th>\n",
              "      <td>4</td>\n",
              "      <td>3</td>\n",
              "      <td>4</td>\n",
              "      <td>2019-06-05 00:00:00.000000</td>\n",
              "      <td>4</td>\n",
              "      <td>Lisa</td>\n",
              "      <td>White</td>\n",
              "      <td>None</td>\n",
              "      <td>Alenbi 66, Tel Aviv</td>\n",
              "      <td>062-1234565</td>\n",
              "      <td>lisa@White.com</td>\n",
              "    </tr>\n",
              "  </tbody>\n",
              "</table>\n",
              "</div>"
            ],
            "text/plain": [
              "   PurchaseId  ItemId  ...        Phone           Email\n",
              "0           1       1  ...  052-1234565  lisa@cohen.com\n",
              "1           3       1  ...  052-1234565  lisa@cohen.com\n",
              "2           4       3  ...  062-1234565  lisa@White.com\n",
              "\n",
              "[3 rows x 11 columns]"
            ]
          },
          "metadata": {
            "tags": []
          },
          "execution_count": 42
        }
      ]
    }
  ]
}