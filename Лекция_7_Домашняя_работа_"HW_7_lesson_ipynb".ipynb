{
  "nbformat": 4,
  "nbformat_minor": 0,
  "metadata": {
    "colab": {
      "name": "Лекция 7 Домашняя работа \"HW_7_lesson.ipynb\"",
      "provenance": [],
      "collapsed_sections": [],
      "include_colab_link": true
    },
    "kernelspec": {
      "name": "python3",
      "display_name": "Python 3"
    }
  },
  "cells": [
    {
      "cell_type": "markdown",
      "metadata": {
        "id": "view-in-github",
        "colab_type": "text"
      },
      "source": [
        "<a href=\"https://colab.research.google.com/github/serjduvk/Homework/blob/master/%D0%9B%D0%B5%D0%BA%D1%86%D0%B8%D1%8F_7_%D0%94%D0%BE%D0%BC%D0%B0%D1%88%D0%BD%D1%8F%D1%8F_%D1%80%D0%B0%D0%B1%D0%BE%D1%82%D0%B0_%22HW_7_lesson_ipynb%22.ipynb\" target=\"_parent\"><img src=\"https://colab.research.google.com/assets/colab-badge.svg\" alt=\"Open In Colab\"/></a>"
      ]
    },
    {
      "cell_type": "markdown",
      "metadata": {
        "id": "PDkG3Bis38V_"
      },
      "source": [
        "# Домашнее задание к 7 уроку.\n",
        "\n",
        "**Дедлайн: 23.12.2020**"
      ]
    },
    {
      "cell_type": "markdown",
      "metadata": {
        "id": "T_frQ-789isH"
      },
      "source": [
        "colab: https://colab.research.google.com/drive/1KLD5pDCa0ka_g1U4D2ExihaaEwXzfTPW?usp=sharing"
      ]
    },
    {
      "cell_type": "markdown",
      "metadata": {
        "id": "PzhnPFbL3igE"
      },
      "source": [
        "**ФОРМАТ ОТЧЕТНОСТИ:** pdf-файл с решенными задачами (задачи 2-9), ноутбук с проверкой решения этих задач (при помощи numpy), и pdf файл с отчетом по 1-ой задаче (краткий пересказ статьи). Вы можете оформить решения с использованием Markdown (писать текст прямо в юпитер ноутбуке), Latex, Word или же решить в тетради и сформировать pdf из фото.\n",
        "\n",
        "Итого: 2 pdf файла.\n",
        "\n",
        "Все задания необходимо выполнять ВРУЧНУЮ. А также проверить корректность полученных результатов с использованием Numpy.\n",
        "\n",
        "Туториал как писать \"Latex-формулы\" прямо в Юпитере:\n",
        "https://www.youtube.com/watch?v=vSc25kdgecg\n",
        "\n",
        "Ноутбук с примером формул: https://nbviewer.jupyter.org/github/postlogist/course_opt/blob/master/jupyter_tutorial/02_markdown.ipynb\n"
      ]
    },
    {
      "cell_type": "markdown",
      "metadata": {
        "id": "RU2u4fG55fBq"
      },
      "source": [
        "## Пример\n",
        "\n",
        "\n",
        "Найдем ранг матрицы \n",
        "\n",
        "$$\\begin{pmatrix}\n",
        "1 & 2 & 3 & 4 & 5\\\\ \n",
        "2 & 5 & 8 & 11 & 14\\\\ \n",
        "3 & 9 & 14 & 20 & 26\\\\ \n",
        "5 & 14 & 22 & 31 & 40\n",
        "\\end{pmatrix}.$$\n",
        "\n",
        "Четвертая строка является суммой второй и третьей строк, а значит, ее можно отбросить:\n",
        "\n",
        "$$\\begin{pmatrix}\n",
        "1 & 2 & 3 & 4 & 5\\\\ \n",
        "2 & 5 & 8 & 11 & 14\\\\ \n",
        "3 & 9 & 14 & 20 & 26\n",
        "\\end{pmatrix}.$$\n",
        "\n",
        "Из второй и третьей строк вычтем первую, умноженную на $2$ и $3$ соответственно:\n",
        "\n",
        "$$\\begin{pmatrix}\n",
        "1 & 2 & 3 & 4 & 5\\\\ \n",
        "0 & 1 & 2 & 3 & 4\\\\ \n",
        "0 & 2 & 5 & 8 & 11\n",
        "\\end{pmatrix}.$$\n",
        "\n",
        "И вычтем из третьей строки вторую, умноженную на $2$:\n",
        "\n",
        "$$\\begin{pmatrix}\n",
        "1 & 2 & 3 & 4 & 5\\\\ \n",
        "0 & 1 & 2 & 3 & 4\\\\ \n",
        "0 & 0 & 1 & 2 & 3\n",
        "\\end{pmatrix}.$$\n",
        "\n",
        "Таким образом, ранг матрицы равен $3$."
      ]
    },
    {
      "cell_type": "code",
      "metadata": {
        "colab": {
          "base_uri": "https://localhost:8080/"
        },
        "id": "c3mJUpE65vak",
        "outputId": "5a5debbc-1a4a-47a5-8b35-9b40b7caf531"
      },
      "source": [
        "# Проверка\n",
        "\n",
        "import numpy as np\n",
        "a = [1, 2, 3, 4, 5]\n",
        "b = [2, 5, 8, 11, 14]\n",
        "c = [3, 9, 14, 20, 26]\n",
        "d = [5, 14, 22, 31, 40]\n",
        "\n",
        "x = np.array([a, b, c, d])\n",
        "r = np.linalg.matrix_rank(x)\n",
        "\n",
        "print(f'Ранг матрицы: {r}')"
      ],
      "execution_count": null,
      "outputs": [
        {
          "output_type": "stream",
          "text": [
            "Ранг матрицы: 3\n"
          ],
          "name": "stdout"
        }
      ]
    },
    {
      "cell_type": "markdown",
      "metadata": {
        "id": "1NlQHLnE5iV-"
      },
      "source": [
        "# Задачи"
      ]
    },
    {
      "cell_type": "markdown",
      "metadata": {
        "id": "oOoLPT-d232H"
      },
      "source": [
        "**1.** Прочитать статью http://www.scielo.org.mx/pdf/cys/v18n3/v18n3a7.pdf и сделать следующее:\n",
        "\n",
        "- Написать кратко (не более 300 слов (минимум 100), отчет в формате pdf) о различиях между cosine similarity и soft similarity. Привести примеры использования и написать собственный пример вычисления cosine similarity и soft similarity для произвольных векторов (не брать вектора из статьи! надо самим придумать координаты/размерность векторов)"
      ]
    },
    {
      "cell_type": "markdown",
      "metadata": {
        "id": "2A79cNRu3BUA"
      },
      "source": [
        "__2.__ Найти сумму и произведение матриц $A=\\begin{pmatrix}\n",
        "1 & -2\\\\ \n",
        "3 & 0\n",
        "\\end{pmatrix}$ и $B=\\begin{pmatrix}\n",
        "4 & -1\\\\ \n",
        "0 & 5\n",
        "\\end{pmatrix}.$\n",
        "\n",
        "__3.__ Из закономерностей сложения и умножения матриц на число можно сделать вывод, что матрицы одного размера образуют линейное пространство. Вычислить линейную комбинацию $3A-2B+4C$ для матриц $A=\\begin{pmatrix}\n",
        "1 & 7\\\\ \n",
        "3 & -6\n",
        "\\end{pmatrix}$, $B=\\begin{pmatrix}\n",
        "0 & 5\\\\ \n",
        "2 & -1\n",
        "\\end{pmatrix}$, $C=\\begin{pmatrix}\n",
        "2 & -4\\\\ \n",
        "1 & 1\n",
        "\\end{pmatrix}.$\n",
        "    \n",
        "__4.__ Дана матрица $A=\\begin{pmatrix}\n",
        "4 & 1\\\\ \n",
        "5 & -2\\\\ \n",
        "2 & 3\n",
        "\\end{pmatrix}$.\n",
        "Вычислить $AA^{T}$ и $A^{T}A$.\n",
        "\n",
        "__5*.__ Написать на Python функцию для перемножения двух произвольных матриц, не используя NumPy."
      ]
    },
    {
      "cell_type": "markdown",
      "metadata": {
        "id": "-naSOZaf3L7s"
      },
      "source": [
        "\n",
        "__6.__ Вычислить определитель (используйте любой удобный для вас способ вычисления определителя: через миноры, через перестановки или другой):\n",
        "\n",
        "   a)\n",
        "\n",
        "$$\\begin{vmatrix}\n",
        "sinx & -cosx\\\\ \n",
        "cosx & sinx\n",
        "\\end{vmatrix};$$\n",
        "\n",
        "   б)\n",
        "    \n",
        "$$\\begin{vmatrix}\n",
        "8 & 4 & 6\\\\ \n",
        "0 & 5 & 1\\\\ \n",
        "0 & 0 & 9\n",
        "\\end{vmatrix};$$\n",
        "    \n",
        "   в)\n",
        "\n",
        "$$\\begin{vmatrix}\n",
        "2 & 3 & 4\\\\ \n",
        "5 & 6 & 7\\\\ \n",
        "8 & 9 & 10\n",
        "\\end{vmatrix}.$$\n",
        "\n",
        "\n",
        "__7.__ Определитель матрицы $A$ равен $4$. Найти:\n",
        "\n",
        "   а) $det(A^{2})$;\n",
        "    \n",
        "   б) $det(A^{T})$;\n",
        "    \n",
        "   в) $det(2A)$.\n",
        "   \n",
        "__8.__  Доказать, что матрица\n",
        "\n",
        "$$\\begin{pmatrix}\n",
        "-2 & 7 & -3\\\\ \n",
        "4 & -14 & 6\\\\ \n",
        "-3 & 7 & 13\n",
        "\\end{pmatrix}$$\n",
        "   \n",
        "вырожденная.\n",
        "\n",
        "__9.__ Найти ранг матрицы:\n",
        "\n",
        "   а) $\\begin{pmatrix}\n",
        "1 & 2 & 3\\\\ \n",
        "1 & 1 & 1\\\\ \n",
        "2 & 3 & 4\n",
        "\\end{pmatrix};$\n",
        "\n",
        "   б) $\\begin{pmatrix}\n",
        "0 & 0 & 2 & 1\\\\ \n",
        "0 & 0 & 2 & 2\\\\ \n",
        "0 & 0 & 4 & 3\\\\ \n",
        "2 & 3 & 5 & 6\n",
        "\\end{pmatrix}.$"
      ]
    },
    {
      "cell_type": "markdown",
      "metadata": {
        "id": "ekAaqmaE3E1T"
      },
      "source": [
        "# Доп материалы\n",
        "1. [Способы задать матрицу в NumPy](https://docs.scipy.org/doc/numpy-1.10.1/user/basics.creation.html).\n",
        "2. [numpy.transpose](https://docs.scipy.org/doc/numpy-1.10.0/reference/generated/numpy.transpose.html).\n",
        "3. [array.T](https://docs.scipy.org/doc/numpy-1.10.0/reference/generated/numpy.ndarray.T.html).\n",
        "4. [Перемножение матриц в NumPy](https://docs.scipy.org/doc/numpy-1.10.0/reference/routines.linalg.html#matrix-and-vector-products).\n",
        "\n",
        "5. [Определитель матрицы в NumPy](https://docs.scipy.org/doc/numpy-1.14.2/reference/generated/numpy.linalg.det.html)\n",
        "\n",
        "6. [Ранг матрицы в NumPy](https://docs.scipy.org/doc/numpy-1.14.2/reference/generated/numpy.linalg.matrix_rank.html)\n",
        "\n",
        "7. [Обращение матриц в NumPy](https://docs.scipy.org/doc/numpy/reference/generated/numpy.linalg.inv.html)"
      ]
    },
    {
      "cell_type": "code",
      "metadata": {
        "id": "xylnMiIhYe-f"
      },
      "source": [
        "import numpy as np\r\n"
      ],
      "execution_count": null,
      "outputs": []
    },
    {
      "cell_type": "code",
      "metadata": {
        "id": "qkE17dMowE-E"
      },
      "source": [
        "Косинусное сходство — это мера сходства между двумя векторами пространства, которая используется для измерения косинуса угла между ними.\r\n",
        "\r\n",
        "Мягкая косинусная мера \r\n",
        "Мягкий косинус или («мягкое» сходство) между двумя векторами учитывает сходство между парами объектов. \r\n",
        "Традиционное косинусное подобие рассматривает функции модели векторного пространства (VSM) как независимые или совершенно разные, \r\n",
        "в то время как мягкая косинусная мера предлагает учитывать сходство функций в VSM, что также помогает обобщить концепцию косинуса (и мягкого косинуса). "
      ],
      "execution_count": null,
      "outputs": []
    },
    {
      "cell_type": "code",
      "metadata": {
        "colab": {
          "base_uri": "https://localhost:8080/"
        },
        "id": "3HyqUB4CXZdl",
        "outputId": "3f2cb0e8-4412-4b11-b9e1-361d2d2f23a6"
      },
      "source": [
        "#Задание 2 \r\n",
        "a = np.array([[1, -2], [3, 0]])\r\n",
        "b = np.array([[4, -1], [0, 5]])\r\n",
        "\r\n",
        "print(f'Матрица A\\n{a}\\n')\r\n",
        "print(f'Матрица B\\n{b}\\n')\r\n",
        "print(f'Матрица С = A + B\\n{a + b}')\r\n",
        "print(f'Матрица D = AB\\n{np.dot(a, b)}')"
      ],
      "execution_count": null,
      "outputs": [
        {
          "output_type": "stream",
          "text": [
            "Матрица A\n",
            "[[ 1 -2]\n",
            " [ 3  0]]\n",
            "\n",
            "Матрица B\n",
            "[[ 4 -1]\n",
            " [ 0  5]]\n",
            "\n",
            "Матрица С = A + B\n",
            "[[ 5 -3]\n",
            " [ 3  5]]\n",
            "Матрица D = AB\n",
            "[[  4 -11]\n",
            " [ 12  -3]]\n"
          ],
          "name": "stdout"
        }
      ]
    },
    {
      "cell_type": "code",
      "metadata": {
        "colab": {
          "base_uri": "https://localhost:8080/"
        },
        "id": "30_u6NxhdPyS",
        "outputId": "7e0ef5b7-30bc-4712-f9aa-2335a3552a29"
      },
      "source": [
        "#Задание 3 Из закономерностей сложения и умножения матриц на число можно сделать вывод, что матрицы одного размера образуют линейное пространство. Вычислить линейную комбинацию 3A−2B+4C .\r\n",
        "a = np.array([[1, 7], [3, -6]])\r\n",
        "b = np.array([[0, 5], [2, -1]])\r\n",
        "c= np.array([[2, -4], [1, 1]])\r\n",
        "print(f'3A-2B+4C =\\n{3*a-2*b+4*c}')"
      ],
      "execution_count": null,
      "outputs": [
        {
          "output_type": "stream",
          "text": [
            "3A-2B+4C =\n",
            "[[ 11  -5]\n",
            " [  9 -12]]\n"
          ],
          "name": "stdout"
        }
      ]
    },
    {
      "cell_type": "code",
      "metadata": {
        "colab": {
          "base_uri": "https://localhost:8080/"
        },
        "id": "VIrSvDpdlHR2",
        "outputId": "62d443c0-cd70-448c-c2c4-2cd3c681d57d"
      },
      "source": [
        "#Задание 4\r\n",
        "a = np.array([[4, 1], [5, -2],[2,3]])\r\n",
        "b=a.T\r\n",
        "\r\n",
        "\r\n",
        "print(f'Матрица:\\n{a}')\r\n",
        "print(f'Транспонированная матрица:\\n{a.T}')\r\n",
        "print(f'A*A transp \\n {np.dot(a, b)}')\r\n",
        "print(f'A transp *A \\n {np.dot(b, a)}')"
      ],
      "execution_count": null,
      "outputs": [
        {
          "output_type": "stream",
          "text": [
            "Матрица:\n",
            "[[ 4  1]\n",
            " [ 5 -2]\n",
            " [ 2  3]]\n",
            "Транспонированная матрица:\n",
            "[[ 4  5  2]\n",
            " [ 1 -2  3]]\n",
            "A*A transp \n",
            " [[17 18 11]\n",
            " [18 29  4]\n",
            " [11  4 13]]\n",
            "A transp *A \n",
            " [[45  0]\n",
            " [ 0 14]]\n"
          ],
          "name": "stdout"
        }
      ]
    },
    {
      "cell_type": "code",
      "metadata": {
        "colab": {
          "base_uri": "https://localhost:8080/"
        },
        "id": "mdPfVxbNWv1D",
        "outputId": "68cdd8a3-321a-48a7-80cb-89847b4b96b4"
      },
      "source": [
        "#задание 5\r\n",
        "n=int(input('Введите число строк в матрице A  '))\r\n",
        "m=int(input('Введите число столбцов в матрице A  '))\r\n",
        "a=[]\r\n",
        "b=[]\r\n",
        "for i in range(n):\r\n",
        "    for j in range(m):\r\n",
        "        x=int(input('Введите элемент матрицы A  '))\r\n",
        "        a.append(x)\r\n",
        "A=np.reshape(a, (n, m))\r\n",
        "n2=int(input('Введите число строк в матрице B  '))\r\n",
        "m2=int(input('Введите число столбцов в матрице B  '))\r\n",
        "a=[]\r\n",
        "for i in range(n2):\r\n",
        "    for j in range(m2):\r\n",
        "        x=int(input('Введите элемент матрицы B  '))\r\n",
        "        a.append(x)\r\n",
        "B=np.reshape(a, (n2, m2))\r\n",
        "print(f'Матрица A:\\n{A}')\r\n",
        "print(f'Матрица B:\\n{B}')"
      ],
      "execution_count": null,
      "outputs": [
        {
          "output_type": "stream",
          "text": [
            "Введите число строк в матрице A  2\n",
            "Введите число столбцов в матрице A  3\n",
            "Введите элемент матрицы A  4\n",
            "Введите элемент матрицы A  5\n",
            "Введите элемент матрицы A  7\n",
            "Введите элемент матрицы A  8\n",
            "Введите элемент матрицы A  9\n",
            "Введите элемент матрицы A  7\n",
            "Введите число строк в матрице B  3\n",
            "Введите число столбцов в матрице B  2\n",
            "Введите элемент матрицы B  2\n",
            "Введите элемент матрицы B  6\n",
            "Введите элемент матрицы B  4\n",
            "Введите элемент матрицы B  8\n",
            "Введите элемент матрицы B  7\n",
            "Введите элемент матрицы B  6\n",
            "Матрица A:\n",
            "[[4 5 7]\n",
            " [8 9 7]]\n",
            "Матрица B:\n",
            "[[2 6]\n",
            " [4 8]\n",
            " [7 6]]\n"
          ],
          "name": "stdout"
        }
      ]
    },
    {
      "cell_type": "code",
      "metadata": {
        "colab": {
          "base_uri": "https://localhost:8080/"
        },
        "id": "uTvOZrKbxxl5",
        "outputId": "23aa343d-cb11-4da2-c80b-4112273f935d"
      },
      "source": [
        "C=np.zeros((n,m2))\r\n",
        "if m==n2:\r\n",
        "    for i in range(n):\r\n",
        "        for j in range(m2):\r\n",
        "            for k in range(n2):\r\n",
        "                C[i][j] += A[i][k] * B[k][j]\r\n",
        "    print('Результат перемножения матриц A B:')\r\n",
        "    for r in C:\r\n",
        "      print(r)                \r\n",
        "else:\r\n",
        "    print('матрицы нельзя перемножить')"
      ],
      "execution_count": null,
      "outputs": [
        {
          "output_type": "stream",
          "text": [
            "Результат перемножения матриц A B:\n",
            "[ 77. 106.]\n",
            "[101. 162.]\n"
          ],
          "name": "stdout"
        }
      ]
    },
    {
      "cell_type": "code",
      "metadata": {
        "colab": {
          "base_uri": "https://localhost:8080/"
        },
        "id": "HZLAtrsmUKWX",
        "outputId": "519ecad8-2d6d-4359-8b36-f6917e516ca8"
      },
      "source": [
        "#задание 6\r\n",
        "a = np.array([[np.sin(x),-np.cos(x)], [np.cos(x),np.sin(x)]])\r\n",
        "print(f'Матрица:\\n{a}')\r\n",
        "print(f'Определитель:\\n{np.linalg.det(a):.0f}')"
      ],
      "execution_count": null,
      "outputs": [
        {
          "output_type": "stream",
          "text": [
            "Матрица:\n",
            "[[-0.2794155  -0.96017029]\n",
            " [ 0.96017029 -0.2794155 ]]\n",
            "Определитель:\n",
            "1\n"
          ],
          "name": "stdout"
        }
      ]
    },
    {
      "cell_type": "code",
      "metadata": {
        "colab": {
          "base_uri": "https://localhost:8080/"
        },
        "id": "tcrlAtCrVW1r",
        "outputId": "e96da096-b320-4ca3-e1ff-9fb04e823edb"
      },
      "source": [
        "a = np.array([[8,4,6], [0, 5, 1], [0, 0, 9]])\r\n",
        "print(f'Матрица:\\n{a}')\r\n",
        "print(f'Определитель:\\n{np.linalg.det(a):.0f}')"
      ],
      "execution_count": null,
      "outputs": [
        {
          "output_type": "stream",
          "text": [
            "Матрица:\n",
            "[[8 4 6]\n",
            " [0 5 1]\n",
            " [0 0 9]]\n",
            "Определитель:\n",
            "360\n"
          ],
          "name": "stdout"
        }
      ]
    },
    {
      "cell_type": "code",
      "metadata": {
        "colab": {
          "base_uri": "https://localhost:8080/"
        },
        "id": "Wzqv6XyvWcqW",
        "outputId": "0f089c13-b585-4f64-d81e-0619c8e21dd3"
      },
      "source": [
        "a = np.array([[2, 3, 4], [5, 6, 7], [8, 9, 10]])\r\n",
        "print(f'Матрица:\\n{a}')\r\n",
        "print(f'Определитель:\\n{np.linalg.det(a):.0f}')"
      ],
      "execution_count": null,
      "outputs": [
        {
          "output_type": "stream",
          "text": [
            "Матрица:\n",
            "[[ 2  3  4]\n",
            " [ 5  6  7]\n",
            " [ 8  9 10]]\n",
            "Определитель:\n",
            "0\n"
          ],
          "name": "stdout"
        }
      ]
    },
    {
      "cell_type": "code",
      "metadata": {
        "colab": {
          "base_uri": "https://localhost:8080/"
        },
        "id": "Zmu9EYMhgb-s",
        "outputId": "984f5afd-50e6-4fab-d63d-d64175190e81"
      },
      "source": [
        "#Задание 8 Если определитель матрицы равен 0, то матрица вырожденная \r\n",
        "a = np.array([[-2, 7, -3], [4, -14, 6], [-3, 7, 13]])\r\n",
        "print(f'Матрица:\\n{a}')\r\n",
        "print(f'Определитель:\\n{np.linalg.det(a):.0f}')"
      ],
      "execution_count": null,
      "outputs": [
        {
          "output_type": "stream",
          "text": [
            "Матрица:\n",
            "[[ -2   7  -3]\n",
            " [  4 -14   6]\n",
            " [ -3   7  13]]\n",
            "Определитель:\n",
            "0\n"
          ],
          "name": "stdout"
        }
      ]
    },
    {
      "cell_type": "code",
      "metadata": {
        "colab": {
          "base_uri": "https://localhost:8080/"
        },
        "id": "ObhBSvs0YVgp",
        "outputId": "8ee36023-c637-4a13-863e-e9c7138886a3"
      },
      "source": [
        "#Задание 9\r\n",
        "a = np.array([[1, 2, 3], [1, 1, 1], [2, 3, 4]])\r\n",
        "r = np.linalg.matrix_rank(a)\r\n",
        "print(f'Ранг матрицы: {r}')\r\n"
      ],
      "execution_count": null,
      "outputs": [
        {
          "output_type": "stream",
          "text": [
            "Ранг матрицы: 2\n"
          ],
          "name": "stdout"
        }
      ]
    },
    {
      "cell_type": "code",
      "metadata": {
        "colab": {
          "base_uri": "https://localhost:8080/"
        },
        "id": "-6L7ZmsUap1N",
        "outputId": "78a791af-270d-4b48-db28-251b09d7e4ad"
      },
      "source": [
        "a = np.array([[0, 0, 2,1], [0, 0, 2,2], [2, 3, 5,6]])\r\n",
        "r = np.linalg.matrix_rank(a)\r\n",
        "print(f'Ранг матрицы: {r}')"
      ],
      "execution_count": null,
      "outputs": [
        {
          "output_type": "stream",
          "text": [
            "Ранг матрицы: 3\n"
          ],
          "name": "stdout"
        }
      ]
    }
  ]
}