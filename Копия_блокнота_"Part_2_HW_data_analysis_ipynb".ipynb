{
  "nbformat": 4,
  "nbformat_minor": 0,
  "metadata": {
    "colab": {
      "name": "Копия блокнота \"Part_2_HW_data_analysis.ipynb\"",
      "provenance": [],
      "collapsed_sections": [],
      "include_colab_link": true
    },
    "kernelspec": {
      "name": "python3",
      "display_name": "Python 3"
    }
  },
  "cells": [
    {
      "cell_type": "markdown",
      "metadata": {
        "id": "view-in-github",
        "colab_type": "text"
      },
      "source": [
        "<a href=\"https://colab.research.google.com/github/serjduvk/Homework/blob/master/%D0%9A%D0%BE%D0%BF%D0%B8%D1%8F_%D0%B1%D0%BB%D0%BE%D0%BA%D0%BD%D0%BE%D1%82%D0%B0_%22Part_2_HW_data_analysis_ipynb%22.ipynb\" target=\"_parent\"><img src=\"https://colab.research.google.com/assets/colab-badge.svg\" alt=\"Open In Colab\"/></a>"
      ]
    },
    {
      "cell_type": "markdown",
      "metadata": {
        "id": "sVt9Gn6oPL9h"
      },
      "source": [
        "## Домашнее задание. Часть 2.\n",
        "\n",
        "\n",
        "Вего за эту часть ДЗ можно набрать максимум **8.5 баллов**. Разбиение баллов по каждой из задач представлено непосредственно перед текстом каждой задачи.\n",
        "\n",
        "**Дедлайн - пятница, 11.12.2020 в 23:59.**\n",
        "\n",
        "Дедлайн жесткий, сдача после дедлайна - 0 баллов за ДЗ.\n",
        "\n",
        "Ссылка на ноутбук в колабе: https://colab.research.google.com/drive/18Yom8NjCpK0XAVaO6-RzNs9--foqKtio?usp=sharing\n",
        "\n",
        "В этой части ДЗ Вам необходимо будет работать с датасетами - все они лежат в репозитории курса, а именно https://github.com/ddvika/Data-Science-School-2020/tree/main/hw_intermediate в папке `\"materials\"`\n",
        "\n",
        "а также на гугл диске:\n",
        "https://drive.google.com/drive/folders/1mvcBvJ_2341foynNnvmkJh3EJdS4_b4m?usp=sharing\n",
        "\n",
        "Вы можете обойтись и без скачивания, тк все данные импортируются напрямую из гитхаб"
      ]
    },
    {
      "cell_type": "markdown",
      "metadata": {
        "id": "LeUfW2A1PVqp"
      },
      "source": [
        "# Задание 1\n",
        "файл 'file_example_XLSX_1000.xlsx' лежит в репозитории и на гугл диске по ссылке выше"
      ]
    },
    {
      "cell_type": "markdown",
      "metadata": {
        "id": "5TBfORBwQXPQ"
      },
      "source": [
        "**0.5 point**\n",
        "\n",
        "- убрать ненужный столбец Unnamed\n",
        "\n",
        "**0.5 point**\n",
        "- Отсортировать людей по возрасту\n",
        "\n",
        "**0.5 point**\n",
        "- разделить людей по полу (сохраните в переменные female, male)\n",
        "\n",
        "**1 point**\n",
        "- построить гистограмму возрастов для мужчин и гистограмму возрастов для женщин"
      ]
    },
    {
      "cell_type": "code",
      "metadata": {
        "colab": {
          "base_uri": "https://localhost:8080/",
          "height": 406
        },
        "id": "utpj-YhpPNCe",
        "outputId": "7651a0ba-dd5c-4d31-98b2-5d94f73718e9"
      },
      "source": [
        "import pandas as pd\n",
        "df = pd.read_excel('https://github.com/ddvika/Data-Science-School-2020/blob/main/hw_intermediate/materials/file_example_XLSX_1000.xlsx?raw=true')\n",
        "df"
      ],
      "execution_count": null,
      "outputs": [
        {
          "output_type": "execute_result",
          "data": {
            "text/html": [
              "<div>\n",
              "<style scoped>\n",
              "    .dataframe tbody tr th:only-of-type {\n",
              "        vertical-align: middle;\n",
              "    }\n",
              "\n",
              "    .dataframe tbody tr th {\n",
              "        vertical-align: top;\n",
              "    }\n",
              "\n",
              "    .dataframe thead th {\n",
              "        text-align: right;\n",
              "    }\n",
              "</style>\n",
              "<table border=\"1\" class=\"dataframe\">\n",
              "  <thead>\n",
              "    <tr style=\"text-align: right;\">\n",
              "      <th></th>\n",
              "      <th>Unnamed: 0</th>\n",
              "      <th>First Name</th>\n",
              "      <th>Last Name</th>\n",
              "      <th>Gender</th>\n",
              "      <th>Country</th>\n",
              "      <th>Age</th>\n",
              "      <th>Date</th>\n",
              "      <th>Id</th>\n",
              "    </tr>\n",
              "  </thead>\n",
              "  <tbody>\n",
              "    <tr>\n",
              "      <th>0</th>\n",
              "      <td>1</td>\n",
              "      <td>Dulce</td>\n",
              "      <td>Abril</td>\n",
              "      <td>Female</td>\n",
              "      <td>United States</td>\n",
              "      <td>32</td>\n",
              "      <td>15/10/2017</td>\n",
              "      <td>1562</td>\n",
              "    </tr>\n",
              "    <tr>\n",
              "      <th>1</th>\n",
              "      <td>2</td>\n",
              "      <td>Mara</td>\n",
              "      <td>Hashimoto</td>\n",
              "      <td>Female</td>\n",
              "      <td>Great Britain</td>\n",
              "      <td>25</td>\n",
              "      <td>16/08/2016</td>\n",
              "      <td>1582</td>\n",
              "    </tr>\n",
              "    <tr>\n",
              "      <th>2</th>\n",
              "      <td>3</td>\n",
              "      <td>Philip</td>\n",
              "      <td>Gent</td>\n",
              "      <td>Male</td>\n",
              "      <td>France</td>\n",
              "      <td>36</td>\n",
              "      <td>21/05/2015</td>\n",
              "      <td>2587</td>\n",
              "    </tr>\n",
              "    <tr>\n",
              "      <th>3</th>\n",
              "      <td>4</td>\n",
              "      <td>Kathleen</td>\n",
              "      <td>Hanner</td>\n",
              "      <td>Female</td>\n",
              "      <td>United States</td>\n",
              "      <td>25</td>\n",
              "      <td>15/10/2017</td>\n",
              "      <td>3549</td>\n",
              "    </tr>\n",
              "    <tr>\n",
              "      <th>4</th>\n",
              "      <td>5</td>\n",
              "      <td>Nereida</td>\n",
              "      <td>Magwood</td>\n",
              "      <td>Female</td>\n",
              "      <td>United States</td>\n",
              "      <td>58</td>\n",
              "      <td>16/08/2016</td>\n",
              "      <td>2468</td>\n",
              "    </tr>\n",
              "    <tr>\n",
              "      <th>...</th>\n",
              "      <td>...</td>\n",
              "      <td>...</td>\n",
              "      <td>...</td>\n",
              "      <td>...</td>\n",
              "      <td>...</td>\n",
              "      <td>...</td>\n",
              "      <td>...</td>\n",
              "      <td>...</td>\n",
              "    </tr>\n",
              "    <tr>\n",
              "      <th>995</th>\n",
              "      <td>996</td>\n",
              "      <td>Roma</td>\n",
              "      <td>Lafollette</td>\n",
              "      <td>Female</td>\n",
              "      <td>United States</td>\n",
              "      <td>34</td>\n",
              "      <td>15/10/2017</td>\n",
              "      <td>2654</td>\n",
              "    </tr>\n",
              "    <tr>\n",
              "      <th>996</th>\n",
              "      <td>997</td>\n",
              "      <td>Felisa</td>\n",
              "      <td>Cail</td>\n",
              "      <td>Female</td>\n",
              "      <td>United States</td>\n",
              "      <td>28</td>\n",
              "      <td>16/08/2016</td>\n",
              "      <td>6525</td>\n",
              "    </tr>\n",
              "    <tr>\n",
              "      <th>997</th>\n",
              "      <td>998</td>\n",
              "      <td>Demetria</td>\n",
              "      <td>Abbey</td>\n",
              "      <td>Female</td>\n",
              "      <td>United States</td>\n",
              "      <td>32</td>\n",
              "      <td>21/05/2015</td>\n",
              "      <td>3265</td>\n",
              "    </tr>\n",
              "    <tr>\n",
              "      <th>998</th>\n",
              "      <td>999</td>\n",
              "      <td>Jeromy</td>\n",
              "      <td>Danz</td>\n",
              "      <td>Male</td>\n",
              "      <td>United States</td>\n",
              "      <td>39</td>\n",
              "      <td>15/10/2017</td>\n",
              "      <td>3265</td>\n",
              "    </tr>\n",
              "    <tr>\n",
              "      <th>999</th>\n",
              "      <td>1000</td>\n",
              "      <td>Rasheeda</td>\n",
              "      <td>Alkire</td>\n",
              "      <td>Female</td>\n",
              "      <td>United States</td>\n",
              "      <td>29</td>\n",
              "      <td>16/08/2016</td>\n",
              "      <td>6125</td>\n",
              "    </tr>\n",
              "  </tbody>\n",
              "</table>\n",
              "<p>1000 rows × 8 columns</p>\n",
              "</div>"
            ],
            "text/plain": [
              "     Unnamed: 0 First Name   Last Name  ... Age        Date    Id\n",
              "0             1      Dulce       Abril  ...  32  15/10/2017  1562\n",
              "1             2       Mara   Hashimoto  ...  25  16/08/2016  1582\n",
              "2             3     Philip        Gent  ...  36  21/05/2015  2587\n",
              "3             4   Kathleen      Hanner  ...  25  15/10/2017  3549\n",
              "4             5    Nereida     Magwood  ...  58  16/08/2016  2468\n",
              "..          ...        ...         ...  ...  ..         ...   ...\n",
              "995         996       Roma  Lafollette  ...  34  15/10/2017  2654\n",
              "996         997     Felisa        Cail  ...  28  16/08/2016  6525\n",
              "997         998   Demetria       Abbey  ...  32  21/05/2015  3265\n",
              "998         999     Jeromy        Danz  ...  39  15/10/2017  3265\n",
              "999        1000   Rasheeda      Alkire  ...  29  16/08/2016  6125\n",
              "\n",
              "[1000 rows x 8 columns]"
            ]
          },
          "metadata": {
            "tags": []
          },
          "execution_count": 18
        }
      ]
    },
    {
      "cell_type": "code",
      "metadata": {
        "id": "tB25_D_zPNFV"
      },
      "source": [
        "#TODO\r\n",
        "del df['Unnamed: 0']\r\n",
        "df"
      ],
      "execution_count": null,
      "outputs": []
    },
    {
      "cell_type": "code",
      "metadata": {
        "colab": {
          "base_uri": "https://localhost:8080/",
          "height": 406
        },
        "id": "SULH8WdIE889",
        "outputId": "6700e333-cb64-4c41-aa14-af91914dfac7"
      },
      "source": [
        "df.sort_values(by=['Age'], ascending=True,inplace=True)\r\n",
        "df"
      ],
      "execution_count": null,
      "outputs": [
        {
          "output_type": "execute_result",
          "data": {
            "text/html": [
              "<div>\n",
              "<style scoped>\n",
              "    .dataframe tbody tr th:only-of-type {\n",
              "        vertical-align: middle;\n",
              "    }\n",
              "\n",
              "    .dataframe tbody tr th {\n",
              "        vertical-align: top;\n",
              "    }\n",
              "\n",
              "    .dataframe thead th {\n",
              "        text-align: right;\n",
              "    }\n",
              "</style>\n",
              "<table border=\"1\" class=\"dataframe\">\n",
              "  <thead>\n",
              "    <tr style=\"text-align: right;\">\n",
              "      <th></th>\n",
              "      <th>First Name</th>\n",
              "      <th>Last Name</th>\n",
              "      <th>Gender</th>\n",
              "      <th>Country</th>\n",
              "      <th>Age</th>\n",
              "      <th>Date</th>\n",
              "      <th>Id</th>\n",
              "    </tr>\n",
              "  </thead>\n",
              "  <tbody>\n",
              "    <tr>\n",
              "      <th>824</th>\n",
              "      <td>Lester</td>\n",
              "      <td>Prothro</td>\n",
              "      <td>Male</td>\n",
              "      <td>France</td>\n",
              "      <td>21</td>\n",
              "      <td>15/10/2017</td>\n",
              "      <td>6574</td>\n",
              "    </tr>\n",
              "    <tr>\n",
              "      <th>24</th>\n",
              "      <td>Lester</td>\n",
              "      <td>Prothro</td>\n",
              "      <td>Male</td>\n",
              "      <td>France</td>\n",
              "      <td>21</td>\n",
              "      <td>15/10/2017</td>\n",
              "      <td>6574</td>\n",
              "    </tr>\n",
              "    <tr>\n",
              "      <th>574</th>\n",
              "      <td>Lester</td>\n",
              "      <td>Prothro</td>\n",
              "      <td>Male</td>\n",
              "      <td>France</td>\n",
              "      <td>21</td>\n",
              "      <td>15/10/2017</td>\n",
              "      <td>6574</td>\n",
              "    </tr>\n",
              "    <tr>\n",
              "      <th>324</th>\n",
              "      <td>Lester</td>\n",
              "      <td>Prothro</td>\n",
              "      <td>Male</td>\n",
              "      <td>France</td>\n",
              "      <td>21</td>\n",
              "      <td>15/10/2017</td>\n",
              "      <td>6574</td>\n",
              "    </tr>\n",
              "    <tr>\n",
              "      <th>124</th>\n",
              "      <td>Lester</td>\n",
              "      <td>Prothro</td>\n",
              "      <td>Male</td>\n",
              "      <td>France</td>\n",
              "      <td>21</td>\n",
              "      <td>15/10/2017</td>\n",
              "      <td>6574</td>\n",
              "    </tr>\n",
              "    <tr>\n",
              "      <th>...</th>\n",
              "      <td>...</td>\n",
              "      <td>...</td>\n",
              "      <td>...</td>\n",
              "      <td>...</td>\n",
              "      <td>...</td>\n",
              "      <td>...</td>\n",
              "      <td>...</td>\n",
              "    </tr>\n",
              "    <tr>\n",
              "      <th>954</th>\n",
              "      <td>Nereida</td>\n",
              "      <td>Magwood</td>\n",
              "      <td>Female</td>\n",
              "      <td>United States</td>\n",
              "      <td>58</td>\n",
              "      <td>16/08/2016</td>\n",
              "      <td>2468</td>\n",
              "    </tr>\n",
              "    <tr>\n",
              "      <th>54</th>\n",
              "      <td>Nereida</td>\n",
              "      <td>Magwood</td>\n",
              "      <td>Female</td>\n",
              "      <td>United States</td>\n",
              "      <td>58</td>\n",
              "      <td>16/08/2016</td>\n",
              "      <td>2468</td>\n",
              "    </tr>\n",
              "    <tr>\n",
              "      <th>654</th>\n",
              "      <td>Nereida</td>\n",
              "      <td>Magwood</td>\n",
              "      <td>Female</td>\n",
              "      <td>United States</td>\n",
              "      <td>58</td>\n",
              "      <td>16/08/2016</td>\n",
              "      <td>2468</td>\n",
              "    </tr>\n",
              "    <tr>\n",
              "      <th>504</th>\n",
              "      <td>Nereida</td>\n",
              "      <td>Magwood</td>\n",
              "      <td>Female</td>\n",
              "      <td>United States</td>\n",
              "      <td>58</td>\n",
              "      <td>16/08/2016</td>\n",
              "      <td>2468</td>\n",
              "    </tr>\n",
              "    <tr>\n",
              "      <th>154</th>\n",
              "      <td>Nereida</td>\n",
              "      <td>Magwood</td>\n",
              "      <td>Female</td>\n",
              "      <td>United States</td>\n",
              "      <td>58</td>\n",
              "      <td>16/08/2016</td>\n",
              "      <td>2468</td>\n",
              "    </tr>\n",
              "  </tbody>\n",
              "</table>\n",
              "<p>1000 rows × 7 columns</p>\n",
              "</div>"
            ],
            "text/plain": [
              "    First Name Last Name  Gender        Country  Age        Date    Id\n",
              "824     Lester   Prothro    Male         France   21  15/10/2017  6574\n",
              "24      Lester   Prothro    Male         France   21  15/10/2017  6574\n",
              "574     Lester   Prothro    Male         France   21  15/10/2017  6574\n",
              "324     Lester   Prothro    Male         France   21  15/10/2017  6574\n",
              "124     Lester   Prothro    Male         France   21  15/10/2017  6574\n",
              "..         ...       ...     ...            ...  ...         ...   ...\n",
              "954    Nereida   Magwood  Female  United States   58  16/08/2016  2468\n",
              "54     Nereida   Magwood  Female  United States   58  16/08/2016  2468\n",
              "654    Nereida   Magwood  Female  United States   58  16/08/2016  2468\n",
              "504    Nereida   Magwood  Female  United States   58  16/08/2016  2468\n",
              "154    Nereida   Magwood  Female  United States   58  16/08/2016  2468\n",
              "\n",
              "[1000 rows x 7 columns]"
            ]
          },
          "metadata": {
            "tags": []
          },
          "execution_count": 20
        }
      ]
    },
    {
      "cell_type": "code",
      "metadata": {
        "colab": {
          "base_uri": "https://localhost:8080/",
          "height": 406
        },
        "id": "vHGb0GaYMZ4q",
        "outputId": "0cf17fa5-18e6-4799-991f-5790ed56b0ad"
      },
      "source": [
        "dffemale=df[df['Gender']=='Female']\r\n",
        "dffemale"
      ],
      "execution_count": null,
      "outputs": [
        {
          "output_type": "execute_result",
          "data": {
            "text/html": [
              "<div>\n",
              "<style scoped>\n",
              "    .dataframe tbody tr th:only-of-type {\n",
              "        vertical-align: middle;\n",
              "    }\n",
              "\n",
              "    .dataframe tbody tr th {\n",
              "        vertical-align: top;\n",
              "    }\n",
              "\n",
              "    .dataframe thead th {\n",
              "        text-align: right;\n",
              "    }\n",
              "</style>\n",
              "<table border=\"1\" class=\"dataframe\">\n",
              "  <thead>\n",
              "    <tr style=\"text-align: right;\">\n",
              "      <th></th>\n",
              "      <th>First Name</th>\n",
              "      <th>Last Name</th>\n",
              "      <th>Gender</th>\n",
              "      <th>Country</th>\n",
              "      <th>Age</th>\n",
              "      <th>Date</th>\n",
              "      <th>Id</th>\n",
              "    </tr>\n",
              "  </thead>\n",
              "  <tbody>\n",
              "    <tr>\n",
              "      <th>277</th>\n",
              "      <td>Francesca</td>\n",
              "      <td>Beaudreau</td>\n",
              "      <td>Female</td>\n",
              "      <td>France</td>\n",
              "      <td>23</td>\n",
              "      <td>15/10/2017</td>\n",
              "      <td>5412</td>\n",
              "    </tr>\n",
              "    <tr>\n",
              "      <th>227</th>\n",
              "      <td>Francesca</td>\n",
              "      <td>Beaudreau</td>\n",
              "      <td>Female</td>\n",
              "      <td>France</td>\n",
              "      <td>23</td>\n",
              "      <td>15/10/2017</td>\n",
              "      <td>5412</td>\n",
              "    </tr>\n",
              "    <tr>\n",
              "      <th>77</th>\n",
              "      <td>Francesca</td>\n",
              "      <td>Beaudreau</td>\n",
              "      <td>Female</td>\n",
              "      <td>France</td>\n",
              "      <td>23</td>\n",
              "      <td>15/10/2017</td>\n",
              "      <td>5412</td>\n",
              "    </tr>\n",
              "    <tr>\n",
              "      <th>577</th>\n",
              "      <td>Francesca</td>\n",
              "      <td>Beaudreau</td>\n",
              "      <td>Female</td>\n",
              "      <td>France</td>\n",
              "      <td>23</td>\n",
              "      <td>15/10/2017</td>\n",
              "      <td>5412</td>\n",
              "    </tr>\n",
              "    <tr>\n",
              "      <th>177</th>\n",
              "      <td>Francesca</td>\n",
              "      <td>Beaudreau</td>\n",
              "      <td>Female</td>\n",
              "      <td>France</td>\n",
              "      <td>23</td>\n",
              "      <td>15/10/2017</td>\n",
              "      <td>5412</td>\n",
              "    </tr>\n",
              "    <tr>\n",
              "      <th>...</th>\n",
              "      <td>...</td>\n",
              "      <td>...</td>\n",
              "      <td>...</td>\n",
              "      <td>...</td>\n",
              "      <td>...</td>\n",
              "      <td>...</td>\n",
              "      <td>...</td>\n",
              "    </tr>\n",
              "    <tr>\n",
              "      <th>954</th>\n",
              "      <td>Nereida</td>\n",
              "      <td>Magwood</td>\n",
              "      <td>Female</td>\n",
              "      <td>United States</td>\n",
              "      <td>58</td>\n",
              "      <td>16/08/2016</td>\n",
              "      <td>2468</td>\n",
              "    </tr>\n",
              "    <tr>\n",
              "      <th>54</th>\n",
              "      <td>Nereida</td>\n",
              "      <td>Magwood</td>\n",
              "      <td>Female</td>\n",
              "      <td>United States</td>\n",
              "      <td>58</td>\n",
              "      <td>16/08/2016</td>\n",
              "      <td>2468</td>\n",
              "    </tr>\n",
              "    <tr>\n",
              "      <th>654</th>\n",
              "      <td>Nereida</td>\n",
              "      <td>Magwood</td>\n",
              "      <td>Female</td>\n",
              "      <td>United States</td>\n",
              "      <td>58</td>\n",
              "      <td>16/08/2016</td>\n",
              "      <td>2468</td>\n",
              "    </tr>\n",
              "    <tr>\n",
              "      <th>504</th>\n",
              "      <td>Nereida</td>\n",
              "      <td>Magwood</td>\n",
              "      <td>Female</td>\n",
              "      <td>United States</td>\n",
              "      <td>58</td>\n",
              "      <td>16/08/2016</td>\n",
              "      <td>2468</td>\n",
              "    </tr>\n",
              "    <tr>\n",
              "      <th>154</th>\n",
              "      <td>Nereida</td>\n",
              "      <td>Magwood</td>\n",
              "      <td>Female</td>\n",
              "      <td>United States</td>\n",
              "      <td>58</td>\n",
              "      <td>16/08/2016</td>\n",
              "      <td>2468</td>\n",
              "    </tr>\n",
              "  </tbody>\n",
              "</table>\n",
              "<p>760 rows × 7 columns</p>\n",
              "</div>"
            ],
            "text/plain": [
              "    First Name  Last Name  Gender        Country  Age        Date    Id\n",
              "277  Francesca  Beaudreau  Female         France   23  15/10/2017  5412\n",
              "227  Francesca  Beaudreau  Female         France   23  15/10/2017  5412\n",
              "77   Francesca  Beaudreau  Female         France   23  15/10/2017  5412\n",
              "577  Francesca  Beaudreau  Female         France   23  15/10/2017  5412\n",
              "177  Francesca  Beaudreau  Female         France   23  15/10/2017  5412\n",
              "..         ...        ...     ...            ...  ...         ...   ...\n",
              "954    Nereida    Magwood  Female  United States   58  16/08/2016  2468\n",
              "54     Nereida    Magwood  Female  United States   58  16/08/2016  2468\n",
              "654    Nereida    Magwood  Female  United States   58  16/08/2016  2468\n",
              "504    Nereida    Magwood  Female  United States   58  16/08/2016  2468\n",
              "154    Nereida    Magwood  Female  United States   58  16/08/2016  2468\n",
              "\n",
              "[760 rows x 7 columns]"
            ]
          },
          "metadata": {
            "tags": []
          },
          "execution_count": 21
        }
      ]
    },
    {
      "cell_type": "code",
      "metadata": {
        "colab": {
          "base_uri": "https://localhost:8080/",
          "height": 406
        },
        "id": "NfBg3EyONN04",
        "outputId": "a6666542-add8-46b5-ad0f-93d3c85f1cc4"
      },
      "source": [
        "dfmale=df[df['Gender']=='Male']\r\n",
        "dfmale"
      ],
      "execution_count": null,
      "outputs": [
        {
          "output_type": "execute_result",
          "data": {
            "text/html": [
              "<div>\n",
              "<style scoped>\n",
              "    .dataframe tbody tr th:only-of-type {\n",
              "        vertical-align: middle;\n",
              "    }\n",
              "\n",
              "    .dataframe tbody tr th {\n",
              "        vertical-align: top;\n",
              "    }\n",
              "\n",
              "    .dataframe thead th {\n",
              "        text-align: right;\n",
              "    }\n",
              "</style>\n",
              "<table border=\"1\" class=\"dataframe\">\n",
              "  <thead>\n",
              "    <tr style=\"text-align: right;\">\n",
              "      <th></th>\n",
              "      <th>First Name</th>\n",
              "      <th>Last Name</th>\n",
              "      <th>Gender</th>\n",
              "      <th>Country</th>\n",
              "      <th>Age</th>\n",
              "      <th>Date</th>\n",
              "      <th>Id</th>\n",
              "    </tr>\n",
              "  </thead>\n",
              "  <tbody>\n",
              "    <tr>\n",
              "      <th>824</th>\n",
              "      <td>Lester</td>\n",
              "      <td>Prothro</td>\n",
              "      <td>Male</td>\n",
              "      <td>France</td>\n",
              "      <td>21</td>\n",
              "      <td>15/10/2017</td>\n",
              "      <td>6574</td>\n",
              "    </tr>\n",
              "    <tr>\n",
              "      <th>24</th>\n",
              "      <td>Lester</td>\n",
              "      <td>Prothro</td>\n",
              "      <td>Male</td>\n",
              "      <td>France</td>\n",
              "      <td>21</td>\n",
              "      <td>15/10/2017</td>\n",
              "      <td>6574</td>\n",
              "    </tr>\n",
              "    <tr>\n",
              "      <th>574</th>\n",
              "      <td>Lester</td>\n",
              "      <td>Prothro</td>\n",
              "      <td>Male</td>\n",
              "      <td>France</td>\n",
              "      <td>21</td>\n",
              "      <td>15/10/2017</td>\n",
              "      <td>6574</td>\n",
              "    </tr>\n",
              "    <tr>\n",
              "      <th>324</th>\n",
              "      <td>Lester</td>\n",
              "      <td>Prothro</td>\n",
              "      <td>Male</td>\n",
              "      <td>France</td>\n",
              "      <td>21</td>\n",
              "      <td>15/10/2017</td>\n",
              "      <td>6574</td>\n",
              "    </tr>\n",
              "    <tr>\n",
              "      <th>124</th>\n",
              "      <td>Lester</td>\n",
              "      <td>Prothro</td>\n",
              "      <td>Male</td>\n",
              "      <td>France</td>\n",
              "      <td>21</td>\n",
              "      <td>15/10/2017</td>\n",
              "      <td>6574</td>\n",
              "    </tr>\n",
              "    <tr>\n",
              "      <th>...</th>\n",
              "      <td>...</td>\n",
              "      <td>...</td>\n",
              "      <td>...</td>\n",
              "      <td>...</td>\n",
              "      <td>...</td>\n",
              "      <td>...</td>\n",
              "      <td>...</td>\n",
              "    </tr>\n",
              "    <tr>\n",
              "      <th>778</th>\n",
              "      <td>Garth</td>\n",
              "      <td>Gangi</td>\n",
              "      <td>Male</td>\n",
              "      <td>United States</td>\n",
              "      <td>41</td>\n",
              "      <td>16/08/2016</td>\n",
              "      <td>3256</td>\n",
              "    </tr>\n",
              "    <tr>\n",
              "      <th>978</th>\n",
              "      <td>Garth</td>\n",
              "      <td>Gangi</td>\n",
              "      <td>Male</td>\n",
              "      <td>United States</td>\n",
              "      <td>41</td>\n",
              "      <td>16/08/2016</td>\n",
              "      <td>3256</td>\n",
              "    </tr>\n",
              "    <tr>\n",
              "      <th>678</th>\n",
              "      <td>Garth</td>\n",
              "      <td>Gangi</td>\n",
              "      <td>Male</td>\n",
              "      <td>United States</td>\n",
              "      <td>41</td>\n",
              "      <td>16/08/2016</td>\n",
              "      <td>3256</td>\n",
              "    </tr>\n",
              "    <tr>\n",
              "      <th>528</th>\n",
              "      <td>Garth</td>\n",
              "      <td>Gangi</td>\n",
              "      <td>Male</td>\n",
              "      <td>United States</td>\n",
              "      <td>41</td>\n",
              "      <td>16/08/2016</td>\n",
              "      <td>3256</td>\n",
              "    </tr>\n",
              "    <tr>\n",
              "      <th>478</th>\n",
              "      <td>Garth</td>\n",
              "      <td>Gangi</td>\n",
              "      <td>Male</td>\n",
              "      <td>United States</td>\n",
              "      <td>41</td>\n",
              "      <td>16/08/2016</td>\n",
              "      <td>3256</td>\n",
              "    </tr>\n",
              "  </tbody>\n",
              "</table>\n",
              "<p>240 rows × 7 columns</p>\n",
              "</div>"
            ],
            "text/plain": [
              "    First Name Last Name Gender        Country  Age        Date    Id\n",
              "824     Lester   Prothro   Male         France   21  15/10/2017  6574\n",
              "24      Lester   Prothro   Male         France   21  15/10/2017  6574\n",
              "574     Lester   Prothro   Male         France   21  15/10/2017  6574\n",
              "324     Lester   Prothro   Male         France   21  15/10/2017  6574\n",
              "124     Lester   Prothro   Male         France   21  15/10/2017  6574\n",
              "..         ...       ...    ...            ...  ...         ...   ...\n",
              "778      Garth     Gangi   Male  United States   41  16/08/2016  3256\n",
              "978      Garth     Gangi   Male  United States   41  16/08/2016  3256\n",
              "678      Garth     Gangi   Male  United States   41  16/08/2016  3256\n",
              "528      Garth     Gangi   Male  United States   41  16/08/2016  3256\n",
              "478      Garth     Gangi   Male  United States   41  16/08/2016  3256\n",
              "\n",
              "[240 rows x 7 columns]"
            ]
          },
          "metadata": {
            "tags": []
          },
          "execution_count": 36
        }
      ]
    },
    {
      "cell_type": "code",
      "metadata": {
        "id": "7rWET81KP1EZ"
      },
      "source": [
        "import matplotlib.pyplot as plt\r\n",
        "%matplotlib inline"
      ],
      "execution_count": null,
      "outputs": []
    },
    {
      "cell_type": "code",
      "metadata": {
        "colab": {
          "base_uri": "https://localhost:8080/",
          "height": 638
        },
        "id": "nM1dHOvKR7Es",
        "outputId": "86f5535e-b7c2-4e6c-d4ed-a0f606d541d2"
      },
      "source": [
        "df3=dffemale.groupby('Age').count()['Gender']\r\n",
        "df3.plot(figsize=(10, 10))\r\n",
        "plt.title('Распределение по возрасту женщин')\r\n",
        "plt.xlabel('Возраст')\r\n",
        "plt.ylabel('Кол-во человек')"
      ],
      "execution_count": null,
      "outputs": [
        {
          "output_type": "execute_result",
          "data": {
            "text/plain": [
              "Text(0, 0.5, 'Кол-во человек')"
            ]
          },
          "metadata": {
            "tags": []
          },
          "execution_count": 40
        },
        {
          "output_type": "display_data",
          "data": {
            "image/png": "[encoded data removed]",
            "text/plain": [
              "<Figure size 720x720 with 1 Axes>"
            ]
          },
          "metadata": {
            "tags": [],
            "needs_background": "light"
          }
        }
      ]
    },
    {
      "cell_type": "code",
      "metadata": {
        "colab": {
          "base_uri": "https://localhost:8080/",
          "height": 638
        },
        "id": "1Q4reJc-yDfD",
        "outputId": "7060f732-b3c2-409a-caa1-52061c59dbdb"
      },
      "source": [
        "df3=dfmale.groupby('Age').count()['Gender']\r\n",
        "df3.plot(figsize=(10, 10))\r\n",
        "plt.title('Распределение по возрасту мужчин')\r\n",
        "plt.xlabel('Возраст')\r\n",
        "plt.ylabel('Кол-во человек')"
      ],
      "execution_count": null,
      "outputs": [
        {
          "output_type": "execute_result",
          "data": {
            "text/plain": [
              "Text(0, 0.5, 'Кол-во человек')"
            ]
          },
          "metadata": {
            "tags": []
          },
          "execution_count": 41
        },
        {
          "output_type": "display_data",
          "data": {
            "image/png": "[encoded data removed]",
            "text/plain": [
              "<Figure size 720x720 with 1 Axes>"
            ]
          },
          "metadata": {
            "tags": [],
            "needs_background": "light"
          }
        }
      ]
    },
    {
      "cell_type": "markdown",
      "metadata": {
        "id": "5taxu3miSr6l"
      },
      "source": [
        "# Задание 2\n",
        " "
      ]
    },
    {
      "cell_type": "code",
      "metadata": {
        "colab": {
          "base_uri": "https://localhost:8080/",
          "height": 406
        },
        "id": "bufkpwAYPNIP",
        "outputId": "a9612995-6484-4224-fc68-b71e2290d8f2"
      },
      "source": [
        "df = pd.read_csv('https://raw.githubusercontent.com/ddvika/Data-Science-School-2020/main/hw_intermediate/materials/appl_1980_2014.csv')\n",
        "df"
      ],
      "execution_count": null,
      "outputs": [
        {
          "output_type": "execute_result",
          "data": {
            "text/html": [
              "<div>\n",
              "<style scoped>\n",
              "    .dataframe tbody tr th:only-of-type {\n",
              "        vertical-align: middle;\n",
              "    }\n",
              "\n",
              "    .dataframe tbody tr th {\n",
              "        vertical-align: top;\n",
              "    }\n",
              "\n",
              "    .dataframe thead th {\n",
              "        text-align: right;\n",
              "    }\n",
              "</style>\n",
              "<table border=\"1\" class=\"dataframe\">\n",
              "  <thead>\n",
              "    <tr style=\"text-align: right;\">\n",
              "      <th></th>\n",
              "      <th>Unnamed: 0</th>\n",
              "      <th>Date</th>\n",
              "      <th>Open</th>\n",
              "      <th>High</th>\n",
              "      <th>Low</th>\n",
              "      <th>Close</th>\n",
              "      <th>Volume</th>\n",
              "      <th>Adj Close</th>\n",
              "    </tr>\n",
              "  </thead>\n",
              "  <tbody>\n",
              "    <tr>\n",
              "      <th>0</th>\n",
              "      <td>0</td>\n",
              "      <td>2014-07-08</td>\n",
              "      <td>96.27</td>\n",
              "      <td>96.80</td>\n",
              "      <td>93.92</td>\n",
              "      <td>95.35</td>\n",
              "      <td>65130000</td>\n",
              "      <td>95.35</td>\n",
              "    </tr>\n",
              "    <tr>\n",
              "      <th>1</th>\n",
              "      <td>1</td>\n",
              "      <td>2014-07-07</td>\n",
              "      <td>94.14</td>\n",
              "      <td>95.99</td>\n",
              "      <td>94.10</td>\n",
              "      <td>95.97</td>\n",
              "      <td>56305400</td>\n",
              "      <td>95.97</td>\n",
              "    </tr>\n",
              "    <tr>\n",
              "      <th>2</th>\n",
              "      <td>2</td>\n",
              "      <td>2014-07-03</td>\n",
              "      <td>93.67</td>\n",
              "      <td>94.10</td>\n",
              "      <td>93.20</td>\n",
              "      <td>94.03</td>\n",
              "      <td>22891800</td>\n",
              "      <td>94.03</td>\n",
              "    </tr>\n",
              "    <tr>\n",
              "      <th>3</th>\n",
              "      <td>3</td>\n",
              "      <td>2014-07-02</td>\n",
              "      <td>93.87</td>\n",
              "      <td>94.06</td>\n",
              "      <td>93.09</td>\n",
              "      <td>93.48</td>\n",
              "      <td>28420900</td>\n",
              "      <td>93.48</td>\n",
              "    </tr>\n",
              "    <tr>\n",
              "      <th>4</th>\n",
              "      <td>4</td>\n",
              "      <td>2014-07-01</td>\n",
              "      <td>93.52</td>\n",
              "      <td>94.07</td>\n",
              "      <td>93.13</td>\n",
              "      <td>93.52</td>\n",
              "      <td>38170200</td>\n",
              "      <td>93.52</td>\n",
              "    </tr>\n",
              "    <tr>\n",
              "      <th>...</th>\n",
              "      <td>...</td>\n",
              "      <td>...</td>\n",
              "      <td>...</td>\n",
              "      <td>...</td>\n",
              "      <td>...</td>\n",
              "      <td>...</td>\n",
              "      <td>...</td>\n",
              "      <td>...</td>\n",
              "    </tr>\n",
              "    <tr>\n",
              "      <th>8460</th>\n",
              "      <td>8460</td>\n",
              "      <td>1980-12-18</td>\n",
              "      <td>26.63</td>\n",
              "      <td>26.75</td>\n",
              "      <td>26.63</td>\n",
              "      <td>26.63</td>\n",
              "      <td>18362400</td>\n",
              "      <td>0.41</td>\n",
              "    </tr>\n",
              "    <tr>\n",
              "      <th>8461</th>\n",
              "      <td>8461</td>\n",
              "      <td>1980-12-17</td>\n",
              "      <td>25.87</td>\n",
              "      <td>26.00</td>\n",
              "      <td>25.87</td>\n",
              "      <td>25.87</td>\n",
              "      <td>21610400</td>\n",
              "      <td>0.40</td>\n",
              "    </tr>\n",
              "    <tr>\n",
              "      <th>8462</th>\n",
              "      <td>8462</td>\n",
              "      <td>1980-12-16</td>\n",
              "      <td>25.37</td>\n",
              "      <td>25.37</td>\n",
              "      <td>25.25</td>\n",
              "      <td>25.25</td>\n",
              "      <td>26432000</td>\n",
              "      <td>0.39</td>\n",
              "    </tr>\n",
              "    <tr>\n",
              "      <th>8463</th>\n",
              "      <td>8463</td>\n",
              "      <td>1980-12-15</td>\n",
              "      <td>27.38</td>\n",
              "      <td>27.38</td>\n",
              "      <td>27.25</td>\n",
              "      <td>27.25</td>\n",
              "      <td>43971200</td>\n",
              "      <td>0.42</td>\n",
              "    </tr>\n",
              "    <tr>\n",
              "      <th>8464</th>\n",
              "      <td>8464</td>\n",
              "      <td>1980-12-12</td>\n",
              "      <td>28.75</td>\n",
              "      <td>28.87</td>\n",
              "      <td>28.75</td>\n",
              "      <td>28.75</td>\n",
              "      <td>117258400</td>\n",
              "      <td>0.45</td>\n",
              "    </tr>\n",
              "  </tbody>\n",
              "</table>\n",
              "<p>8465 rows × 8 columns</p>\n",
              "</div>"
            ],
            "text/plain": [
              "      Unnamed: 0        Date   Open   High    Low  Close     Volume  Adj Close\n",
              "0              0  2014-07-08  96.27  96.80  93.92  95.35   65130000      95.35\n",
              "1              1  2014-07-07  94.14  95.99  94.10  95.97   56305400      95.97\n",
              "2              2  2014-07-03  93.67  94.10  93.20  94.03   22891800      94.03\n",
              "3              3  2014-07-02  93.87  94.06  93.09  93.48   28420900      93.48\n",
              "4              4  2014-07-01  93.52  94.07  93.13  93.52   38170200      93.52\n",
              "...          ...         ...    ...    ...    ...    ...        ...        ...\n",
              "8460        8460  1980-12-18  26.63  26.75  26.63  26.63   18362400       0.41\n",
              "8461        8461  1980-12-17  25.87  26.00  25.87  25.87   21610400       0.40\n",
              "8462        8462  1980-12-16  25.37  25.37  25.25  25.25   26432000       0.39\n",
              "8463        8463  1980-12-15  27.38  27.38  27.25  27.25   43971200       0.42\n",
              "8464        8464  1980-12-12  28.75  28.87  28.75  28.75  117258400       0.45\n",
              "\n",
              "[8465 rows x 8 columns]"
            ]
          },
          "metadata": {
            "tags": []
          },
          "execution_count": 42
        }
      ]
    },
    {
      "cell_type": "markdown",
      "metadata": {
        "id": "ltZV5S5TUXUC"
      },
      "source": [
        "**0.5 point**\n",
        "- убрать ненужный столбец Unnamed\n",
        "\n",
        "**0.5 point**\n",
        "- Проверьте тип данных в столбцах\n",
        "\n",
        "**0.5 point**\n",
        "- Преобразуйте столбец Date в тип datetime\n",
        "\n",
        "**0.5 point**\n",
        "- Установите дату в качестве индекса\n",
        "\n",
        "**0.5 point**\n",
        "- Есть ли повторяющиеся даты?\n",
        "\n",
        "**0.5 point**\n",
        "- Получите последний рабочий день каждого месяца\n",
        "\n",
        "**0.5 point**\n",
        "- Какая разница в днях между первым днем и самым давним?\n",
        "\n",
        "**0.5 point**\n",
        "- Сколько месяцев у нас есть в данных?\n",
        "\n",
        "**0.5 point**\n",
        "-  Постройте значение «Adj Close». Установите размер рисунка 13,5 х 9 дюймов.\n",
        "\n",
        "**Доп. задание (макс балл 1.5)**\n",
        "- Придумайте собственные вопросы и ответьте на них. Также можете нарисовать какие-то интересные графики.\n"
      ]
    },
    {
      "cell_type": "code",
      "metadata": {
        "id": "ZdTeTiF0PNQO",
        "colab": {
          "base_uri": "https://localhost:8080/",
          "height": 406
        },
        "outputId": "1565e2c3-1b51-4455-9eed-de3e84ddf860"
      },
      "source": [
        "del df['Unnamed: 0']\r\n",
        "df"
      ],
      "execution_count": null,
      "outputs": [
        {
          "output_type": "execute_result",
          "data": {
            "text/html": [
              "<div>\n",
              "<style scoped>\n",
              "    .dataframe tbody tr th:only-of-type {\n",
              "        vertical-align: middle;\n",
              "    }\n",
              "\n",
              "    .dataframe tbody tr th {\n",
              "        vertical-align: top;\n",
              "    }\n",
              "\n",
              "    .dataframe thead th {\n",
              "        text-align: right;\n",
              "    }\n",
              "</style>\n",
              "<table border=\"1\" class=\"dataframe\">\n",
              "  <thead>\n",
              "    <tr style=\"text-align: right;\">\n",
              "      <th></th>\n",
              "      <th>Date</th>\n",
              "      <th>Open</th>\n",
              "      <th>High</th>\n",
              "      <th>Low</th>\n",
              "      <th>Close</th>\n",
              "      <th>Volume</th>\n",
              "      <th>Adj Close</th>\n",
              "    </tr>\n",
              "  </thead>\n",
              "  <tbody>\n",
              "    <tr>\n",
              "      <th>0</th>\n",
              "      <td>2014-07-08</td>\n",
              "      <td>96.27</td>\n",
              "      <td>96.80</td>\n",
              "      <td>93.92</td>\n",
              "      <td>95.35</td>\n",
              "      <td>65130000</td>\n",
              "      <td>95.35</td>\n",
              "    </tr>\n",
              "    <tr>\n",
              "      <th>1</th>\n",
              "      <td>2014-07-07</td>\n",
              "      <td>94.14</td>\n",
              "      <td>95.99</td>\n",
              "      <td>94.10</td>\n",
              "      <td>95.97</td>\n",
              "      <td>56305400</td>\n",
              "      <td>95.97</td>\n",
              "    </tr>\n",
              "    <tr>\n",
              "      <th>2</th>\n",
              "      <td>2014-07-03</td>\n",
              "      <td>93.67</td>\n",
              "      <td>94.10</td>\n",
              "      <td>93.20</td>\n",
              "      <td>94.03</td>\n",
              "      <td>22891800</td>\n",
              "      <td>94.03</td>\n",
              "    </tr>\n",
              "    <tr>\n",
              "      <th>3</th>\n",
              "      <td>2014-07-02</td>\n",
              "      <td>93.87</td>\n",
              "      <td>94.06</td>\n",
              "      <td>93.09</td>\n",
              "      <td>93.48</td>\n",
              "      <td>28420900</td>\n",
              "      <td>93.48</td>\n",
              "    </tr>\n",
              "    <tr>\n",
              "      <th>4</th>\n",
              "      <td>2014-07-01</td>\n",
              "      <td>93.52</td>\n",
              "      <td>94.07</td>\n",
              "      <td>93.13</td>\n",
              "      <td>93.52</td>\n",
              "      <td>38170200</td>\n",
              "      <td>93.52</td>\n",
              "    </tr>\n",
              "    <tr>\n",
              "      <th>...</th>\n",
              "      <td>...</td>\n",
              "      <td>...</td>\n",
              "      <td>...</td>\n",
              "      <td>...</td>\n",
              "      <td>...</td>\n",
              "      <td>...</td>\n",
              "      <td>...</td>\n",
              "    </tr>\n",
              "    <tr>\n",
              "      <th>8460</th>\n",
              "      <td>1980-12-18</td>\n",
              "      <td>26.63</td>\n",
              "      <td>26.75</td>\n",
              "      <td>26.63</td>\n",
              "      <td>26.63</td>\n",
              "      <td>18362400</td>\n",
              "      <td>0.41</td>\n",
              "    </tr>\n",
              "    <tr>\n",
              "      <th>8461</th>\n",
              "      <td>1980-12-17</td>\n",
              "      <td>25.87</td>\n",
              "      <td>26.00</td>\n",
              "      <td>25.87</td>\n",
              "      <td>25.87</td>\n",
              "      <td>21610400</td>\n",
              "      <td>0.40</td>\n",
              "    </tr>\n",
              "    <tr>\n",
              "      <th>8462</th>\n",
              "      <td>1980-12-16</td>\n",
              "      <td>25.37</td>\n",
              "      <td>25.37</td>\n",
              "      <td>25.25</td>\n",
              "      <td>25.25</td>\n",
              "      <td>26432000</td>\n",
              "      <td>0.39</td>\n",
              "    </tr>\n",
              "    <tr>\n",
              "      <th>8463</th>\n",
              "      <td>1980-12-15</td>\n",
              "      <td>27.38</td>\n",
              "      <td>27.38</td>\n",
              "      <td>27.25</td>\n",
              "      <td>27.25</td>\n",
              "      <td>43971200</td>\n",
              "      <td>0.42</td>\n",
              "    </tr>\n",
              "    <tr>\n",
              "      <th>8464</th>\n",
              "      <td>1980-12-12</td>\n",
              "      <td>28.75</td>\n",
              "      <td>28.87</td>\n",
              "      <td>28.75</td>\n",
              "      <td>28.75</td>\n",
              "      <td>117258400</td>\n",
              "      <td>0.45</td>\n",
              "    </tr>\n",
              "  </tbody>\n",
              "</table>\n",
              "<p>8465 rows × 7 columns</p>\n",
              "</div>"
            ],
            "text/plain": [
              "            Date   Open   High    Low  Close     Volume  Adj Close\n",
              "0     2014-07-08  96.27  96.80  93.92  95.35   65130000      95.35\n",
              "1     2014-07-07  94.14  95.99  94.10  95.97   56305400      95.97\n",
              "2     2014-07-03  93.67  94.10  93.20  94.03   22891800      94.03\n",
              "3     2014-07-02  93.87  94.06  93.09  93.48   28420900      93.48\n",
              "4     2014-07-01  93.52  94.07  93.13  93.52   38170200      93.52\n",
              "...          ...    ...    ...    ...    ...        ...        ...\n",
              "8460  1980-12-18  26.63  26.75  26.63  26.63   18362400       0.41\n",
              "8461  1980-12-17  25.87  26.00  25.87  25.87   21610400       0.40\n",
              "8462  1980-12-16  25.37  25.37  25.25  25.25   26432000       0.39\n",
              "8463  1980-12-15  27.38  27.38  27.25  27.25   43971200       0.42\n",
              "8464  1980-12-12  28.75  28.87  28.75  28.75  117258400       0.45\n",
              "\n",
              "[8465 rows x 7 columns]"
            ]
          },
          "metadata": {
            "tags": []
          },
          "execution_count": 44
        }
      ]
    },
    {
      "cell_type": "code",
      "metadata": {
        "id": "XFHIjtYGPNTA",
        "colab": {
          "base_uri": "https://localhost:8080/"
        },
        "outputId": "cdd10a6b-8cd0-418c-ef13-fb15bdb7a956"
      },
      "source": [
        "df.info()"
      ],
      "execution_count": null,
      "outputs": [
        {
          "output_type": "stream",
          "text": [
            "<class 'pandas.core.frame.DataFrame'>\n",
            "RangeIndex: 8465 entries, 0 to 8464\n",
            "Data columns (total 7 columns):\n",
            " #   Column     Non-Null Count  Dtype  \n",
            "---  ------     --------------  -----  \n",
            " 0   Date       8465 non-null   object \n",
            " 1   Open       8465 non-null   float64\n",
            " 2   High       8465 non-null   float64\n",
            " 3   Low        8465 non-null   float64\n",
            " 4   Close      8465 non-null   float64\n",
            " 5   Volume     8465 non-null   int64  \n",
            " 6   Adj Close  8465 non-null   float64\n",
            "dtypes: float64(5), int64(1), object(1)\n",
            "memory usage: 463.1+ KB\n"
          ],
          "name": "stdout"
        }
      ]
    },
    {
      "cell_type": "code",
      "metadata": {
        "colab": {
          "base_uri": "https://localhost:8080/"
        },
        "id": "MDGLGFgpzIcx",
        "outputId": "53a6f372-8dec-4f32-c4d3-9837660eb6bf"
      },
      "source": [
        "df['Date']= pd.to_datetime(df['Date'])\r\n",
        "df.dtypes"
      ],
      "execution_count": null,
      "outputs": [
        {
          "output_type": "execute_result",
          "data": {
            "text/plain": [
              "Date         datetime64[ns]\n",
              "Open                float64\n",
              "High                float64\n",
              "Low                 float64\n",
              "Close               float64\n",
              "Volume                int64\n",
              "Adj Close           float64\n",
              "dtype: object"
            ]
          },
          "metadata": {
            "tags": []
          },
          "execution_count": 49
        }
      ]
    },
    {
      "cell_type": "code",
      "metadata": {
        "colab": {
          "base_uri": "https://localhost:8080/",
          "height": 436
        },
        "id": "nP7xb2dE1Q4F",
        "outputId": "bc24e651-a243-4b64-f2c7-866c9122c76b"
      },
      "source": [
        "df2=df.copy()\r\n",
        "df2=df2.set_index('Date')\r\n",
        "df2"
      ],
      "execution_count": null,
      "outputs": [
        {
          "output_type": "execute_result",
          "data": {
            "text/html": [
              "<div>\n",
              "<style scoped>\n",
              "    .dataframe tbody tr th:only-of-type {\n",
              "        vertical-align: middle;\n",
              "    }\n",
              "\n",
              "    .dataframe tbody tr th {\n",
              "        vertical-align: top;\n",
              "    }\n",
              "\n",
              "    .dataframe thead th {\n",
              "        text-align: right;\n",
              "    }\n",
              "</style>\n",
              "<table border=\"1\" class=\"dataframe\">\n",
              "  <thead>\n",
              "    <tr style=\"text-align: right;\">\n",
              "      <th></th>\n",
              "      <th>Open</th>\n",
              "      <th>High</th>\n",
              "      <th>Low</th>\n",
              "      <th>Close</th>\n",
              "      <th>Volume</th>\n",
              "      <th>Adj Close</th>\n",
              "    </tr>\n",
              "    <tr>\n",
              "      <th>Date</th>\n",
              "      <th></th>\n",
              "      <th></th>\n",
              "      <th></th>\n",
              "      <th></th>\n",
              "      <th></th>\n",
              "      <th></th>\n",
              "    </tr>\n",
              "  </thead>\n",
              "  <tbody>\n",
              "    <tr>\n",
              "      <th>2014-07-08</th>\n",
              "      <td>96.27</td>\n",
              "      <td>96.80</td>\n",
              "      <td>93.92</td>\n",
              "      <td>95.35</td>\n",
              "      <td>65130000</td>\n",
              "      <td>95.35</td>\n",
              "    </tr>\n",
              "    <tr>\n",
              "      <th>2014-07-07</th>\n",
              "      <td>94.14</td>\n",
              "      <td>95.99</td>\n",
              "      <td>94.10</td>\n",
              "      <td>95.97</td>\n",
              "      <td>56305400</td>\n",
              "      <td>95.97</td>\n",
              "    </tr>\n",
              "    <tr>\n",
              "      <th>2014-07-03</th>\n",
              "      <td>93.67</td>\n",
              "      <td>94.10</td>\n",
              "      <td>93.20</td>\n",
              "      <td>94.03</td>\n",
              "      <td>22891800</td>\n",
              "      <td>94.03</td>\n",
              "    </tr>\n",
              "    <tr>\n",
              "      <th>2014-07-02</th>\n",
              "      <td>93.87</td>\n",
              "      <td>94.06</td>\n",
              "      <td>93.09</td>\n",
              "      <td>93.48</td>\n",
              "      <td>28420900</td>\n",
              "      <td>93.48</td>\n",
              "    </tr>\n",
              "    <tr>\n",
              "      <th>2014-07-01</th>\n",
              "      <td>93.52</td>\n",
              "      <td>94.07</td>\n",
              "      <td>93.13</td>\n",
              "      <td>93.52</td>\n",
              "      <td>38170200</td>\n",
              "      <td>93.52</td>\n",
              "    </tr>\n",
              "    <tr>\n",
              "      <th>...</th>\n",
              "      <td>...</td>\n",
              "      <td>...</td>\n",
              "      <td>...</td>\n",
              "      <td>...</td>\n",
              "      <td>...</td>\n",
              "      <td>...</td>\n",
              "    </tr>\n",
              "    <tr>\n",
              "      <th>1980-12-18</th>\n",
              "      <td>26.63</td>\n",
              "      <td>26.75</td>\n",
              "      <td>26.63</td>\n",
              "      <td>26.63</td>\n",
              "      <td>18362400</td>\n",
              "      <td>0.41</td>\n",
              "    </tr>\n",
              "    <tr>\n",
              "      <th>1980-12-17</th>\n",
              "      <td>25.87</td>\n",
              "      <td>26.00</td>\n",
              "      <td>25.87</td>\n",
              "      <td>25.87</td>\n",
              "      <td>21610400</td>\n",
              "      <td>0.40</td>\n",
              "    </tr>\n",
              "    <tr>\n",
              "      <th>1980-12-16</th>\n",
              "      <td>25.37</td>\n",
              "      <td>25.37</td>\n",
              "      <td>25.25</td>\n",
              "      <td>25.25</td>\n",
              "      <td>26432000</td>\n",
              "      <td>0.39</td>\n",
              "    </tr>\n",
              "    <tr>\n",
              "      <th>1980-12-15</th>\n",
              "      <td>27.38</td>\n",
              "      <td>27.38</td>\n",
              "      <td>27.25</td>\n",
              "      <td>27.25</td>\n",
              "      <td>43971200</td>\n",
              "      <td>0.42</td>\n",
              "    </tr>\n",
              "    <tr>\n",
              "      <th>1980-12-12</th>\n",
              "      <td>28.75</td>\n",
              "      <td>28.87</td>\n",
              "      <td>28.75</td>\n",
              "      <td>28.75</td>\n",
              "      <td>117258400</td>\n",
              "      <td>0.45</td>\n",
              "    </tr>\n",
              "  </tbody>\n",
              "</table>\n",
              "<p>8465 rows × 6 columns</p>\n",
              "</div>"
            ],
            "text/plain": [
              "             Open   High    Low  Close     Volume  Adj Close\n",
              "Date                                                        \n",
              "2014-07-08  96.27  96.80  93.92  95.35   65130000      95.35\n",
              "2014-07-07  94.14  95.99  94.10  95.97   56305400      95.97\n",
              "2014-07-03  93.67  94.10  93.20  94.03   22891800      94.03\n",
              "2014-07-02  93.87  94.06  93.09  93.48   28420900      93.48\n",
              "2014-07-01  93.52  94.07  93.13  93.52   38170200      93.52\n",
              "...           ...    ...    ...    ...        ...        ...\n",
              "1980-12-18  26.63  26.75  26.63  26.63   18362400       0.41\n",
              "1980-12-17  25.87  26.00  25.87  25.87   21610400       0.40\n",
              "1980-12-16  25.37  25.37  25.25  25.25   26432000       0.39\n",
              "1980-12-15  27.38  27.38  27.25  27.25   43971200       0.42\n",
              "1980-12-12  28.75  28.87  28.75  28.75  117258400       0.45\n",
              "\n",
              "[8465 rows x 6 columns]"
            ]
          },
          "metadata": {
            "tags": []
          },
          "execution_count": 59
        }
      ]
    },
    {
      "cell_type": "code",
      "metadata": {
        "colab": {
          "base_uri": "https://localhost:8080/",
          "height": 47
        },
        "id": "toqWXjuM3G84",
        "outputId": "dd3d2bf8-5b3a-43ed-accd-d203fde08379"
      },
      "source": [
        "df[df.duplicated(subset = ['Date'])]"
      ],
      "execution_count": null,
      "outputs": [
        {
          "output_type": "execute_result",
          "data": {
            "text/html": [
              "<div>\n",
              "<style scoped>\n",
              "    .dataframe tbody tr th:only-of-type {\n",
              "        vertical-align: middle;\n",
              "    }\n",
              "\n",
              "    .dataframe tbody tr th {\n",
              "        vertical-align: top;\n",
              "    }\n",
              "\n",
              "    .dataframe thead th {\n",
              "        text-align: right;\n",
              "    }\n",
              "</style>\n",
              "<table border=\"1\" class=\"dataframe\">\n",
              "  <thead>\n",
              "    <tr style=\"text-align: right;\">\n",
              "      <th></th>\n",
              "      <th>Date</th>\n",
              "      <th>Open</th>\n",
              "      <th>High</th>\n",
              "      <th>Low</th>\n",
              "      <th>Close</th>\n",
              "      <th>Volume</th>\n",
              "      <th>Adj Close</th>\n",
              "    </tr>\n",
              "  </thead>\n",
              "  <tbody>\n",
              "  </tbody>\n",
              "</table>\n",
              "</div>"
            ],
            "text/plain": [
              "Empty DataFrame\n",
              "Columns: [Date, Open, High, Low, Close, Volume, Adj Close]\n",
              "Index: []"
            ]
          },
          "metadata": {
            "tags": []
          },
          "execution_count": 64
        }
      ]
    },
    {
      "cell_type": "code",
      "metadata": {
        "id": "qHSknqWZMD5A"
      },
      "source": [
        "df4=pd.date_range('1/1/2020', periods=12, freq='BM')"
      ],
      "execution_count": null,
      "outputs": []
    },
    {
      "cell_type": "code",
      "metadata": {
        "colab": {
          "base_uri": "https://localhost:8080/"
        },
        "id": "GcD9_sAdceWv",
        "outputId": "90a38971-3556-4c99-ad52-095c17d7fdcd"
      },
      "source": [
        "df4[11]-df4[0]"
      ],
      "execution_count": null,
      "outputs": [
        {
          "output_type": "execute_result",
          "data": {
            "text/plain": [
              "Timedelta('335 days 00:00:00')"
            ]
          },
          "metadata": {
            "tags": []
          },
          "execution_count": 71
        }
      ]
    },
    {
      "cell_type": "code",
      "metadata": {
        "colab": {
          "base_uri": "https://localhost:8080/"
        },
        "id": "j2UHUFn6qLYL",
        "outputId": "37c12d34-033f-4883-e23b-a7451deb7e59"
      },
      "source": [
        "enddt=df['Date'].max()\r\n",
        "startdt=df['Date'].min()\r\n",
        "print(enddt,startdt)"
      ],
      "execution_count": null,
      "outputs": [
        {
          "output_type": "stream",
          "text": [
            "2014-07-08 00:00:00 1980-12-12 00:00:00\n"
          ],
          "name": "stdout"
        }
      ]
    },
    {
      "cell_type": "code",
      "metadata": {
        "colab": {
          "base_uri": "https://localhost:8080/"
        },
        "id": "Te7bmfoPvspl",
        "outputId": "aaf99245-b70c-4260-de05-fcafdb042288"
      },
      "source": [
        "len(pd.date_range(start=startdt,end=enddt,freq='M')) #кол-во месяцев в периоде"
      ],
      "execution_count": null,
      "outputs": [
        {
          "output_type": "execute_result",
          "data": {
            "text/plain": [
              "403"
            ]
          },
          "metadata": {
            "tags": []
          },
          "execution_count": 84
        }
      ]
    },
    {
      "cell_type": "code",
      "metadata": {
        "id": "X68qf_Irj8j5"
      },
      "source": [
        ""
      ],
      "execution_count": null,
      "outputs": []
    }
  ]
}